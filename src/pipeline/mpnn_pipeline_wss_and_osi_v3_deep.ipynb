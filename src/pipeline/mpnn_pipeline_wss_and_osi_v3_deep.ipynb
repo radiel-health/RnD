{
  "cells": [
    {
      "cell_type": "markdown",
      "id": "a1fd0930",
      "metadata": {
        "id": "a1fd0930"
      },
      "source": [
        "MPNN Pipeline: Train on Idealized -> Test on Realistic\n",
        "\n",
        "Multi-output MPNN to predict both TAWSS and OSI on AV graft meshes, training on idealized meshes and testing on realistic ones."
      ]
    },
    {
      "cell_type": "markdown",
      "source": [
        "Hypothesis: Applying nonlinearity to the edge representations (i.e. applying a transformation to edge features) before aggregating to the nodes will improve performance. Performance should beat previous augmented GNN model. Result: (HuberLoss down to 0.5588 from 0.5713)\n",
        "\n",
        "Experiment:\n",
        "Let's try ramping up the edge features from 16 to 64, adding another GCNConv Layer and setting hidden number from 128 to 256."
      ],
      "metadata": {
        "id": "p4nfU8FktZrS"
      },
      "id": "p4nfU8FktZrS"
    },
    {
      "cell_type": "code",
      "execution_count": null,
      "id": "d1df37ac",
      "metadata": {
        "id": "d1df37ac",
        "outputId": "7f6589a8-29cb-4192-cce0-931b0527845b",
        "colab": {
          "base_uri": "https://localhost:8080/"
        }
      },
      "outputs": [
        {
          "output_type": "stream",
          "name": "stdout",
          "text": [
            "Requirement already satisfied: torch in /usr/local/lib/python3.11/dist-packages (2.6.0+cu124)\n",
            "Collecting torch-geometric\n",
            "  Downloading torch_geometric-2.6.1-py3-none-any.whl.metadata (63 kB)\n",
            "\u001b[?25l     \u001b[90m━━━━━━━━━━━━━━━━━━━━━━━━━━━━━━━━━━━━━━━━\u001b[0m \u001b[32m0.0/63.1 kB\u001b[0m \u001b[31m?\u001b[0m eta \u001b[36m-:--:--\u001b[0m\r\u001b[2K     \u001b[90m━━━━━━━━━━━━━━━━━━━━━━━━━━━━━━━━━━━━━━━━\u001b[0m \u001b[32m63.1/63.1 kB\u001b[0m \u001b[31m3.0 MB/s\u001b[0m eta \u001b[36m0:00:00\u001b[0m\n",
            "\u001b[?25hCollecting meshio\n",
            "  Downloading meshio-5.3.5-py3-none-any.whl.metadata (11 kB)\n",
            "Requirement already satisfied: numpy in /usr/local/lib/python3.11/dist-packages (2.0.2)\n",
            "Requirement already satisfied: matplotlib in /usr/local/lib/python3.11/dist-packages (3.10.0)\n",
            "Requirement already satisfied: filelock in /usr/local/lib/python3.11/dist-packages (from torch) (3.18.0)\n",
            "Requirement already satisfied: typing-extensions>=4.10.0 in /usr/local/lib/python3.11/dist-packages (from torch) (4.13.2)\n",
            "Requirement already satisfied: networkx in /usr/local/lib/python3.11/dist-packages (from torch) (3.4.2)\n",
            "Requirement already satisfied: jinja2 in /usr/local/lib/python3.11/dist-packages (from torch) (3.1.6)\n",
            "Requirement already satisfied: fsspec in /usr/local/lib/python3.11/dist-packages (from torch) (2025.3.2)\n",
            "Collecting nvidia-cuda-nvrtc-cu12==12.4.127 (from torch)\n",
            "  Downloading nvidia_cuda_nvrtc_cu12-12.4.127-py3-none-manylinux2014_x86_64.whl.metadata (1.5 kB)\n",
            "Collecting nvidia-cuda-runtime-cu12==12.4.127 (from torch)\n",
            "  Downloading nvidia_cuda_runtime_cu12-12.4.127-py3-none-manylinux2014_x86_64.whl.metadata (1.5 kB)\n",
            "Collecting nvidia-cuda-cupti-cu12==12.4.127 (from torch)\n",
            "  Downloading nvidia_cuda_cupti_cu12-12.4.127-py3-none-manylinux2014_x86_64.whl.metadata (1.6 kB)\n",
            "Collecting nvidia-cudnn-cu12==9.1.0.70 (from torch)\n",
            "  Downloading nvidia_cudnn_cu12-9.1.0.70-py3-none-manylinux2014_x86_64.whl.metadata (1.6 kB)\n",
            "Collecting nvidia-cublas-cu12==12.4.5.8 (from torch)\n",
            "  Downloading nvidia_cublas_cu12-12.4.5.8-py3-none-manylinux2014_x86_64.whl.metadata (1.5 kB)\n",
            "Collecting nvidia-cufft-cu12==11.2.1.3 (from torch)\n",
            "  Downloading nvidia_cufft_cu12-11.2.1.3-py3-none-manylinux2014_x86_64.whl.metadata (1.5 kB)\n",
            "Collecting nvidia-curand-cu12==10.3.5.147 (from torch)\n",
            "  Downloading nvidia_curand_cu12-10.3.5.147-py3-none-manylinux2014_x86_64.whl.metadata (1.5 kB)\n",
            "Collecting nvidia-cusolver-cu12==11.6.1.9 (from torch)\n",
            "  Downloading nvidia_cusolver_cu12-11.6.1.9-py3-none-manylinux2014_x86_64.whl.metadata (1.6 kB)\n",
            "Collecting nvidia-cusparse-cu12==12.3.1.170 (from torch)\n",
            "  Downloading nvidia_cusparse_cu12-12.3.1.170-py3-none-manylinux2014_x86_64.whl.metadata (1.6 kB)\n",
            "Requirement already satisfied: nvidia-cusparselt-cu12==0.6.2 in /usr/local/lib/python3.11/dist-packages (from torch) (0.6.2)\n",
            "Requirement already satisfied: nvidia-nccl-cu12==2.21.5 in /usr/local/lib/python3.11/dist-packages (from torch) (2.21.5)\n",
            "Requirement already satisfied: nvidia-nvtx-cu12==12.4.127 in /usr/local/lib/python3.11/dist-packages (from torch) (12.4.127)\n",
            "Collecting nvidia-nvjitlink-cu12==12.4.127 (from torch)\n",
            "  Downloading nvidia_nvjitlink_cu12-12.4.127-py3-none-manylinux2014_x86_64.whl.metadata (1.5 kB)\n",
            "Requirement already satisfied: triton==3.2.0 in /usr/local/lib/python3.11/dist-packages (from torch) (3.2.0)\n",
            "Requirement already satisfied: sympy==1.13.1 in /usr/local/lib/python3.11/dist-packages (from torch) (1.13.1)\n",
            "Requirement already satisfied: mpmath<1.4,>=1.1.0 in /usr/local/lib/python3.11/dist-packages (from sympy==1.13.1->torch) (1.3.0)\n",
            "Requirement already satisfied: aiohttp in /usr/local/lib/python3.11/dist-packages (from torch-geometric) (3.11.15)\n",
            "Requirement already satisfied: psutil>=5.8.0 in /usr/local/lib/python3.11/dist-packages (from torch-geometric) (5.9.5)\n",
            "Requirement already satisfied: pyparsing in /usr/local/lib/python3.11/dist-packages (from torch-geometric) (3.2.3)\n",
            "Requirement already satisfied: requests in /usr/local/lib/python3.11/dist-packages (from torch-geometric) (2.32.3)\n",
            "Requirement already satisfied: tqdm in /usr/local/lib/python3.11/dist-packages (from torch-geometric) (4.67.1)\n",
            "Requirement already satisfied: rich in /usr/local/lib/python3.11/dist-packages (from meshio) (13.9.4)\n",
            "Requirement already satisfied: contourpy>=1.0.1 in /usr/local/lib/python3.11/dist-packages (from matplotlib) (1.3.2)\n",
            "Requirement already satisfied: cycler>=0.10 in /usr/local/lib/python3.11/dist-packages (from matplotlib) (0.12.1)\n",
            "Requirement already satisfied: fonttools>=4.22.0 in /usr/local/lib/python3.11/dist-packages (from matplotlib) (4.58.0)\n",
            "Requirement already satisfied: kiwisolver>=1.3.1 in /usr/local/lib/python3.11/dist-packages (from matplotlib) (1.4.8)\n",
            "Requirement already satisfied: packaging>=20.0 in /usr/local/lib/python3.11/dist-packages (from matplotlib) (24.2)\n",
            "Requirement already satisfied: pillow>=8 in /usr/local/lib/python3.11/dist-packages (from matplotlib) (11.2.1)\n",
            "Requirement already satisfied: python-dateutil>=2.7 in /usr/local/lib/python3.11/dist-packages (from matplotlib) (2.9.0.post0)\n",
            "Requirement already satisfied: six>=1.5 in /usr/local/lib/python3.11/dist-packages (from python-dateutil>=2.7->matplotlib) (1.17.0)\n",
            "Requirement already satisfied: aiohappyeyeballs>=2.3.0 in /usr/local/lib/python3.11/dist-packages (from aiohttp->torch-geometric) (2.6.1)\n",
            "Requirement already satisfied: aiosignal>=1.1.2 in /usr/local/lib/python3.11/dist-packages (from aiohttp->torch-geometric) (1.3.2)\n",
            "Requirement already satisfied: attrs>=17.3.0 in /usr/local/lib/python3.11/dist-packages (from aiohttp->torch-geometric) (25.3.0)\n",
            "Requirement already satisfied: frozenlist>=1.1.1 in /usr/local/lib/python3.11/dist-packages (from aiohttp->torch-geometric) (1.6.0)\n",
            "Requirement already satisfied: multidict<7.0,>=4.5 in /usr/local/lib/python3.11/dist-packages (from aiohttp->torch-geometric) (6.4.3)\n",
            "Requirement already satisfied: propcache>=0.2.0 in /usr/local/lib/python3.11/dist-packages (from aiohttp->torch-geometric) (0.3.1)\n",
            "Requirement already satisfied: yarl<2.0,>=1.17.0 in /usr/local/lib/python3.11/dist-packages (from aiohttp->torch-geometric) (1.20.0)\n",
            "Requirement already satisfied: MarkupSafe>=2.0 in /usr/local/lib/python3.11/dist-packages (from jinja2->torch) (3.0.2)\n",
            "Requirement already satisfied: charset-normalizer<4,>=2 in /usr/local/lib/python3.11/dist-packages (from requests->torch-geometric) (3.4.2)\n",
            "Requirement already satisfied: idna<4,>=2.5 in /usr/local/lib/python3.11/dist-packages (from requests->torch-geometric) (3.10)\n",
            "Requirement already satisfied: urllib3<3,>=1.21.1 in /usr/local/lib/python3.11/dist-packages (from requests->torch-geometric) (2.4.0)\n",
            "Requirement already satisfied: certifi>=2017.4.17 in /usr/local/lib/python3.11/dist-packages (from requests->torch-geometric) (2025.4.26)\n",
            "Requirement already satisfied: markdown-it-py>=2.2.0 in /usr/local/lib/python3.11/dist-packages (from rich->meshio) (3.0.0)\n",
            "Requirement already satisfied: pygments<3.0.0,>=2.13.0 in /usr/local/lib/python3.11/dist-packages (from rich->meshio) (2.19.1)\n",
            "Requirement already satisfied: mdurl~=0.1 in /usr/local/lib/python3.11/dist-packages (from markdown-it-py>=2.2.0->rich->meshio) (0.1.2)\n",
            "Downloading nvidia_cublas_cu12-12.4.5.8-py3-none-manylinux2014_x86_64.whl (363.4 MB)\n",
            "\u001b[2K   \u001b[90m━━━━━━━━━━━━━━━━━━━━━━━━━━━━━━━━━━━━━━━━\u001b[0m \u001b[32m363.4/363.4 MB\u001b[0m \u001b[31m3.8 MB/s\u001b[0m eta \u001b[36m0:00:00\u001b[0m\n",
            "\u001b[?25hDownloading nvidia_cuda_cupti_cu12-12.4.127-py3-none-manylinux2014_x86_64.whl (13.8 MB)\n",
            "\u001b[2K   \u001b[90m━━━━━━━━━━━━━━━━━━━━━━━━━━━━━━━━━━━━━━━━\u001b[0m \u001b[32m13.8/13.8 MB\u001b[0m \u001b[31m90.3 MB/s\u001b[0m eta \u001b[36m0:00:00\u001b[0m\n",
            "\u001b[?25hDownloading nvidia_cuda_nvrtc_cu12-12.4.127-py3-none-manylinux2014_x86_64.whl (24.6 MB)\n",
            "\u001b[2K   \u001b[90m━━━━━━━━━━━━━━━━━━━━━━━━━━━━━━━━━━━━━━━━\u001b[0m \u001b[32m24.6/24.6 MB\u001b[0m \u001b[31m64.1 MB/s\u001b[0m eta \u001b[36m0:00:00\u001b[0m\n",
            "\u001b[?25hDownloading nvidia_cuda_runtime_cu12-12.4.127-py3-none-manylinux2014_x86_64.whl (883 kB)\n",
            "\u001b[2K   \u001b[90m━━━━━━━━━━━━━━━━━━━━━━━━━━━━━━━━━━━━━━━━\u001b[0m \u001b[32m883.7/883.7 kB\u001b[0m \u001b[31m55.9 MB/s\u001b[0m eta \u001b[36m0:00:00\u001b[0m\n",
            "\u001b[?25hDownloading nvidia_cudnn_cu12-9.1.0.70-py3-none-manylinux2014_x86_64.whl (664.8 MB)\n",
            "\u001b[2K   \u001b[90m━━━━━━━━━━━━━━━━━━━━━━━━━━━━━━━━━━━━━━━━\u001b[0m \u001b[32m664.8/664.8 MB\u001b[0m \u001b[31m3.1 MB/s\u001b[0m eta \u001b[36m0:00:00\u001b[0m\n",
            "\u001b[?25hDownloading nvidia_cufft_cu12-11.2.1.3-py3-none-manylinux2014_x86_64.whl (211.5 MB)\n",
            "\u001b[2K   \u001b[90m━━━━━━━━━━━━━━━━━━━━━━━━━━━━━━━━━━━━━━━━\u001b[0m \u001b[32m211.5/211.5 MB\u001b[0m \u001b[31m6.3 MB/s\u001b[0m eta \u001b[36m0:00:00\u001b[0m\n",
            "\u001b[?25hDownloading nvidia_curand_cu12-10.3.5.147-py3-none-manylinux2014_x86_64.whl (56.3 MB)\n",
            "\u001b[2K   \u001b[90m━━━━━━━━━━━━━━━━━━━━━━━━━━━━━━━━━━━━━━━━\u001b[0m \u001b[32m56.3/56.3 MB\u001b[0m \u001b[31m15.0 MB/s\u001b[0m eta \u001b[36m0:00:00\u001b[0m\n",
            "\u001b[?25hDownloading nvidia_cusolver_cu12-11.6.1.9-py3-none-manylinux2014_x86_64.whl (127.9 MB)\n",
            "\u001b[2K   \u001b[90m━━━━━━━━━━━━━━━━━━━━━━━━━━━━━━━━━━━━━━━━\u001b[0m \u001b[32m127.9/127.9 MB\u001b[0m \u001b[31m7.6 MB/s\u001b[0m eta \u001b[36m0:00:00\u001b[0m\n",
            "\u001b[?25hDownloading nvidia_cusparse_cu12-12.3.1.170-py3-none-manylinux2014_x86_64.whl (207.5 MB)\n",
            "\u001b[2K   \u001b[90m━━━━━━━━━━━━━━━━━━━━━━━━━━━━━━━━━━━━━━━━\u001b[0m \u001b[32m207.5/207.5 MB\u001b[0m \u001b[31m5.7 MB/s\u001b[0m eta \u001b[36m0:00:00\u001b[0m\n",
            "\u001b[?25hDownloading nvidia_nvjitlink_cu12-12.4.127-py3-none-manylinux2014_x86_64.whl (21.1 MB)\n",
            "\u001b[2K   \u001b[90m━━━━━━━━━━━━━━━━━━━━━━━━━━━━━━━━━━━━━━━━\u001b[0m \u001b[32m21.1/21.1 MB\u001b[0m \u001b[31m99.9 MB/s\u001b[0m eta \u001b[36m0:00:00\u001b[0m\n",
            "\u001b[?25hDownloading torch_geometric-2.6.1-py3-none-any.whl (1.1 MB)\n",
            "\u001b[2K   \u001b[90m━━━━━━━━━━━━━━━━━━━━━━━━━━━━━━━━━━━━━━━━\u001b[0m \u001b[32m1.1/1.1 MB\u001b[0m \u001b[31m72.7 MB/s\u001b[0m eta \u001b[36m0:00:00\u001b[0m\n",
            "\u001b[?25hDownloading meshio-5.3.5-py3-none-any.whl (166 kB)\n",
            "\u001b[2K   \u001b[90m━━━━━━━━━━━━━━━━━━━━━━━━━━━━━━━━━━━━━━━━\u001b[0m \u001b[32m166.2/166.2 kB\u001b[0m \u001b[31m16.6 MB/s\u001b[0m eta \u001b[36m0:00:00\u001b[0m\n",
            "\u001b[?25hInstalling collected packages: nvidia-nvjitlink-cu12, nvidia-curand-cu12, nvidia-cufft-cu12, nvidia-cuda-runtime-cu12, nvidia-cuda-nvrtc-cu12, nvidia-cuda-cupti-cu12, nvidia-cublas-cu12, nvidia-cusparse-cu12, nvidia-cudnn-cu12, torch-geometric, nvidia-cusolver-cu12, meshio\n",
            "  Attempting uninstall: nvidia-nvjitlink-cu12\n",
            "    Found existing installation: nvidia-nvjitlink-cu12 12.5.82\n",
            "    Uninstalling nvidia-nvjitlink-cu12-12.5.82:\n",
            "      Successfully uninstalled nvidia-nvjitlink-cu12-12.5.82\n",
            "  Attempting uninstall: nvidia-curand-cu12\n",
            "    Found existing installation: nvidia-curand-cu12 10.3.6.82\n",
            "    Uninstalling nvidia-curand-cu12-10.3.6.82:\n",
            "      Successfully uninstalled nvidia-curand-cu12-10.3.6.82\n",
            "  Attempting uninstall: nvidia-cufft-cu12\n",
            "    Found existing installation: nvidia-cufft-cu12 11.2.3.61\n",
            "    Uninstalling nvidia-cufft-cu12-11.2.3.61:\n",
            "      Successfully uninstalled nvidia-cufft-cu12-11.2.3.61\n",
            "  Attempting uninstall: nvidia-cuda-runtime-cu12\n",
            "    Found existing installation: nvidia-cuda-runtime-cu12 12.5.82\n",
            "    Uninstalling nvidia-cuda-runtime-cu12-12.5.82:\n",
            "      Successfully uninstalled nvidia-cuda-runtime-cu12-12.5.82\n",
            "  Attempting uninstall: nvidia-cuda-nvrtc-cu12\n",
            "    Found existing installation: nvidia-cuda-nvrtc-cu12 12.5.82\n",
            "    Uninstalling nvidia-cuda-nvrtc-cu12-12.5.82:\n",
            "      Successfully uninstalled nvidia-cuda-nvrtc-cu12-12.5.82\n",
            "  Attempting uninstall: nvidia-cuda-cupti-cu12\n",
            "    Found existing installation: nvidia-cuda-cupti-cu12 12.5.82\n",
            "    Uninstalling nvidia-cuda-cupti-cu12-12.5.82:\n",
            "      Successfully uninstalled nvidia-cuda-cupti-cu12-12.5.82\n",
            "  Attempting uninstall: nvidia-cublas-cu12\n",
            "    Found existing installation: nvidia-cublas-cu12 12.5.3.2\n",
            "    Uninstalling nvidia-cublas-cu12-12.5.3.2:\n",
            "      Successfully uninstalled nvidia-cublas-cu12-12.5.3.2\n",
            "  Attempting uninstall: nvidia-cusparse-cu12\n",
            "    Found existing installation: nvidia-cusparse-cu12 12.5.1.3\n",
            "    Uninstalling nvidia-cusparse-cu12-12.5.1.3:\n",
            "      Successfully uninstalled nvidia-cusparse-cu12-12.5.1.3\n",
            "  Attempting uninstall: nvidia-cudnn-cu12\n",
            "    Found existing installation: nvidia-cudnn-cu12 9.3.0.75\n",
            "    Uninstalling nvidia-cudnn-cu12-9.3.0.75:\n",
            "      Successfully uninstalled nvidia-cudnn-cu12-9.3.0.75\n",
            "  Attempting uninstall: nvidia-cusolver-cu12\n",
            "    Found existing installation: nvidia-cusolver-cu12 11.6.3.83\n",
            "    Uninstalling nvidia-cusolver-cu12-11.6.3.83:\n",
            "      Successfully uninstalled nvidia-cusolver-cu12-11.6.3.83\n",
            "Successfully installed meshio-5.3.5 nvidia-cublas-cu12-12.4.5.8 nvidia-cuda-cupti-cu12-12.4.127 nvidia-cuda-nvrtc-cu12-12.4.127 nvidia-cuda-runtime-cu12-12.4.127 nvidia-cudnn-cu12-9.1.0.70 nvidia-cufft-cu12-11.2.1.3 nvidia-curand-cu12-10.3.5.147 nvidia-cusolver-cu12-11.6.1.9 nvidia-cusparse-cu12-12.3.1.170 nvidia-nvjitlink-cu12-12.4.127 torch-geometric-2.6.1\n"
          ]
        }
      ],
      "source": [
        "%pip install torch torch-geometric meshio numpy matplotlib"
      ]
    },
    {
      "cell_type": "code",
      "source": [
        "!pip install tqdm trimesh"
      ],
      "metadata": {
        "colab": {
          "base_uri": "https://localhost:8080/"
        },
        "id": "HXkF2qcXcaD5",
        "outputId": "278629af-e5e2-4d83-d251-332e095424aa"
      },
      "id": "HXkF2qcXcaD5",
      "execution_count": null,
      "outputs": [
        {
          "output_type": "stream",
          "name": "stdout",
          "text": [
            "Requirement already satisfied: tqdm in /usr/local/lib/python3.11/dist-packages (4.67.1)\n",
            "Collecting trimesh\n",
            "  Downloading trimesh-4.6.9-py3-none-any.whl.metadata (18 kB)\n",
            "Requirement already satisfied: numpy>=1.20 in /usr/local/lib/python3.11/dist-packages (from trimesh) (2.0.2)\n",
            "Downloading trimesh-4.6.9-py3-none-any.whl (711 kB)\n",
            "\u001b[2K   \u001b[90m━━━━━━━━━━━━━━━━━━━━━━━━━━━━━━━━━━━━━━━━\u001b[0m \u001b[32m711.1/711.1 kB\u001b[0m \u001b[31m14.2 MB/s\u001b[0m eta \u001b[36m0:00:00\u001b[0m\n",
            "\u001b[?25hInstalling collected packages: trimesh\n",
            "Successfully installed trimesh-4.6.9\n"
          ]
        }
      ]
    },
    {
      "cell_type": "code",
      "source": [
        "!pwd\n",
        "!ls\n",
        "!unzip data.zip -d ."
      ],
      "metadata": {
        "colab": {
          "base_uri": "https://localhost:8080/"
        },
        "id": "7PBctietbk4l",
        "outputId": "f39ff881-5a99-4d8e-bb39-4bcd07156865"
      },
      "id": "7PBctietbk4l",
      "execution_count": null,
      "outputs": [
        {
          "output_type": "stream",
          "name": "stdout",
          "text": [
            "/content\n",
            "data.zip  sample_data\n",
            "Archive:  data.zip\n",
            "   creating: ./data/\n",
            "   creating: ./data/Realistic/\n",
            "   creating: ./data/Idealized/\n",
            "  inflating: ./data/Data description.txt  \n",
            "   creating: ./data/Realistic/derived_cfd_metrics/\n",
            "   creating: ./data/Idealized/derived_cfd_metrics/\n",
            "  inflating: ./data/Realistic/derived_cfd_metrics/pt01rZCRCZ_turb_metric.h5  \n",
            "  inflating: ./data/Realistic/derived_cfd_metrics/turbulenceZCRCZ.xdmf  \n",
            "  inflating: ./data/Realistic/derived_cfd_metrics/pt01rBlock_wss_metrics.h5  \n",
            "  inflating: ./data/Realistic/derived_cfd_metrics/pt01rZCRCZR_turb_metric.h5  \n",
            "  inflating: ./data/Realistic/derived_cfd_metrics/pt01rBlock_turb_metric.h5  \n",
            "  inflating: ./data/Realistic/derived_cfd_metrics/pt01rZCRCZR_wss_metrics.h5  \n",
            "  inflating: ./data/Realistic/derived_cfd_metrics/pt01rZCRCZ_wss_metrics.h5  \n",
            "  inflating: ./data/Realistic/derived_cfd_metrics/turbulenceBlock.xdmf  \n",
            "  inflating: ./data/Realistic/derived_cfd_metrics/pt01rZCRCZ_wss_metrics.xdmf  \n",
            "  inflating: ./data/Realistic/derived_cfd_metrics/turbulenceZCRCZR.xdmf  \n",
            "  inflating: ./data/Realistic/derived_cfd_metrics/pt01rZCRCZR_wss_metrics.xdmf  \n",
            "  inflating: ./data/Realistic/derived_cfd_metrics/pt01rBlock_wss_metrics.xdmf  \n",
            "  inflating: ./data/Idealized/derived_cfd_metrics/pt01iBlock_turb_metric.h5  \n",
            "  inflating: ./data/Idealized/derived_cfd_metrics/pt01iZCRCZR_turb_metric.h5  \n",
            "  inflating: ./data/Idealized/derived_cfd_metrics/pt01iZCRCZR_wss_metrics.xdmf  \n",
            "  inflating: ./data/Idealized/derived_cfd_metrics/turbulenceZCRCZ.xdmf  \n",
            "  inflating: ./data/Idealized/derived_cfd_metrics/pt01iZCRCZ_wss_metrics.h5  \n",
            "  inflating: ./data/Idealized/derived_cfd_metrics/pt01iZCRCZ_turb_metric.h5  \n",
            "  inflating: ./data/Idealized/derived_cfd_metrics/pt01iBlock_wss_metrics.h5  \n",
            "  inflating: ./data/Idealized/derived_cfd_metrics/pt01iZCRCZR_wss_metrics.h5  \n",
            "  inflating: ./data/Idealized/derived_cfd_metrics/pt01iZCRCZ_wss_metrics.xdmf  \n",
            "  inflating: ./data/Idealized/derived_cfd_metrics/turbulenceBlock.xdmf  \n",
            "  inflating: ./data/Idealized/derived_cfd_metrics/turbulenceZCRCZR.xdmf  \n",
            "  inflating: ./data/Idealized/derived_cfd_metrics/pt01iBlock_wss_metrics.xdmf  \n"
          ]
        }
      ]
    },
    {
      "cell_type": "code",
      "execution_count": null,
      "id": "57964cd2",
      "metadata": {
        "id": "57964cd2"
      },
      "outputs": [],
      "source": [
        "import meshio, numpy as np, torch\n",
        "import matplotlib.pyplot as plt\n",
        "import torch_geometric\n",
        "\n",
        "from torch_geometric.data import Data, DataLoader\n",
        "from torch_geometric.nn import GCNConv\n",
        "import torch.nn.functional as F\n",
        "import torch.nn as nn"
      ]
    },
    {
      "cell_type": "code",
      "execution_count": null,
      "id": "7b285885",
      "metadata": {
        "id": "7b285885"
      },
      "outputs": [],
      "source": [
        "from collections import defaultdict\n",
        "import trimesh\n",
        "\n",
        "\n",
        "def build_edge_index(triangles, num_nodes):\n",
        "    # Undirected edges from triangle list\n",
        "    edges = set()\n",
        "    for i, j, k in triangles:\n",
        "        edges |= {(i, j), (j, k), (k, i)}\n",
        "    edge_idx = torch.tensor(list(edges), dtype=torch.long).t().contiguous()\n",
        "    return edge_idx\n",
        "\n",
        "def angle_between_vectors_numpy(v1, v2, normalize=True, epsilon=1e-8):\n",
        "    \"\"\"Computes the angle in radians between pairs of vectors in NumPy arrays.\"\"\"\n",
        "    if normalize:\n",
        "        v1_norm = np.linalg.norm(v1, axis=1, keepdims=True)\n",
        "        v2_norm = np.linalg.norm(v2, axis=1, keepdims=True)\n",
        "        v1 = v1 / (v1_norm + epsilon)\n",
        "        v2 = v2 / (v2_norm + epsilon)\n",
        "    dot_product = np.sum(v1 * v2, axis=1)\n",
        "    dot_product = np.clip(dot_product, -1.0 + epsilon, 1.0 - epsilon)\n",
        "    return np.arccos(dot_product)\n",
        "\n",
        "def load_graph_with_edge_features(xdmf_path):\n",
        "    \"\"\"\n",
        "    Loads a graph from an XDMF file and computes node and edge features.\n",
        "    Handles non-triangular meshes by triangulating them.\n",
        "    Node features: [coords (3), degree (1)].\n",
        "    Edge features: [dihedral_angle (1), min_inner_angle (1), max_inner_angle (1),\n",
        "                    min_edge_ratio (1), max_edge_ratio (1)].\n",
        "    \"\"\"\n",
        "    # Load mesh\n",
        "    mesh = meshio.read(xdmf_path)\n",
        "    pts_np = mesh.points.astype(np.float32)\n",
        "\n",
        "    # Check for triangular or non-triangular mesh\n",
        "    if \"triangle\" in mesh.cells_dict:\n",
        "        triangles_np = mesh.cells_dict[\"triangle\"].astype(np.int64)\n",
        "    else:\n",
        "        # Handle non-triangular meshes (e.g., quads)\n",
        "        faces = mesh.cells_dict.get(\"quad\", None)\n",
        "        if faces is None:\n",
        "            raise ValueError(f\"No triangle or quad cells found in {xdmf_path}. Available cells: {mesh.cells_dict.keys()}\")\n",
        "        # Triangulate using trimesh\n",
        "        tri_mesh = trimesh.Trimesh(vertices=pts_np, faces=faces)\n",
        "        tri_mesh.process(validate=True)\n",
        "        tri_mesh = tri_mesh.subdivide()  # Subdivide ensures triangulation\n",
        "        pts_np = tri_mesh.vertices.astype(np.float32)\n",
        "        triangles_np = tri_mesh.faces.astype(np.int64)\n",
        "\n",
        "    num_nodes = pts_np.shape[0]\n",
        "\n",
        "    # 1. Compute unit normals for all faces\n",
        "    v0 = pts_np[triangles_np[:, 0]]\n",
        "    v1 = pts_np[triangles_np[:, 1]]\n",
        "    v2 = pts_np[triangles_np[:, 2]]\n",
        "    vec1 = v1 - v0\n",
        "    vec2 = v2 - v0\n",
        "    normals_np = np.cross(vec1, vec2)\n",
        "    norms = np.linalg.norm(normals_np, axis=1, keepdims=True)\n",
        "    unit_normals_np = normals_np / (norms + 1e-8)\n",
        "\n",
        "    # 2. Build edge_index and edge_to_faces map\n",
        "    edge_set = set()\n",
        "    edge_to_faces = defaultdict(list)\n",
        "    for i, face_v_indices in enumerate(triangles_np):\n",
        "        e1 = tuple(sorted((face_v_indices[0], face_v_indices[1])))\n",
        "        e2 = tuple(sorted((face_v_indices[1], face_v_indices[2])))\n",
        "        e3 = tuple(sorted((face_v_indices[2], face_v_indices[0])))\n",
        "        for edge in [e1, e2, e3]:\n",
        "            edge_set.add(edge)\n",
        "            edge_to_faces[edge].append(i)\n",
        "    unique_edges_list = list(edge_set)\n",
        "    num_edges = len(unique_edges_list)\n",
        "    unique_edges_np = np.array(unique_edges_list)\n",
        "\n",
        "    # Create PyTorch edge_index (undirected)\n",
        "    edge_index = torch.tensor([[v1, v2] for v1, v2 in unique_edges_list] +\n",
        "                              [[v2, v1] for v1, v2 in unique_edges_list],\n",
        "                              dtype=torch.long).t().contiguous()\n",
        "\n",
        "    # 3. Generate edge-face pairs\n",
        "    edge_face_pairs = [(e_idx, f_idx) for e_idx, edge in enumerate(unique_edges_list)\n",
        "                       for f_idx in edge_to_faces[edge]]\n",
        "    edge_indices = np.array([pair[0] for pair in edge_face_pairs])\n",
        "    face_indices = np.array([pair[1] for pair in edge_face_pairs])\n",
        "    num_pairs = len(edge_face_pairs)\n",
        "\n",
        "    # 4. Extract vertices for all pairs\n",
        "    edge_vertices = unique_edges_np[edge_indices]\n",
        "    face_vertices = triangles_np[face_indices]\n",
        "\n",
        "    # 5. Find opposite vertices\n",
        "    diff0 = face_vertices != edge_vertices[:, 0][:, None]\n",
        "    diff1 = face_vertices != edge_vertices[:, 1][:, None]\n",
        "    opposite_mask = diff0 & diff1\n",
        "    opposite_vertex_indices = face_vertices[np.arange(num_pairs), np.argmax(opposite_mask, axis=1)]\n",
        "\n",
        "    # 6. Get coordinates\n",
        "    p_edge_v1_np = pts_np[edge_vertices[:, 0]]\n",
        "    p_edge_v2_np = pts_np[edge_vertices[:, 1]]\n",
        "    p_opposite_v_np = pts_np[opposite_vertex_indices]\n",
        "\n",
        "    # 7. Compute inner angles\n",
        "    vec_opp_to_e1 = p_edge_v1_np - p_opposite_v_np\n",
        "    vec_opp_to_e2 = p_edge_v2_np - p_opposite_v_np\n",
        "    inner_angles_rad = angle_between_vectors_numpy(vec_opp_to_e1, vec_opp_to_e2)\n",
        "\n",
        "    # 8. Compute edge length ratios\n",
        "    edge_len = np.linalg.norm(p_edge_v2_np - p_edge_v1_np, axis=1)\n",
        "    vec_edge = p_edge_v2_np - p_edge_v1_np\n",
        "    vec_e1_to_opp = p_opposite_v_np - p_edge_v1_np\n",
        "    area = 0.5 * np.linalg.norm(np.cross(vec_edge, vec_e1_to_opp), axis=1)\n",
        "    height = np.where(area < 1e-9, 1e-7, (2 * area) / (edge_len + 1e-8))\n",
        "    edge_length_ratio_val = np.where(edge_len < 1e-7, 1.0,\n",
        "                                     np.where(height < 1e-7, edge_len / 1e-7, edge_len / height))\n",
        "\n",
        "    # 9. Aggregate features per edge\n",
        "    sort_idx = np.argsort(edge_indices)\n",
        "    sorted_edge_indices = edge_indices[sort_idx]\n",
        "    sorted_inner_angles = inner_angles_rad[sort_idx]\n",
        "    sorted_edge_ratios = edge_length_ratio_val[sort_idx]\n",
        "    _, counts = np.unique(sorted_edge_indices, return_counts=True)\n",
        "    split_points = np.cumsum(counts[:-1])\n",
        "    inner_groups = np.split(sorted_inner_angles, split_points)\n",
        "    ratio_groups = np.split(sorted_edge_ratios, split_points)\n",
        "    min_inner_angles = np.array([np.min(g) for g in inner_groups])\n",
        "    max_inner_angles = np.array([np.max(g) for g in inner_groups])\n",
        "    min_edge_ratios = np.array([np.min(g) for g in ratio_groups])\n",
        "    max_edge_ratios = np.array([np.max(g) for g in ratio_groups])\n",
        "\n",
        "    # 10. Compute dihedral angles for internal edges\n",
        "    internal_edge_indices = [i for i, edge in enumerate(unique_edges_list)\n",
        "                             if len(edge_to_faces[edge]) == 2]\n",
        "    internal_edge_faces = np.array([edge_to_faces[unique_edges_list[i]]\n",
        "                                    for i in internal_edge_indices])\n",
        "    n1 = unit_normals_np[internal_edge_faces[:, 0]]\n",
        "    n2 = unit_normals_np[internal_edge_faces[:, 1]]\n",
        "    dihedral_angles = angle_between_vectors_numpy(n1, n2)\n",
        "    all_dihedral_angles = np.zeros(num_edges)\n",
        "    all_dihedral_angles[internal_edge_indices] = dihedral_angles\n",
        "\n",
        "    # 11. Assemble edge features\n",
        "    edge_features_np = np.column_stack([\n",
        "        all_dihedral_angles,\n",
        "        min_inner_angles,\n",
        "        max_inner_angles,\n",
        "        min_edge_ratios,\n",
        "        max_edge_ratios\n",
        "    ])\n",
        "    edge_features_np = np.nan_to_num(edge_features_np, nan=0.0, posinf=1.0, neginf=0.0)\n",
        "    edge_features_tensor = torch.from_numpy(edge_features_np).float()\n",
        "\n",
        "    # Duplicate edge features for undirected edges ([v1, v2] and [v2, v1])\n",
        "    edge_attr = torch.cat([edge_features_tensor, edge_features_tensor], dim=0)\n",
        "\n",
        "    # 12. Node features: coordinates and degree\n",
        "    coords = torch.from_numpy(pts_np).float()\n",
        "    deg = torch_geometric.utils.degree(edge_index[0], num_nodes=num_nodes).unsqueeze(1).float()\n",
        "    x = torch.cat([coords, deg], dim=1)  # [N, 4]\n",
        "\n",
        "    # 13. Target variables\n",
        "    tawss = torch.tensor(mesh.point_data.get(\"tawss\", np.zeros(num_nodes)), dtype=torch.float32)\n",
        "    osi = torch.tensor(mesh.point_data.get(\"osi\", np.zeros(num_nodes)), dtype=torch.float32)\n",
        "    if tawss is None or osi is None:\n",
        "        raise ValueError(\"TAWSS or OSI data missing.\")\n",
        "    if tawss.ndim == 1:\n",
        "        tawss = tawss.unsqueeze(1)\n",
        "    if osi.ndim == 1:\n",
        "        osi = osi.unsqueeze(1)\n",
        "    y = torch.cat([tawss, osi], dim=1)\n",
        "\n",
        "    return Data(x=x, edge_index=edge_index, edge_attr=edge_attr, y=y)"
      ]
    },
    {
      "cell_type": "code",
      "execution_count": null,
      "id": "113f264f",
      "metadata": {
        "id": "113f264f",
        "collapsed": true
      },
      "outputs": [],
      "source": [
        "from torch_geometric.loader import DataLoader\n",
        "\n",
        "# Paths (unchanged)\n",
        "real_paths = [\n",
        "    r\"data/Realistic/derived_cfd_metrics/pt01rBlock_wss_metrics.xdmf\",\n",
        "    r\"data/Realistic/derived_cfd_metrics/pt01rZCRCZ_wss_metrics.xdmf\",\n",
        "    r\"data/Realistic/derived_cfd_metrics/pt01rZCRCZR_wss_metrics.xdmf\",\n",
        "]\n",
        "ideal_paths = [\n",
        "    r\"data/Idealized/derived_cfd_metrics/pt01iBlock_wss_metrics.xdmf\",\n",
        "    r\"data/Idealized/derived_cfd_metrics/pt01iZCRCZ_wss_metrics.xdmf\",\n",
        "    r\"data/Idealized/derived_cfd_metrics/pt01iZCRCZR_wss_metrics.xdmf\",\n",
        "]\n",
        "\n",
        "# Load graphs\n",
        "ideal_graphs = [load_graph_with_edge_features(p) for p in ideal_paths]\n",
        "realistic_graphs = [load_graph_with_edge_features(p) for p in real_paths]\n",
        "\n",
        "# Stack all train features/targets/edge attributes\n",
        "all_x = torch.cat([g.x for g in ideal_graphs], dim=0)\n",
        "all_y = torch.cat([g.y for g in ideal_graphs], dim=0)\n",
        "all_edge_attr = torch.cat([g.edge_attr for g in ideal_graphs], dim=0)\n",
        "\n",
        "# Compute stats\n",
        "x_mean, x_std = all_x.mean(0), all_x.std(0)\n",
        "y_mean, y_std = all_y.mean(0), all_y.std(0)\n",
        "edge_attr_mean, edge_attr_std = all_edge_attr.mean(0), all_edge_attr.std(0)\n",
        "\n",
        "# Normalization in-place helper\n",
        "def normalize_graph(g):\n",
        "    g.x = (g.x - x_mean) / (x_std + 1e-8)\n",
        "    g.y = (g.y - y_mean) / (y_std + 1e-8)\n",
        "    g.edge_attr = (g.edge_attr - edge_attr_mean) / (edge_attr_std + 1e-8)\n",
        "    return g\n",
        "\n",
        "# Apply\n",
        "ideal_graphs = [normalize_graph(g) for g in ideal_graphs]\n",
        "realistic_graphs = [normalize_graph(g) for g in realistic_graphs]\n",
        "\n",
        "# Rebuild loaders\n",
        "train_loader = DataLoader(ideal_graphs, batch_size=1, shuffle=True)\n",
        "test_loader = DataLoader(realistic_graphs, batch_size=1)"
      ]
    },
    {
      "cell_type": "code",
      "source": [
        "# import torch\n",
        "# import matplotlib.pyplot as plt\n",
        "\n",
        "# mesh = meshio.read(\"data/Idealized/derived_cfd_metrics/pt01iBlock_wss_metrics.xdmf\")\n",
        "# pts_np = mesh.points.astype(np.float32)\n",
        "# num_nodes = pts_np.shape[0]\n",
        "# tawss = torch.tensor(mesh.point_data.get(\"tawss\", np.zeros(num_nodes)), dtype=torch.float32)\n",
        "# osi = torch.tensor(mesh.point_data.get(\"osi\", np.zeros(num_nodes)), dtype=torch.float32)\n",
        "\n",
        "# def min_max_normalize(tensor):\n",
        "#     return (tensor - tensor.min()) / (tensor.max() - tensor.min())\n",
        "\n",
        "# def standardize(tensor):\n",
        "#     return (tensor - tensor.mean()) / tensor.std()\n",
        "\n",
        "\n",
        "# # Create a sample tensor\n",
        "# tensor = tawss\n",
        "\n",
        "# # Convert the tensor to a NumPy array\n",
        "# tensor_np = tensor.numpy()\n",
        "\n",
        "# # Plot the histogram\n",
        "# filtered = tensor_np\n",
        "\n",
        "# plt.hist(filtered, bins=30)\n",
        "# plt.xlim(0, 0.02)\n",
        "# plt.title(\"Histogram of Filtered Tensor Values\")\n",
        "# plt.xlabel(\"Value\")\n",
        "# plt.ylabel(\"Frequency\")\n",
        "# plt.grid(True)\n",
        "# plt.show()\n",
        "\n",
        "\n",
        "# plt.show()\n",
        "# unique_values, counts = torch.unique(tensor, return_counts=True)\n",
        "# print(unique_values)\n",
        "# print(counts)\n",
        "# print(tawss.mean())"
      ],
      "metadata": {
        "id": "5l5lzOzCA-ge"
      },
      "id": "5l5lzOzCA-ge",
      "execution_count": null,
      "outputs": []
    },
    {
      "cell_type": "code",
      "source": [
        "import torch\n",
        "import torch.nn as nn\n",
        "import torch.nn.functional as F\n",
        "from torch_geometric.nn import MessagePassing, GCNConv\n",
        "from torch.nn import Sequential as Seq, Linear, ReLU\n",
        "\n",
        "class EdgeFeatureAggregator(MessagePassing):\n",
        "    def __init__(self, edge_channels, out_node_channels, aggr='mean'):\n",
        "        super().__init__(aggr=aggr)\n",
        "        self.edge_mlp = Seq(\n",
        "            Linear(edge_channels, out_node_channels),\n",
        "            ReLU(),\n",
        "            Linear(out_node_channels, out_node_channels)\n",
        "        )\n",
        "\n",
        "    def forward(self, edge_index, edge_attr, num_nodes):\n",
        "        processed_edge_attr = self.edge_mlp(edge_attr)\n",
        "        return self.propagate(edge_index, size=(num_nodes, num_nodes), edge_attr=processed_edge_attr)\n",
        "\n",
        "    def message(self, edge_attr):\n",
        "        return edge_attr\n",
        "\n",
        "# Example GNN using this layer\n",
        "class SimulatedGNN(nn.Module):\n",
        "    def __init__(self, original_node_feat_dim, edge_channels, aggregated_edge_feat_dim, hidden_gcn_dim, out_channels):\n",
        "        super().__init__()\n",
        "        self.edge_aggregator = EdgeFeatureAggregator(edge_channels, aggregated_edge_feat_dim, aggr='mean')\n",
        "\n",
        "        # The input dimension for the first GCNConv layer will be the original node feature dimension\n",
        "        # plus the dimension of the aggregated edge features.\n",
        "        self.gcn_input_dim = original_node_feat_dim + aggregated_edge_feat_dim\n",
        "\n",
        "        self.conv1 = GCNConv(self.gcn_input_dim, hidden_gcn_dim)\n",
        "        self.conv2 = GCNConv(hidden_gcn_dim, hidden_gcn_dim) # Example of multiple GCN layers\n",
        "        self.conv3 = GCNConv(hidden_gcn_dim, hidden_gcn_dim)\n",
        "        self.conv4 = GCNConv(hidden_gcn_dim, hidden_gcn_dim)\n",
        "        self.conv5 = GCNConv(hidden_gcn_dim, hidden_gcn_dim)\n",
        "        self.conv6 = GCNConv(hidden_gcn_dim, hidden_gcn_dim)\n",
        "        self.lin = nn.Linear(hidden_gcn_dim, out_channels)\n",
        "\n",
        "    def forward(self, data):\n",
        "        x, edge_index, edge_attr = data.x, data.edge_index, data.edge_attr\n",
        "        num_nodes = data.num_nodes # Make sure your data object has num_nodes\n",
        "\n",
        "        # 1. Directly average (or process and average) local edge information to nodes\n",
        "        aggregated_edge_node_features = self.edge_aggregator(edge_index, edge_attr, num_nodes)\n",
        "\n",
        "        # Concatenate original node features with the new aggregated edge features\n",
        "        x_enriched = torch.cat([x, aggregated_edge_node_features], dim=1)\n",
        "\n",
        "        # 2. Then have multiple GCNConv layers\n",
        "        h = F.relu(self.conv1(x_enriched, edge_index))\n",
        "        h = F.relu(self.conv2(h, edge_index))\n",
        "        h = F.relu(self.conv3(h, edge_index))\n",
        "        h = F.relu(self.conv4(h, edge_index))\n",
        "        h = F.relu(self.conv5(h, edge_index))\n",
        "        h = F.relu(self.conv5(h, edge_index))\n",
        "        return self.lin(h)"
      ],
      "metadata": {
        "id": "oPolqHHGXiS8"
      },
      "id": "oPolqHHGXiS8",
      "execution_count": null,
      "outputs": []
    },
    {
      "cell_type": "code",
      "source": [
        "original_node_features_dim = 4  # (e.g., 3 for coordinates + 1 for degree)\n",
        "edge_feature_channels = 5       # (dimension of your data.edge_attr)\n",
        "aggregated_edge_features_dim = 16 # (output dim of EdgeFeatureAggregator)\n",
        "gcn_hidden_dimension = 256\n",
        "output_dimension = 2            # (e.g., for TAWSS and OSI)\n",
        "# Initialize the model\n",
        "model = SimulatedGNN(\n",
        "    original_node_feat_dim=original_node_features_dim,\n",
        "    edge_channels=edge_feature_channels,\n",
        "    aggregated_edge_feat_dim=aggregated_edge_features_dim,\n",
        "    hidden_gcn_dim=gcn_hidden_dimension,\n",
        "    out_channels=output_dimension\n",
        ")\n",
        "model"
      ],
      "metadata": {
        "colab": {
          "base_uri": "https://localhost:8080/"
        },
        "id": "lyTNfJvkb3QD",
        "outputId": "d7f9e8d6-89d0-41a6-ade2-b599115f5c57"
      },
      "id": "lyTNfJvkb3QD",
      "execution_count": null,
      "outputs": [
        {
          "output_type": "execute_result",
          "data": {
            "text/plain": [
              "SimulatedGNN(\n",
              "  (edge_aggregator): EdgeFeatureAggregator()\n",
              "  (conv1): GCNConv(20, 256)\n",
              "  (conv2): GCNConv(256, 256)\n",
              "  (conv3): GCNConv(256, 256)\n",
              "  (conv4): GCNConv(256, 256)\n",
              "  (conv5): GCNConv(256, 256)\n",
              "  (conv6): GCNConv(256, 256)\n",
              "  (lin): Linear(in_features=256, out_features=2, bias=True)\n",
              ")"
            ]
          },
          "metadata": {},
          "execution_count": 13
        }
      ]
    },
    {
      "cell_type": "code",
      "source": [
        "import os\n",
        "\n",
        "os.makedirs('/content/fold_best_states', exist_ok=True)"
      ],
      "metadata": {
        "id": "8Ib-xh48KxPH"
      },
      "id": "8Ib-xh48KxPH",
      "execution_count": null,
      "outputs": []
    },
    {
      "cell_type": "code",
      "source": [
        "import torch\n",
        "from torch.utils.data import Subset\n",
        "from torch_geometric.loader import DataLoader\n",
        "from tqdm import tqdm\n",
        "import torch.nn as nn  # Ensure nn is imported for MSELoss\n",
        "from google.colab import files\n",
        "\n",
        "optimizer = torch.optim.Adam(model.parameters(), lr=1e-2)\n",
        "# scheduler = torch.optim.lr_scheduler.ReduceLROnPlateau(optimizer, mode='min', factor=0.5, patience=5)\n",
        "criterion = nn.HuberLoss(reduction='mean')\n",
        "dataset = ideal_graphs\n",
        "\n",
        "n = len(dataset)  # e.g., 3\n",
        "all_indices = list(range(n))\n",
        "best_states = []  # Will hold the best state_dict for each fold\n",
        "num_epochs = 200\n",
        "\n",
        "# Wrap fold loop with tqdm\n",
        "for i, holdout in tqdm(enumerate(all_indices), desc=\"Folds\", leave=True):\n",
        "    if i != 0:\n",
        "      break\n",
        "    # ---------- Set up this fold -------------\n",
        "    test_idx = [holdout]\n",
        "    train_idx = [i for i in all_indices if i != holdout]\n",
        "\n",
        "    train_ds = Subset(dataset, train_idx)\n",
        "    test_ds = Subset(dataset, test_idx)\n",
        "\n",
        "    train_loader = DataLoader(train_ds, batch_size=1, shuffle=True)\n",
        "    test_loader = DataLoader(test_ds, batch_size=1, shuffle=False)\n",
        "\n",
        "    # Reset model & optimizer\n",
        "    model.apply(lambda m: m.reset_parameters() if hasattr(m, 'reset_parameters') else None)\n",
        "    optimizer = torch.optim.Adam(model.parameters(), lr=1e-3)\n",
        "    criterion = nn.HuberLoss(reduction='mean')\n",
        "\n",
        "    best_loss_fold = float('inf')\n",
        "    best_state_fold = None\n",
        "\n",
        "    # ---------- Train this fold -------------\n",
        "    # Wrap epoch loop with tqdm\n",
        "    for epoch in tqdm(range(1, num_epochs+1), desc=f\"Fold {holdout+1}/{n} Epochs\", leave=False):\n",
        "        model.train()\n",
        "        total_train_loss = 0\n",
        "        # Wrap batch loop with tqdm\n",
        "        for batch in tqdm(train_loader, desc=\"Training Batches\", leave=False):\n",
        "            optimizer.zero_grad()\n",
        "            loss = criterion(model(batch), batch.y)\n",
        "            loss.backward()\n",
        "            optimizer.step()\n",
        "            total_train_loss += loss.item()\n",
        "\n",
        "        # Evaluate on this fold’s test graph\n",
        "        model.eval()\n",
        "        with torch.no_grad():\n",
        "            test_loss = sum(criterion(model(b), b.y).item() for b in test_loader) / len(test_loader)\n",
        "\n",
        "        # Update scheduler\n",
        "        # scheduler.step(test_loss)\n",
        "\n",
        "        # Update epoch progress bar with test loss\n",
        "        tqdm.write(f'Epoch {epoch}, Train Loss: {total_train_loss / len(train_loader):.4f}, Test Loss: {test_loss:.4f}')\n",
        "\n",
        "        # Save state if it’s the best this fold\n",
        "        if test_loss < best_loss_fold:\n",
        "            best_loss_fold = test_loss\n",
        "            # Move to CPU to avoid GPU-memory issues\n",
        "            best_state_fold = {k: v.cpu().clone() for k, v in model.state_dict().items()}\n",
        "\n",
        "    # Print fold result\n",
        "    tqdm.write(f\"Fold {holdout+1} Best HuberLoss: {best_loss_fold:.4f}\")\n",
        "    best_states.append(best_state_fold)\n",
        "    torch.save(best_state_fold, f'/content/fold_best_states/best_state_fold_{i}.pt')\n",
        "    files.download(f'/content/fold_best_states/best_state_fold_{i}.pt')\n"
      ],
      "metadata": {
        "colab": {
          "base_uri": "https://localhost:8080/",
          "height": 1000
        },
        "id": "L5FtFk9du6YP",
        "outputId": "b5b2f25a-a2b3-459c-eb89-de3b6983242e"
      },
      "id": "L5FtFk9du6YP",
      "execution_count": null,
      "outputs": [
        {
          "output_type": "stream",
          "name": "stderr",
          "text": [
            "Folds: 0it [00:00, ?it/s]\n",
            "Fold 1/3 Epochs:   0%|          | 0/200 [00:00<?, ?it/s]\u001b[A\n",
            "\n",
            "Training Batches:   0%|          | 0/2 [00:00<?, ?it/s]\u001b[A\u001b[A\n",
            "\n",
            "Training Batches:  50%|█████     | 1/2 [00:09<00:09,  9.42s/it]\u001b[A\u001b[A\n",
            "\n",
            "Training Batches: 100%|██████████| 2/2 [00:18<00:00,  9.28s/it]\u001b[A\u001b[A\n",
            "\n",
            "                                                               \u001b[A\u001b[A\n",
            "\n",
            "Folds: 0it [00:22, ?it/s]\n",
            "Fold 1/3 Epochs:   0%|          | 1/200 [00:22<1:15:45, 22.84s/it]\u001b[A"
          ]
        },
        {
          "output_type": "stream",
          "name": "stdout",
          "text": [
            "Epoch 1, Train Loss: 0.2841, Test Loss: 0.3246\n"
          ]
        },
        {
          "output_type": "stream",
          "name": "stderr",
          "text": [
            "\n",
            "\n",
            "Training Batches:   0%|          | 0/2 [00:00<?, ?it/s]\u001b[A\u001b[A\n",
            "\n",
            "Training Batches:  50%|█████     | 1/2 [00:09<00:09,  9.31s/it]\u001b[A\u001b[A\n",
            "\n",
            "Training Batches: 100%|██████████| 2/2 [00:18<00:00,  9.25s/it]\u001b[A\u001b[A\n",
            "\n",
            "                                                               \u001b[A\u001b[A\n",
            "\n",
            "Folds: 0it [00:45, ?it/s]\n",
            "Fold 1/3 Epochs:   1%|          | 2/200 [00:45<1:15:24, 22.85s/it]\u001b[A"
          ]
        },
        {
          "output_type": "stream",
          "name": "stdout",
          "text": [
            "Epoch 2, Train Loss: 0.2664, Test Loss: 0.3145\n"
          ]
        },
        {
          "output_type": "stream",
          "name": "stderr",
          "text": [
            "\n",
            "\n",
            "Training Batches:   0%|          | 0/2 [00:00<?, ?it/s]\u001b[A\u001b[A\n",
            "\n",
            "Training Batches:  50%|█████     | 1/2 [00:09<00:09,  9.24s/it]\u001b[A\u001b[A\n",
            "\n",
            "Training Batches: 100%|██████████| 2/2 [00:18<00:00,  9.33s/it]\u001b[A\u001b[A\n",
            "\n",
            "                                                               \u001b[A\u001b[A\n",
            "\n",
            "Folds: 0it [01:08, ?it/s]\n",
            "Fold 1/3 Epochs:   2%|▏         | 3/200 [01:08<1:15:07, 22.88s/it]\u001b[A"
          ]
        },
        {
          "output_type": "stream",
          "name": "stdout",
          "text": [
            "Epoch 3, Train Loss: 0.2531, Test Loss: 0.3076\n"
          ]
        },
        {
          "output_type": "stream",
          "name": "stderr",
          "text": [
            "\n",
            "\n",
            "Training Batches:   0%|          | 0/2 [00:00<?, ?it/s]\u001b[A\u001b[A\n",
            "\n",
            "Training Batches:  50%|█████     | 1/2 [00:09<00:09,  9.44s/it]\u001b[A\u001b[A\n",
            "\n",
            "Training Batches: 100%|██████████| 2/2 [00:18<00:00,  9.44s/it]\u001b[A\u001b[A\n",
            "\n",
            "                                                               \u001b[A\u001b[A\n",
            "\n",
            "Folds: 0it [01:31, ?it/s]\n",
            "Fold 1/3 Epochs:   2%|▏         | 4/200 [01:31<1:15:14, 23.04s/it]\u001b[A"
          ]
        },
        {
          "output_type": "stream",
          "name": "stdout",
          "text": [
            "Epoch 4, Train Loss: 0.2419, Test Loss: 0.2907\n"
          ]
        },
        {
          "output_type": "stream",
          "name": "stderr",
          "text": [
            "\n",
            "\n",
            "Training Batches:   0%|          | 0/2 [00:00<?, ?it/s]\u001b[A\u001b[A\n",
            "\n",
            "Training Batches:  50%|█████     | 1/2 [00:09<00:09,  9.47s/it]\u001b[A\u001b[A\n",
            "\n",
            "Training Batches: 100%|██████████| 2/2 [00:18<00:00,  9.26s/it]\u001b[A\u001b[A\n",
            "\n",
            "                                                               \u001b[A\u001b[A\n",
            "\n",
            "Folds: 0it [01:55, ?it/s]\n",
            "Fold 1/3 Epochs:   2%|▎         | 5/200 [01:55<1:15:04, 23.10s/it]\u001b[A"
          ]
        },
        {
          "output_type": "stream",
          "name": "stdout",
          "text": [
            "Epoch 5, Train Loss: 0.2328, Test Loss: 0.2796\n"
          ]
        },
        {
          "output_type": "stream",
          "name": "stderr",
          "text": [
            "\n",
            "\n",
            "Training Batches:   0%|          | 0/2 [00:00<?, ?it/s]\u001b[A\u001b[A\n",
            "\n",
            "Training Batches:  50%|█████     | 1/2 [00:09<00:09,  9.49s/it]\u001b[A\u001b[A\n",
            "\n",
            "Training Batches: 100%|██████████| 2/2 [00:18<00:00,  9.13s/it]\u001b[A\u001b[A\n",
            "\n",
            "                                                               \u001b[A\u001b[A\n",
            "\n",
            "Folds: 0it [02:18, ?it/s]\n",
            "Fold 1/3 Epochs:   3%|▎         | 6/200 [02:18<1:14:49, 23.14s/it]\u001b[A"
          ]
        },
        {
          "output_type": "stream",
          "name": "stdout",
          "text": [
            "Epoch 6, Train Loss: 0.2253, Test Loss: 0.2738\n"
          ]
        },
        {
          "output_type": "stream",
          "name": "stderr",
          "text": [
            "\n",
            "\n",
            "Training Batches:   0%|          | 0/2 [00:00<?, ?it/s]\u001b[A\u001b[A\n",
            "\n",
            "Training Batches:  50%|█████     | 1/2 [00:09<00:09,  9.26s/it]\u001b[A\u001b[A\n",
            "\n",
            "Training Batches: 100%|██████████| 2/2 [00:18<00:00,  9.16s/it]\u001b[A\u001b[A\n",
            "\n",
            "                                                               \u001b[A\u001b[A\n",
            "\n",
            "Folds: 0it [02:41, ?it/s]\n",
            "Fold 1/3 Epochs:   4%|▎         | 7/200 [02:41<1:14:28, 23.15s/it]\u001b[A"
          ]
        },
        {
          "output_type": "stream",
          "name": "stdout",
          "text": [
            "Epoch 7, Train Loss: 0.2164, Test Loss: 0.2687\n"
          ]
        },
        {
          "output_type": "stream",
          "name": "stderr",
          "text": [
            "\n",
            "\n",
            "Training Batches:   0%|          | 0/2 [00:00<?, ?it/s]\u001b[A\u001b[A\n",
            "\n",
            "Training Batches:  50%|█████     | 1/2 [00:08<00:08,  8.84s/it]\u001b[A\u001b[A\n",
            "\n",
            "Training Batches: 100%|██████████| 2/2 [00:18<00:00,  9.21s/it]\u001b[A\u001b[A\n",
            "\n",
            "                                                               \u001b[A\u001b[A\n",
            "\n",
            "Folds: 0it [03:04, ?it/s]\n",
            "Fold 1/3 Epochs:   4%|▍         | 8/200 [03:04<1:14:00, 23.13s/it]\u001b[A"
          ]
        },
        {
          "output_type": "stream",
          "name": "stdout",
          "text": [
            "Epoch 8, Train Loss: 0.2075, Test Loss: 0.2589\n"
          ]
        },
        {
          "output_type": "stream",
          "name": "stderr",
          "text": [
            "\n",
            "\n",
            "Training Batches:   0%|          | 0/2 [00:00<?, ?it/s]\u001b[A\u001b[A\n",
            "\n",
            "Training Batches:  50%|█████     | 1/2 [00:08<00:08,  8.94s/it]\u001b[A\u001b[A\n",
            "\n",
            "Training Batches: 100%|██████████| 2/2 [00:18<00:00,  9.22s/it]\u001b[A\u001b[A\n",
            "\n",
            "                                                               \u001b[A\u001b[A\n",
            "\n",
            "Folds: 0it [03:27, ?it/s]\n",
            "Fold 1/3 Epochs:   4%|▍         | 9/200 [03:27<1:13:11, 22.99s/it]\u001b[A"
          ]
        },
        {
          "output_type": "stream",
          "name": "stdout",
          "text": [
            "Epoch 9, Train Loss: 0.1983, Test Loss: 0.2525\n"
          ]
        },
        {
          "output_type": "stream",
          "name": "stderr",
          "text": [
            "\n",
            "\n",
            "Training Batches:   0%|          | 0/2 [00:00<?, ?it/s]\u001b[A\u001b[A\n",
            "\n",
            "Training Batches:  50%|█████     | 1/2 [00:09<00:09,  9.36s/it]\u001b[A\u001b[A\n",
            "\n",
            "Training Batches: 100%|██████████| 2/2 [00:18<00:00,  9.39s/it]\u001b[A\u001b[A\n",
            "\n",
            "                                                               \u001b[A\u001b[A\n",
            "\n",
            "Folds: 0it [03:50, ?it/s]\n",
            "Fold 1/3 Epochs:   5%|▌         | 10/200 [03:50<1:12:50, 23.00s/it]\u001b[A"
          ]
        },
        {
          "output_type": "stream",
          "name": "stdout",
          "text": [
            "Epoch 10, Train Loss: 0.1886, Test Loss: 0.2542\n"
          ]
        },
        {
          "output_type": "stream",
          "name": "stderr",
          "text": [
            "\n",
            "\n",
            "Training Batches:   0%|          | 0/2 [00:00<?, ?it/s]\u001b[A\u001b[A\n",
            "\n",
            "Training Batches:  50%|█████     | 1/2 [00:09<00:09,  9.34s/it]\u001b[A\u001b[A\n",
            "\n",
            "Training Batches: 100%|██████████| 2/2 [00:18<00:00,  9.35s/it]\u001b[A\u001b[A\n",
            "\n",
            "                                                               \u001b[A\u001b[A\n",
            "\n",
            "Folds: 0it [04:13, ?it/s]\n",
            "Fold 1/3 Epochs:   6%|▌         | 11/200 [04:13<1:12:26, 23.00s/it]\u001b[A"
          ]
        },
        {
          "output_type": "stream",
          "name": "stdout",
          "text": [
            "Epoch 11, Train Loss: 0.1789, Test Loss: 0.2571\n"
          ]
        },
        {
          "output_type": "stream",
          "name": "stderr",
          "text": [
            "\n",
            "\n",
            "Training Batches:   0%|          | 0/2 [00:00<?, ?it/s]\u001b[A\u001b[A\n",
            "\n",
            "Training Batches:  50%|█████     | 1/2 [00:09<00:09,  9.32s/it]\u001b[A\u001b[A\n",
            "\n",
            "Training Batches: 100%|██████████| 2/2 [00:18<00:00,  9.38s/it]\u001b[A\u001b[A\n",
            "\n",
            "                                                               \u001b[A\u001b[A\n",
            "\n",
            "Folds: 0it [04:36, ?it/s]\n",
            "Fold 1/3 Epochs:   6%|▌         | 12/200 [04:36<1:12:07, 23.02s/it]\u001b[A"
          ]
        },
        {
          "output_type": "stream",
          "name": "stdout",
          "text": [
            "Epoch 12, Train Loss: 0.1714, Test Loss: 0.2632\n"
          ]
        },
        {
          "output_type": "stream",
          "name": "stderr",
          "text": [
            "\n",
            "\n",
            "Training Batches:   0%|          | 0/2 [00:00<?, ?it/s]\u001b[A\u001b[A\n",
            "\n",
            "Training Batches:  50%|█████     | 1/2 [00:09<00:09,  9.33s/it]\u001b[A\u001b[A\n",
            "\n",
            "Training Batches: 100%|██████████| 2/2 [00:18<00:00,  9.40s/it]\u001b[A\u001b[A\n",
            "\n",
            "                                                               \u001b[A\u001b[A\n",
            "\n",
            "Folds: 0it [04:59, ?it/s]\n",
            "Fold 1/3 Epochs:   6%|▋         | 13/200 [04:59<1:11:50, 23.05s/it]\u001b[A"
          ]
        },
        {
          "output_type": "stream",
          "name": "stdout",
          "text": [
            "Epoch 13, Train Loss: 0.1632, Test Loss: 0.2699\n"
          ]
        },
        {
          "output_type": "stream",
          "name": "stderr",
          "text": [
            "\n",
            "\n",
            "Training Batches:   0%|          | 0/2 [00:00<?, ?it/s]\u001b[A\u001b[A\n",
            "\n",
            "Training Batches:  50%|█████     | 1/2 [00:09<00:09,  9.45s/it]\u001b[A\u001b[A\n",
            "\n",
            "Training Batches: 100%|██████████| 2/2 [00:18<00:00,  9.32s/it]\u001b[A\u001b[A\n",
            "\n",
            "                                                               \u001b[A\u001b[A\n",
            "\n",
            "Folds: 0it [05:22, ?it/s]\n",
            "Fold 1/3 Epochs:   7%|▋         | 14/200 [05:22<1:11:34, 23.09s/it]\u001b[A"
          ]
        },
        {
          "output_type": "stream",
          "name": "stdout",
          "text": [
            "Epoch 14, Train Loss: 0.1577, Test Loss: 0.2749\n"
          ]
        },
        {
          "output_type": "stream",
          "name": "stderr",
          "text": [
            "\n",
            "\n",
            "Training Batches:   0%|          | 0/2 [00:00<?, ?it/s]\u001b[A\u001b[A\n",
            "\n",
            "Training Batches:  50%|█████     | 1/2 [00:09<00:09,  9.40s/it]\u001b[A\u001b[A\n",
            "\n",
            "Training Batches: 100%|██████████| 2/2 [00:18<00:00,  9.12s/it]\u001b[A\u001b[A\n",
            "\n",
            "                                                               \u001b[A\u001b[A\n",
            "\n",
            "Folds: 0it [05:45, ?it/s]\n",
            "Fold 1/3 Epochs:   8%|▊         | 15/200 [05:45<1:11:14, 23.11s/it]\u001b[A"
          ]
        },
        {
          "output_type": "stream",
          "name": "stdout",
          "text": [
            "Epoch 15, Train Loss: 0.1533, Test Loss: 0.2700\n"
          ]
        },
        {
          "output_type": "stream",
          "name": "stderr",
          "text": [
            "\n",
            "\n",
            "Training Batches:   0%|          | 0/2 [00:00<?, ?it/s]\u001b[A\u001b[A\n",
            "\n",
            "Training Batches:  50%|█████     | 1/2 [00:09<00:09,  9.35s/it]\u001b[A\u001b[A\n",
            "\n",
            "Training Batches: 100%|██████████| 2/2 [00:18<00:00,  9.14s/it]\u001b[A\u001b[A\n",
            "\n",
            "                                                               \u001b[A\u001b[A\n",
            "\n",
            "Folds: 0it [06:09, ?it/s]\n",
            "Fold 1/3 Epochs:   8%|▊         | 16/200 [06:09<1:10:56, 23.14s/it]\u001b[A"
          ]
        },
        {
          "output_type": "stream",
          "name": "stdout",
          "text": [
            "Epoch 16, Train Loss: 0.1488, Test Loss: 0.2662\n"
          ]
        },
        {
          "output_type": "stream",
          "name": "stderr",
          "text": [
            "\n",
            "\n",
            "Training Batches:   0%|          | 0/2 [00:00<?, ?it/s]\u001b[A\u001b[A\n",
            "\n",
            "Training Batches:  50%|█████     | 1/2 [00:08<00:08,  8.94s/it]\u001b[A\u001b[A\n",
            "\n",
            "Training Batches: 100%|██████████| 2/2 [00:18<00:00,  9.11s/it]\u001b[A\u001b[A\n",
            "\n",
            "                                                               \u001b[A\u001b[A\n",
            "\n",
            "Folds: 0it [06:32, ?it/s]\n",
            "Fold 1/3 Epochs:   8%|▊         | 17/200 [06:32<1:10:29, 23.11s/it]\u001b[A"
          ]
        },
        {
          "output_type": "stream",
          "name": "stdout",
          "text": [
            "Epoch 17, Train Loss: 0.1448, Test Loss: 0.2642\n"
          ]
        },
        {
          "output_type": "stream",
          "name": "stderr",
          "text": [
            "\n",
            "\n",
            "Training Batches:   0%|          | 0/2 [00:00<?, ?it/s]\u001b[A\u001b[A\n",
            "\n",
            "Training Batches:  50%|█████     | 1/2 [00:08<00:08,  8.80s/it]\u001b[A\u001b[A\n",
            "\n",
            "Training Batches: 100%|██████████| 2/2 [00:18<00:00,  9.08s/it]\u001b[A\u001b[A\n",
            "\n",
            "                                                               \u001b[A\u001b[A\n",
            "\n",
            "Folds: 0it [06:54, ?it/s]\n",
            "Fold 1/3 Epochs:   9%|▉         | 18/200 [06:54<1:09:30, 22.92s/it]\u001b[A"
          ]
        },
        {
          "output_type": "stream",
          "name": "stdout",
          "text": [
            "Epoch 18, Train Loss: 0.1407, Test Loss: 0.2595\n"
          ]
        },
        {
          "output_type": "stream",
          "name": "stderr",
          "text": [
            "\n",
            "\n",
            "Training Batches:   0%|          | 0/2 [00:00<?, ?it/s]\u001b[A\u001b[A\n",
            "\n",
            "Training Batches:  50%|█████     | 1/2 [00:09<00:09,  9.28s/it]\u001b[A\u001b[A\n",
            "\n",
            "Training Batches: 100%|██████████| 2/2 [00:18<00:00,  9.34s/it]\u001b[A\u001b[A\n",
            "\n",
            "                                                               \u001b[A\u001b[A\n",
            "\n",
            "Folds: 0it [07:17, ?it/s]\n",
            "Fold 1/3 Epochs:  10%|▉         | 19/200 [07:17<1:09:12, 22.94s/it]\u001b[A"
          ]
        },
        {
          "output_type": "stream",
          "name": "stdout",
          "text": [
            "Epoch 19, Train Loss: 0.1363, Test Loss: 0.2523\n"
          ]
        },
        {
          "output_type": "stream",
          "name": "stderr",
          "text": [
            "\n",
            "\n",
            "Training Batches:   0%|          | 0/2 [00:00<?, ?it/s]\u001b[A\u001b[A\n",
            "\n",
            "Training Batches:  50%|█████     | 1/2 [00:09<00:09,  9.34s/it]\u001b[A\u001b[A\n",
            "\n",
            "Training Batches: 100%|██████████| 2/2 [00:18<00:00,  9.36s/it]\u001b[A\u001b[A\n",
            "\n",
            "                                                               \u001b[A\u001b[A\n",
            "\n",
            "Folds: 0it [07:40, ?it/s]\n",
            "Fold 1/3 Epochs:  10%|█         | 20/200 [07:40<1:08:54, 22.97s/it]\u001b[A"
          ]
        },
        {
          "output_type": "stream",
          "name": "stdout",
          "text": [
            "Epoch 20, Train Loss: 0.1310, Test Loss: 0.2546\n"
          ]
        },
        {
          "output_type": "stream",
          "name": "stderr",
          "text": [
            "\n",
            "\n",
            "Training Batches:   0%|          | 0/2 [00:00<?, ?it/s]\u001b[A\u001b[A\n",
            "\n",
            "Training Batches:  50%|█████     | 1/2 [00:09<00:09,  9.34s/it]\u001b[A\u001b[A\n",
            "\n",
            "Training Batches: 100%|██████████| 2/2 [00:18<00:00,  9.39s/it]\u001b[A\u001b[A\n",
            "\n",
            "                                                               \u001b[A\u001b[A\n",
            "\n",
            "Folds: 0it [08:03, ?it/s]\n",
            "Fold 1/3 Epochs:  10%|█         | 21/200 [08:03<1:08:39, 23.01s/it]\u001b[A"
          ]
        },
        {
          "output_type": "stream",
          "name": "stdout",
          "text": [
            "Epoch 21, Train Loss: 0.1285, Test Loss: 0.2489\n"
          ]
        },
        {
          "output_type": "stream",
          "name": "stderr",
          "text": [
            "\n",
            "\n",
            "Training Batches:   0%|          | 0/2 [00:00<?, ?it/s]\u001b[A\u001b[A\n",
            "\n",
            "Training Batches:  50%|█████     | 1/2 [00:09<00:09,  9.41s/it]\u001b[A\u001b[A\n",
            "\n",
            "Training Batches: 100%|██████████| 2/2 [00:18<00:00,  9.39s/it]\u001b[A\u001b[A\n",
            "\n",
            "                                                               \u001b[A\u001b[A\n",
            "\n",
            "Folds: 0it [08:26, ?it/s]\n",
            "Fold 1/3 Epochs:  11%|█         | 22/200 [08:26<1:08:23, 23.05s/it]\u001b[A"
          ]
        },
        {
          "output_type": "stream",
          "name": "stdout",
          "text": [
            "Epoch 22, Train Loss: 0.1237, Test Loss: 0.2473\n"
          ]
        },
        {
          "output_type": "stream",
          "name": "stderr",
          "text": [
            "\n",
            "\n",
            "Training Batches:   0%|          | 0/2 [00:00<?, ?it/s]\u001b[A\u001b[A\n",
            "\n",
            "Training Batches:  50%|█████     | 1/2 [00:09<00:09,  9.45s/it]\u001b[A\u001b[A\n",
            "\n",
            "Training Batches: 100%|██████████| 2/2 [00:18<00:00,  9.42s/it]\u001b[A\u001b[A\n",
            "\n",
            "                                                               \u001b[A\u001b[A\n",
            "\n",
            "Folds: 0it [08:50, ?it/s]\n",
            "Fold 1/3 Epochs:  12%|█▏        | 23/200 [08:50<1:08:11, 23.12s/it]\u001b[A"
          ]
        },
        {
          "output_type": "stream",
          "name": "stdout",
          "text": [
            "Epoch 23, Train Loss: 0.1220, Test Loss: 0.2442\n"
          ]
        },
        {
          "output_type": "stream",
          "name": "stderr",
          "text": [
            "\n",
            "\n",
            "Training Batches:   0%|          | 0/2 [00:00<?, ?it/s]\u001b[A\u001b[A\n",
            "\n",
            "Training Batches:  50%|█████     | 1/2 [00:09<00:09,  9.41s/it]\u001b[A\u001b[A\n",
            "\n",
            "Training Batches: 100%|██████████| 2/2 [00:18<00:00,  9.18s/it]\u001b[A\u001b[A\n",
            "\n",
            "                                                               \u001b[A\u001b[A\n",
            "\n",
            "Folds: 0it [09:13, ?it/s]\n",
            "Fold 1/3 Epochs:  12%|█▏        | 24/200 [09:13<1:07:52, 23.14s/it]\u001b[A"
          ]
        },
        {
          "output_type": "stream",
          "name": "stdout",
          "text": [
            "Epoch 24, Train Loss: 0.1161, Test Loss: 0.2439\n"
          ]
        },
        {
          "output_type": "stream",
          "name": "stderr",
          "text": [
            "\n",
            "\n",
            "Training Batches:   0%|          | 0/2 [00:00<?, ?it/s]\u001b[A\u001b[A\n",
            "\n",
            "Training Batches:  50%|█████     | 1/2 [00:09<00:09,  9.39s/it]\u001b[A\u001b[A\n",
            "\n",
            "Training Batches: 100%|██████████| 2/2 [00:18<00:00,  9.13s/it]\u001b[A\u001b[A\n",
            "\n",
            "                                                               \u001b[A\u001b[A\n",
            "\n",
            "Folds: 0it [09:36, ?it/s]\n",
            "Fold 1/3 Epochs:  12%|█▎        | 25/200 [09:36<1:07:32, 23.16s/it]\u001b[A"
          ]
        },
        {
          "output_type": "stream",
          "name": "stdout",
          "text": [
            "Epoch 25, Train Loss: 0.1132, Test Loss: 0.2412\n"
          ]
        },
        {
          "output_type": "stream",
          "name": "stderr",
          "text": [
            "\n",
            "\n",
            "Training Batches:   0%|          | 0/2 [00:00<?, ?it/s]\u001b[A\u001b[A\n",
            "\n",
            "Training Batches:  50%|█████     | 1/2 [00:09<00:09,  9.11s/it]\u001b[A\u001b[A\n",
            "\n",
            "Training Batches: 100%|██████████| 2/2 [00:18<00:00,  9.24s/it]\u001b[A\u001b[A\n",
            "\n",
            "                                                               \u001b[A\u001b[A\n",
            "\n",
            "Folds: 0it [09:59, ?it/s]\n",
            "Fold 1/3 Epochs:  13%|█▎        | 26/200 [09:59<1:07:18, 23.21s/it]\u001b[A"
          ]
        },
        {
          "output_type": "stream",
          "name": "stdout",
          "text": [
            "Epoch 26, Train Loss: 0.1130, Test Loss: 0.2362\n"
          ]
        },
        {
          "output_type": "stream",
          "name": "stderr",
          "text": [
            "\n",
            "\n",
            "Training Batches:   0%|          | 0/2 [00:00<?, ?it/s]\u001b[A\u001b[A\n",
            "\n",
            "Training Batches:  50%|█████     | 1/2 [00:08<00:08,  8.91s/it]\u001b[A\u001b[A\n",
            "\n",
            "Training Batches: 100%|██████████| 2/2 [00:18<00:00,  9.27s/it]\u001b[A\u001b[A\n",
            "\n",
            "                                                               \u001b[A\u001b[A\n",
            "\n",
            "Folds: 0it [10:23, ?it/s]\n",
            "Fold 1/3 Epochs:  14%|█▎        | 27/200 [10:23<1:06:56, 23.22s/it]\u001b[A"
          ]
        },
        {
          "output_type": "stream",
          "name": "stdout",
          "text": [
            "Epoch 27, Train Loss: 0.1136, Test Loss: 0.2374\n"
          ]
        },
        {
          "output_type": "stream",
          "name": "stderr",
          "text": [
            "\n",
            "\n",
            "Training Batches:   0%|          | 0/2 [00:00<?, ?it/s]\u001b[A\u001b[A\n",
            "\n",
            "Training Batches:  50%|█████     | 1/2 [00:09<00:09,  9.06s/it]\u001b[A\u001b[A\n",
            "\n",
            "Training Batches: 100%|██████████| 2/2 [00:18<00:00,  9.30s/it]\u001b[A\u001b[A\n",
            "\n",
            "                                                               \u001b[A\u001b[A\n",
            "\n",
            "Folds: 0it [10:46, ?it/s]\n",
            "Fold 1/3 Epochs:  14%|█▍        | 28/200 [10:46<1:06:22, 23.15s/it]\u001b[A"
          ]
        },
        {
          "output_type": "stream",
          "name": "stdout",
          "text": [
            "Epoch 28, Train Loss: 0.1049, Test Loss: 0.2388\n"
          ]
        },
        {
          "output_type": "stream",
          "name": "stderr",
          "text": [
            "\n",
            "\n",
            "Training Batches:   0%|          | 0/2 [00:00<?, ?it/s]\u001b[A\u001b[A\n",
            "\n",
            "Training Batches:  50%|█████     | 1/2 [00:09<00:09,  9.33s/it]\u001b[A\u001b[A\n",
            "\n",
            "Training Batches: 100%|██████████| 2/2 [00:18<00:00,  9.42s/it]\u001b[A\u001b[A\n",
            "\n",
            "                                                               \u001b[A\u001b[A\n",
            "\n",
            "Folds: 0it [11:09, ?it/s]\n",
            "Fold 1/3 Epochs:  14%|█▍        | 29/200 [11:09<1:05:59, 23.15s/it]\u001b[A"
          ]
        },
        {
          "output_type": "stream",
          "name": "stdout",
          "text": [
            "Epoch 29, Train Loss: 0.1046, Test Loss: 0.2281\n"
          ]
        },
        {
          "output_type": "stream",
          "name": "stderr",
          "text": [
            "\n",
            "\n",
            "Training Batches:   0%|          | 0/2 [00:00<?, ?it/s]\u001b[A\u001b[A\n",
            "\n",
            "Training Batches:  50%|█████     | 1/2 [00:09<00:09,  9.43s/it]\u001b[A\u001b[A\n",
            "\n",
            "Training Batches: 100%|██████████| 2/2 [00:18<00:00,  9.44s/it]\u001b[A\u001b[A\n",
            "\n",
            "                                                               \u001b[A\u001b[A\n",
            "\n",
            "Folds: 0it [11:32, ?it/s]\n",
            "Fold 1/3 Epochs:  15%|█▌        | 30/200 [11:32<1:05:41, 23.18s/it]\u001b[A"
          ]
        },
        {
          "output_type": "stream",
          "name": "stdout",
          "text": [
            "Epoch 30, Train Loss: 0.0998, Test Loss: 0.2388\n"
          ]
        },
        {
          "output_type": "stream",
          "name": "stderr",
          "text": [
            "\n",
            "\n",
            "Training Batches:   0%|          | 0/2 [00:00<?, ?it/s]\u001b[A\u001b[A\n",
            "\n",
            "Training Batches:  50%|█████     | 1/2 [00:09<00:09,  9.40s/it]\u001b[A\u001b[A\n",
            "\n",
            "Training Batches: 100%|██████████| 2/2 [00:18<00:00,  9.37s/it]\u001b[A\u001b[A\n",
            "\n",
            "                                                               \u001b[A\u001b[A\n",
            "\n",
            "Folds: 0it [11:55, ?it/s]\n",
            "Fold 1/3 Epochs:  16%|█▌        | 31/200 [11:55<1:05:12, 23.15s/it]\u001b[A"
          ]
        },
        {
          "output_type": "stream",
          "name": "stdout",
          "text": [
            "Epoch 31, Train Loss: 0.0984, Test Loss: 0.2296\n"
          ]
        },
        {
          "output_type": "stream",
          "name": "stderr",
          "text": [
            "\n",
            "\n",
            "Training Batches:   0%|          | 0/2 [00:00<?, ?it/s]\u001b[A\u001b[A\n",
            "\n",
            "Training Batches:  50%|█████     | 1/2 [00:09<00:09,  9.55s/it]\u001b[A\u001b[A\n",
            "\n",
            "Training Batches: 100%|██████████| 2/2 [00:19<00:00,  9.53s/it]\u001b[A\u001b[A\n",
            "\n",
            "                                                               \u001b[A\u001b[A\n",
            "\n",
            "Folds: 0it [12:18, ?it/s]\n",
            "Fold 1/3 Epochs:  16%|█▌        | 32/200 [12:18<1:05:02, 23.23s/it]\u001b[A"
          ]
        },
        {
          "output_type": "stream",
          "name": "stdout",
          "text": [
            "Epoch 32, Train Loss: 0.0954, Test Loss: 0.2349\n"
          ]
        },
        {
          "output_type": "stream",
          "name": "stderr",
          "text": [
            "\n",
            "\n",
            "Training Batches:   0%|          | 0/2 [00:00<?, ?it/s]\u001b[A\u001b[A\n",
            "\n",
            "Training Batches:  50%|█████     | 1/2 [00:09<00:09,  9.47s/it]\u001b[A\u001b[A\n",
            "\n",
            "Training Batches: 100%|██████████| 2/2 [00:18<00:00,  9.46s/it]\u001b[A\u001b[A\n",
            "\n",
            "                                                               \u001b[A\u001b[A\n",
            "\n",
            "Folds: 0it [12:42, ?it/s]\n",
            "Fold 1/3 Epochs:  16%|█▋        | 33/200 [12:42<1:04:39, 23.23s/it]\u001b[A"
          ]
        },
        {
          "output_type": "stream",
          "name": "stdout",
          "text": [
            "Epoch 33, Train Loss: 0.0950, Test Loss: 0.2232\n"
          ]
        },
        {
          "output_type": "stream",
          "name": "stderr",
          "text": [
            "\n",
            "\n",
            "Training Batches:   0%|          | 0/2 [00:00<?, ?it/s]\u001b[A\u001b[A\n",
            "\n",
            "Training Batches:  50%|█████     | 1/2 [00:09<00:09,  9.40s/it]\u001b[A\u001b[A\n",
            "\n",
            "Training Batches: 100%|██████████| 2/2 [00:18<00:00,  9.21s/it]\u001b[A\u001b[A\n",
            "\n",
            "                                                               \u001b[A\u001b[A\n",
            "\n",
            "Folds: 0it [13:05, ?it/s]\n",
            "Fold 1/3 Epochs:  17%|█▋        | 34/200 [13:05<1:04:11, 23.20s/it]\u001b[A"
          ]
        },
        {
          "output_type": "stream",
          "name": "stdout",
          "text": [
            "Epoch 34, Train Loss: 0.0945, Test Loss: 0.2257\n"
          ]
        },
        {
          "output_type": "stream",
          "name": "stderr",
          "text": [
            "\n",
            "\n",
            "Training Batches:   0%|          | 0/2 [00:00<?, ?it/s]\u001b[A\u001b[A\n",
            "\n",
            "Training Batches:  50%|█████     | 1/2 [00:09<00:09,  9.33s/it]\u001b[A\u001b[A\n",
            "\n",
            "Training Batches: 100%|██████████| 2/2 [00:18<00:00,  9.01s/it]\u001b[A\u001b[A\n",
            "\n",
            "                                                               \u001b[A\u001b[A\n",
            "\n",
            "Folds: 0it [13:28, ?it/s]\n",
            "Fold 1/3 Epochs:  18%|█▊        | 35/200 [13:28<1:03:36, 23.13s/it]\u001b[A"
          ]
        },
        {
          "output_type": "stream",
          "name": "stdout",
          "text": [
            "Epoch 35, Train Loss: 0.0908, Test Loss: 0.2303\n"
          ]
        },
        {
          "output_type": "stream",
          "name": "stderr",
          "text": [
            "\n",
            "\n",
            "Training Batches:   0%|          | 0/2 [00:00<?, ?it/s]\u001b[A\u001b[A\n",
            "\n",
            "Training Batches:  50%|█████     | 1/2 [00:09<00:09,  9.24s/it]\u001b[A\u001b[A\n",
            "\n",
            "Training Batches: 100%|██████████| 2/2 [00:18<00:00,  9.17s/it]\u001b[A\u001b[A\n",
            "\n",
            "                                                               \u001b[A\u001b[A\n",
            "\n",
            "Folds: 0it [13:51, ?it/s]\n",
            "Fold 1/3 Epochs:  18%|█▊        | 36/200 [13:51<1:03:16, 23.15s/it]\u001b[A"
          ]
        },
        {
          "output_type": "stream",
          "name": "stdout",
          "text": [
            "Epoch 36, Train Loss: 0.0900, Test Loss: 0.2210\n"
          ]
        },
        {
          "output_type": "stream",
          "name": "stderr",
          "text": [
            "\n",
            "\n",
            "Training Batches:   0%|          | 0/2 [00:00<?, ?it/s]\u001b[A\u001b[A\n",
            "\n",
            "Training Batches:  50%|█████     | 1/2 [00:08<00:08,  8.88s/it]\u001b[A\u001b[A\n",
            "\n",
            "Training Batches: 100%|██████████| 2/2 [00:18<00:00,  9.17s/it]\u001b[A\u001b[A\n",
            "\n",
            "                                                               \u001b[A\u001b[A\n",
            "\n",
            "Folds: 0it [14:14, ?it/s]\n",
            "Fold 1/3 Epochs:  18%|█▊        | 37/200 [14:14<1:02:45, 23.10s/it]\u001b[A"
          ]
        },
        {
          "output_type": "stream",
          "name": "stdout",
          "text": [
            "Epoch 37, Train Loss: 0.0866, Test Loss: 0.2260\n"
          ]
        },
        {
          "output_type": "stream",
          "name": "stderr",
          "text": [
            "\n",
            "\n",
            "Training Batches:   0%|          | 0/2 [00:00<?, ?it/s]\u001b[A\u001b[A\n",
            "\n",
            "Training Batches:  50%|█████     | 1/2 [00:08<00:08,  8.92s/it]\u001b[A\u001b[A\n",
            "\n",
            "Training Batches: 100%|██████████| 2/2 [00:18<00:00,  9.16s/it]\u001b[A\u001b[A\n",
            "\n",
            "                                                               \u001b[A\u001b[A\n",
            "\n",
            "Folds: 0it [14:37, ?it/s]\n",
            "Fold 1/3 Epochs:  19%|█▉        | 38/200 [14:37<1:01:55, 22.94s/it]\u001b[A"
          ]
        },
        {
          "output_type": "stream",
          "name": "stdout",
          "text": [
            "Epoch 38, Train Loss: 0.0867, Test Loss: 0.2208\n"
          ]
        },
        {
          "output_type": "stream",
          "name": "stderr",
          "text": [
            "\n",
            "\n",
            "Training Batches:   0%|          | 0/2 [00:00<?, ?it/s]\u001b[A\u001b[A\n",
            "\n",
            "Training Batches:  50%|█████     | 1/2 [00:09<00:09,  9.40s/it]\u001b[A\u001b[A\n",
            "\n",
            "Training Batches: 100%|██████████| 2/2 [00:18<00:00,  9.39s/it]\u001b[A\u001b[A\n",
            "\n",
            "                                                               \u001b[A\u001b[A\n",
            "\n",
            "Folds: 0it [15:00, ?it/s]\n",
            "Fold 1/3 Epochs:  20%|█▉        | 39/200 [15:00<1:01:43, 23.01s/it]\u001b[A"
          ]
        },
        {
          "output_type": "stream",
          "name": "stdout",
          "text": [
            "Epoch 39, Train Loss: 0.0838, Test Loss: 0.2302\n"
          ]
        },
        {
          "output_type": "stream",
          "name": "stderr",
          "text": [
            "\n",
            "\n",
            "Training Batches:   0%|          | 0/2 [00:00<?, ?it/s]\u001b[A\u001b[A\n",
            "\n",
            "Training Batches:  50%|█████     | 1/2 [00:09<00:09,  9.40s/it]\u001b[A\u001b[A\n",
            "\n",
            "Training Batches: 100%|██████████| 2/2 [00:18<00:00,  9.38s/it]\u001b[A\u001b[A\n",
            "\n",
            "                                                               \u001b[A\u001b[A\n",
            "\n",
            "Folds: 0it [15:23, ?it/s]\n",
            "Fold 1/3 Epochs:  20%|██        | 40/200 [15:23<1:01:24, 23.03s/it]\u001b[A"
          ]
        },
        {
          "output_type": "stream",
          "name": "stdout",
          "text": [
            "Epoch 40, Train Loss: 0.0843, Test Loss: 0.2175\n"
          ]
        },
        {
          "output_type": "stream",
          "name": "stderr",
          "text": [
            "\n",
            "\n",
            "Training Batches:   0%|          | 0/2 [00:00<?, ?it/s]\u001b[A\u001b[A\n",
            "\n",
            "Training Batches:  50%|█████     | 1/2 [00:09<00:09,  9.38s/it]\u001b[A\u001b[A\n",
            "\n",
            "Training Batches: 100%|██████████| 2/2 [00:18<00:00,  9.42s/it]\u001b[A\u001b[A\n",
            "\n",
            "                                                               \u001b[A\u001b[A\n",
            "\n",
            "Folds: 0it [15:46, ?it/s]\n",
            "Fold 1/3 Epochs:  20%|██        | 41/200 [15:46<1:01:07, 23.06s/it]\u001b[A"
          ]
        },
        {
          "output_type": "stream",
          "name": "stdout",
          "text": [
            "Epoch 41, Train Loss: 0.0846, Test Loss: 0.2186\n"
          ]
        },
        {
          "output_type": "stream",
          "name": "stderr",
          "text": [
            "\n",
            "\n",
            "Training Batches:   0%|          | 0/2 [00:00<?, ?it/s]\u001b[A\u001b[A\n",
            "\n",
            "Training Batches:  50%|█████     | 1/2 [00:09<00:09,  9.40s/it]\u001b[A\u001b[A\n",
            "\n",
            "Training Batches: 100%|██████████| 2/2 [00:18<00:00,  9.40s/it]\u001b[A\u001b[A\n",
            "\n",
            "                                                               \u001b[A\u001b[A\n",
            "\n",
            "Folds: 0it [16:09, ?it/s]\n",
            "Fold 1/3 Epochs:  21%|██        | 42/200 [16:09<1:00:43, 23.06s/it]\u001b[A"
          ]
        },
        {
          "output_type": "stream",
          "name": "stdout",
          "text": [
            "Epoch 42, Train Loss: 0.0812, Test Loss: 0.2170\n"
          ]
        },
        {
          "output_type": "stream",
          "name": "stderr",
          "text": [
            "\n",
            "\n",
            "Training Batches:   0%|          | 0/2 [00:00<?, ?it/s]\u001b[A\u001b[A\n",
            "\n",
            "Training Batches:  50%|█████     | 1/2 [00:09<00:09,  9.35s/it]\u001b[A\u001b[A\n",
            "\n",
            "Training Batches: 100%|██████████| 2/2 [00:18<00:00,  9.23s/it]\u001b[A\u001b[A\n",
            "\n",
            "                                                               \u001b[A\u001b[A\n",
            "\n",
            "Folds: 0it [16:32, ?it/s]\n",
            "Fold 1/3 Epochs:  22%|██▏       | 43/200 [16:32<1:00:18, 23.05s/it]\u001b[A"
          ]
        },
        {
          "output_type": "stream",
          "name": "stdout",
          "text": [
            "Epoch 43, Train Loss: 0.0813, Test Loss: 0.2191\n"
          ]
        },
        {
          "output_type": "stream",
          "name": "stderr",
          "text": [
            "\n",
            "\n",
            "Training Batches:   0%|          | 0/2 [00:00<?, ?it/s]\u001b[A\u001b[A\n",
            "\n",
            "Training Batches:  50%|█████     | 1/2 [00:09<00:09,  9.39s/it]\u001b[A\u001b[A\n",
            "\n",
            "Training Batches: 100%|██████████| 2/2 [00:18<00:00,  9.06s/it]\u001b[A\u001b[A\n",
            "\n",
            "                                                               \u001b[A\u001b[A\n",
            "\n",
            "Folds: 0it [16:55, ?it/s]\n",
            "Fold 1/3 Epochs:  22%|██▏       | 44/200 [16:55<59:59, 23.08s/it]  \u001b[A"
          ]
        },
        {
          "output_type": "stream",
          "name": "stdout",
          "text": [
            "Epoch 44, Train Loss: 0.0781, Test Loss: 0.2170\n"
          ]
        },
        {
          "output_type": "stream",
          "name": "stderr",
          "text": [
            "\n",
            "\n",
            "Training Batches:   0%|          | 0/2 [00:00<?, ?it/s]\u001b[A\u001b[A\n",
            "\n",
            "Training Batches:  50%|█████     | 1/2 [00:09<00:09,  9.25s/it]\u001b[A\u001b[A\n",
            "\n",
            "Training Batches: 100%|██████████| 2/2 [00:18<00:00,  9.09s/it]\u001b[A\u001b[A\n",
            "\n",
            "                                                               \u001b[A\u001b[A\n",
            "\n",
            "Folds: 0it [17:18, ?it/s]\n",
            "Fold 1/3 Epochs:  22%|██▎       | 45/200 [17:18<59:32, 23.05s/it]\u001b[A"
          ]
        },
        {
          "output_type": "stream",
          "name": "stdout",
          "text": [
            "Epoch 45, Train Loss: 0.0771, Test Loss: 0.2140\n"
          ]
        },
        {
          "output_type": "stream",
          "name": "stderr",
          "text": [
            "\n",
            "\n",
            "Training Batches:   0%|          | 0/2 [00:00<?, ?it/s]\u001b[A\u001b[A\n",
            "\n",
            "Training Batches:  50%|█████     | 1/2 [00:08<00:08,  8.76s/it]\u001b[A\u001b[A\n",
            "\n",
            "Training Batches: 100%|██████████| 2/2 [00:18<00:00,  9.05s/it]\u001b[A\u001b[A\n",
            "\n",
            "                                                               \u001b[A\u001b[A\n",
            "\n",
            "Folds: 0it [17:41, ?it/s]\n",
            "Fold 1/3 Epochs:  23%|██▎       | 46/200 [17:41<58:53, 22.95s/it]\u001b[A"
          ]
        },
        {
          "output_type": "stream",
          "name": "stdout",
          "text": [
            "Epoch 46, Train Loss: 0.0771, Test Loss: 0.2153\n"
          ]
        },
        {
          "output_type": "stream",
          "name": "stderr",
          "text": [
            "\n",
            "\n",
            "Training Batches:   0%|          | 0/2 [00:00<?, ?it/s]\u001b[A\u001b[A\n",
            "\n",
            "Training Batches:  50%|█████     | 1/2 [00:09<00:09,  9.36s/it]\u001b[A\u001b[A\n",
            "\n",
            "Training Batches: 100%|██████████| 2/2 [00:18<00:00,  9.51s/it]\u001b[A\u001b[A\n",
            "\n",
            "                                                               \u001b[A\u001b[A\n",
            "\n",
            "Folds: 0it [18:04, ?it/s]\n",
            "Fold 1/3 Epochs:  24%|██▎       | 47/200 [18:04<58:58, 23.13s/it]\u001b[A"
          ]
        },
        {
          "output_type": "stream",
          "name": "stdout",
          "text": [
            "Epoch 47, Train Loss: 0.0754, Test Loss: 0.2089\n"
          ]
        },
        {
          "output_type": "stream",
          "name": "stderr",
          "text": [
            "\n",
            "\n",
            "Training Batches:   0%|          | 0/2 [00:00<?, ?it/s]\u001b[A\u001b[A\n",
            "\n",
            "Training Batches:  50%|█████     | 1/2 [00:09<00:09,  9.22s/it]\u001b[A\u001b[A\n",
            "\n",
            "Training Batches: 100%|██████████| 2/2 [00:18<00:00,  9.39s/it]\u001b[A\u001b[A\n",
            "\n",
            "                                                               \u001b[A\u001b[A\n",
            "\n",
            "Folds: 0it [18:27, ?it/s]\n",
            "Fold 1/3 Epochs:  24%|██▍       | 48/200 [18:27<58:34, 23.12s/it]\u001b[A"
          ]
        },
        {
          "output_type": "stream",
          "name": "stdout",
          "text": [
            "Epoch 48, Train Loss: 0.0821, Test Loss: 0.2273\n"
          ]
        },
        {
          "output_type": "stream",
          "name": "stderr",
          "text": [
            "\n",
            "\n",
            "Training Batches:   0%|          | 0/2 [00:00<?, ?it/s]\u001b[A\u001b[A\n",
            "\n",
            "Training Batches:  50%|█████     | 1/2 [00:09<00:09,  9.47s/it]\u001b[A\u001b[A\n",
            "\n",
            "Training Batches: 100%|██████████| 2/2 [00:18<00:00,  9.43s/it]\u001b[A\u001b[A\n",
            "\n",
            "                                                               \u001b[A\u001b[A\n",
            "\n",
            "Folds: 0it [18:51, ?it/s]\n",
            "Fold 1/3 Epochs:  24%|██▍       | 49/200 [18:51<58:14, 23.14s/it]\u001b[A"
          ]
        },
        {
          "output_type": "stream",
          "name": "stdout",
          "text": [
            "Epoch 49, Train Loss: 0.0893, Test Loss: 0.2222\n"
          ]
        },
        {
          "output_type": "stream",
          "name": "stderr",
          "text": [
            "\n",
            "\n",
            "Training Batches:   0%|          | 0/2 [00:00<?, ?it/s]\u001b[A\u001b[A\n",
            "\n",
            "Training Batches:  50%|█████     | 1/2 [00:09<00:09,  9.33s/it]\u001b[A\u001b[A\n",
            "\n",
            "Training Batches: 100%|██████████| 2/2 [00:18<00:00,  9.41s/it]\u001b[A\u001b[A\n",
            "\n",
            "                                                               \u001b[A\u001b[A\n",
            "\n",
            "Folds: 0it [19:14, ?it/s]\n",
            "Fold 1/3 Epochs:  25%|██▌       | 50/200 [19:14<57:52, 23.15s/it]\u001b[A"
          ]
        },
        {
          "output_type": "stream",
          "name": "stdout",
          "text": [
            "Epoch 50, Train Loss: 0.0810, Test Loss: 0.2188\n"
          ]
        },
        {
          "output_type": "stream",
          "name": "stderr",
          "text": [
            "\n",
            "\n",
            "Training Batches:   0%|          | 0/2 [00:00<?, ?it/s]\u001b[A\u001b[A\n",
            "\n",
            "Training Batches:  50%|█████     | 1/2 [00:09<00:09,  9.32s/it]\u001b[A\u001b[A\n",
            "\n",
            "Training Batches: 100%|██████████| 2/2 [00:18<00:00,  9.34s/it]\u001b[A\u001b[A\n",
            "\n",
            "                                                               \u001b[A\u001b[A\n",
            "\n",
            "Folds: 0it [19:37, ?it/s]\n",
            "Fold 1/3 Epochs:  26%|██▌       | 51/200 [19:37<57:21, 23.10s/it]\u001b[A"
          ]
        },
        {
          "output_type": "stream",
          "name": "stdout",
          "text": [
            "Epoch 51, Train Loss: 0.0779, Test Loss: 0.2137\n"
          ]
        },
        {
          "output_type": "stream",
          "name": "stderr",
          "text": [
            "\n",
            "\n",
            "Training Batches:   0%|          | 0/2 [00:00<?, ?it/s]\u001b[A\u001b[A\n",
            "\n",
            "Training Batches:  50%|█████     | 1/2 [00:09<00:09,  9.27s/it]\u001b[A\u001b[A\n",
            "\n",
            "Training Batches: 100%|██████████| 2/2 [00:18<00:00,  9.18s/it]\u001b[A\u001b[A\n",
            "\n",
            "                                                               \u001b[A\u001b[A\n",
            "\n",
            "Folds: 0it [20:00, ?it/s]\n",
            "Fold 1/3 Epochs:  26%|██▌       | 52/200 [20:00<56:41, 22.99s/it]\u001b[A"
          ]
        },
        {
          "output_type": "stream",
          "name": "stdout",
          "text": [
            "Epoch 52, Train Loss: 0.0768, Test Loss: 0.2148\n"
          ]
        },
        {
          "output_type": "stream",
          "name": "stderr",
          "text": [
            "\n",
            "\n",
            "Training Batches:   0%|          | 0/2 [00:00<?, ?it/s]\u001b[A\u001b[A\n",
            "\n",
            "Training Batches:  50%|█████     | 1/2 [00:09<00:09,  9.30s/it]\u001b[A\u001b[A\n",
            "\n",
            "Training Batches: 100%|██████████| 2/2 [00:18<00:00,  9.02s/it]\u001b[A\u001b[A\n",
            "\n",
            "                                                               \u001b[A\u001b[A\n",
            "\n",
            "Folds: 0it [20:22, ?it/s]\n",
            "Fold 1/3 Epochs:  26%|██▋       | 53/200 [20:22<56:14, 22.96s/it]\u001b[A"
          ]
        },
        {
          "output_type": "stream",
          "name": "stdout",
          "text": [
            "Epoch 53, Train Loss: 0.0758, Test Loss: 0.2152\n"
          ]
        },
        {
          "output_type": "stream",
          "name": "stderr",
          "text": [
            "\n",
            "\n",
            "Training Batches:   0%|          | 0/2 [00:00<?, ?it/s]\u001b[A\u001b[A\n",
            "\n",
            "Training Batches:  50%|█████     | 1/2 [00:09<00:09,  9.15s/it]\u001b[A\u001b[A\n",
            "\n",
            "Training Batches: 100%|██████████| 2/2 [00:18<00:00,  8.98s/it]\u001b[A\u001b[A\n",
            "\n",
            "                                                               \u001b[A\u001b[A\n",
            "\n",
            "Folds: 0it [20:45, ?it/s]\n",
            "Fold 1/3 Epochs:  27%|██▋       | 54/200 [20:45<55:46, 22.92s/it]\u001b[A"
          ]
        },
        {
          "output_type": "stream",
          "name": "stdout",
          "text": [
            "Epoch 54, Train Loss: 0.0727, Test Loss: 0.2172\n"
          ]
        },
        {
          "output_type": "stream",
          "name": "stderr",
          "text": [
            "\n",
            "\n",
            "Training Batches:   0%|          | 0/2 [00:00<?, ?it/s]\u001b[A\u001b[A\n",
            "\n",
            "Training Batches:  50%|█████     | 1/2 [00:08<00:08,  8.80s/it]\u001b[A\u001b[A\n",
            "\n",
            "Training Batches: 100%|██████████| 2/2 [00:18<00:00,  9.05s/it]\u001b[A\u001b[A\n",
            "\n",
            "                                                               \u001b[A\u001b[A\n",
            "\n",
            "Folds: 0it [21:08, ?it/s]\n",
            "Fold 1/3 Epochs:  28%|██▊       | 55/200 [21:08<55:14, 22.86s/it]\u001b[A"
          ]
        },
        {
          "output_type": "stream",
          "name": "stdout",
          "text": [
            "Epoch 55, Train Loss: 0.0737, Test Loss: 0.2089\n"
          ]
        },
        {
          "output_type": "stream",
          "name": "stderr",
          "text": [
            "\n",
            "\n",
            "Training Batches:   0%|          | 0/2 [00:00<?, ?it/s]\u001b[A\u001b[A\n",
            "\n",
            "Training Batches:  50%|█████     | 1/2 [00:08<00:08,  8.91s/it]\u001b[A\u001b[A\n",
            "\n",
            "Training Batches: 100%|██████████| 2/2 [00:18<00:00,  9.11s/it]\u001b[A\u001b[A\n",
            "\n",
            "                                                               \u001b[A\u001b[A\n",
            "\n",
            "Folds: 0it [21:30, ?it/s]\n",
            "Fold 1/3 Epochs:  28%|██▊       | 56/200 [21:30<54:32, 22.73s/it]\u001b[A"
          ]
        },
        {
          "output_type": "stream",
          "name": "stdout",
          "text": [
            "Epoch 56, Train Loss: 0.0707, Test Loss: 0.2187\n"
          ]
        },
        {
          "output_type": "stream",
          "name": "stderr",
          "text": [
            "\n",
            "\n",
            "Training Batches:   0%|          | 0/2 [00:00<?, ?it/s]\u001b[A\u001b[A\n",
            "\n",
            "Training Batches:  50%|█████     | 1/2 [00:09<00:09,  9.26s/it]\u001b[A\u001b[A\n",
            "\n",
            "Training Batches: 100%|██████████| 2/2 [00:18<00:00,  9.24s/it]\u001b[A\u001b[A\n",
            "\n",
            "                                                               \u001b[A\u001b[A\n",
            "\n",
            "Folds: 0it [21:53, ?it/s]\n",
            "Fold 1/3 Epochs:  28%|██▊       | 57/200 [21:53<54:07, 22.71s/it]\u001b[A"
          ]
        },
        {
          "output_type": "stream",
          "name": "stdout",
          "text": [
            "Epoch 57, Train Loss: 0.0715, Test Loss: 0.2082\n"
          ]
        },
        {
          "output_type": "stream",
          "name": "stderr",
          "text": [
            "\n",
            "\n",
            "Training Batches:   0%|          | 0/2 [00:00<?, ?it/s]\u001b[A\u001b[A\n",
            "\n",
            "Training Batches:  50%|█████     | 1/2 [00:09<00:09,  9.33s/it]\u001b[A\u001b[A\n",
            "\n",
            "Training Batches: 100%|██████████| 2/2 [00:18<00:00,  9.34s/it]\u001b[A\u001b[A\n",
            "\n",
            "                                                               \u001b[A\u001b[A\n",
            "\n",
            "Folds: 0it [22:16, ?it/s]\n",
            "Fold 1/3 Epochs:  29%|██▉       | 58/200 [22:16<53:55, 22.78s/it]\u001b[A"
          ]
        },
        {
          "output_type": "stream",
          "name": "stdout",
          "text": [
            "Epoch 58, Train Loss: 0.0689, Test Loss: 0.2145\n"
          ]
        },
        {
          "output_type": "stream",
          "name": "stderr",
          "text": [
            "\n",
            "\n",
            "Training Batches:   0%|          | 0/2 [00:00<?, ?it/s]\u001b[A\u001b[A\n",
            "\n",
            "Training Batches:  50%|█████     | 1/2 [00:09<00:09,  9.37s/it]\u001b[A\u001b[A\n",
            "\n",
            "Training Batches: 100%|██████████| 2/2 [00:18<00:00,  9.37s/it]\u001b[A\u001b[A\n",
            "\n",
            "                                                               \u001b[A\u001b[A\n",
            "\n",
            "Folds: 0it [22:39, ?it/s]\n",
            "Fold 1/3 Epochs:  30%|██▉       | 59/200 [22:39<53:40, 22.84s/it]\u001b[A"
          ]
        },
        {
          "output_type": "stream",
          "name": "stdout",
          "text": [
            "Epoch 59, Train Loss: 0.0686, Test Loss: 0.2067\n"
          ]
        },
        {
          "output_type": "stream",
          "name": "stderr",
          "text": [
            "\n",
            "\n",
            "Training Batches:   0%|          | 0/2 [00:00<?, ?it/s]\u001b[A\u001b[A\n",
            "\n",
            "Training Batches:  50%|█████     | 1/2 [00:09<00:09,  9.40s/it]\u001b[A\u001b[A\n",
            "\n",
            "Training Batches: 100%|██████████| 2/2 [00:18<00:00,  9.35s/it]\u001b[A\u001b[A\n",
            "\n",
            "                                                               \u001b[A\u001b[A\n",
            "\n",
            "Folds: 0it [23:02, ?it/s]\n",
            "Fold 1/3 Epochs:  30%|███       | 60/200 [23:02<53:29, 22.92s/it]\u001b[A"
          ]
        },
        {
          "output_type": "stream",
          "name": "stdout",
          "text": [
            "Epoch 60, Train Loss: 0.0687, Test Loss: 0.2089\n"
          ]
        },
        {
          "output_type": "stream",
          "name": "stderr",
          "text": [
            "\n",
            "\n",
            "Training Batches:   0%|          | 0/2 [00:00<?, ?it/s]\u001b[A\u001b[A\n",
            "\n",
            "Training Batches:  50%|█████     | 1/2 [00:09<00:09,  9.37s/it]\u001b[A\u001b[A\n",
            "\n",
            "Training Batches: 100%|██████████| 2/2 [00:18<00:00,  9.09s/it]\u001b[A\u001b[A\n",
            "\n",
            "                                                               \u001b[A\u001b[A\n",
            "\n",
            "Folds: 0it [23:25, ?it/s]\n",
            "Fold 1/3 Epochs:  30%|███       | 61/200 [23:25<53:11, 22.96s/it]\u001b[A"
          ]
        },
        {
          "output_type": "stream",
          "name": "stdout",
          "text": [
            "Epoch 61, Train Loss: 0.0674, Test Loss: 0.2090\n"
          ]
        },
        {
          "output_type": "stream",
          "name": "stderr",
          "text": [
            "\n",
            "\n",
            "Training Batches:   0%|          | 0/2 [00:00<?, ?it/s]\u001b[A\u001b[A\n",
            "\n",
            "Training Batches:  50%|█████     | 1/2 [00:09<00:09,  9.43s/it]\u001b[A\u001b[A\n",
            "\n",
            "Training Batches: 100%|██████████| 2/2 [00:18<00:00,  9.05s/it]\u001b[A\u001b[A\n",
            "\n",
            "                                                               \u001b[A\u001b[A\n",
            "\n",
            "Folds: 0it [23:48, ?it/s]\n",
            "Fold 1/3 Epochs:  31%|███       | 62/200 [23:48<52:51, 22.98s/it]\u001b[A"
          ]
        },
        {
          "output_type": "stream",
          "name": "stdout",
          "text": [
            "Epoch 62, Train Loss: 0.0668, Test Loss: 0.2065\n"
          ]
        },
        {
          "output_type": "stream",
          "name": "stderr",
          "text": [
            "\n",
            "\n",
            "Training Batches:   0%|          | 0/2 [00:00<?, ?it/s]\u001b[A\u001b[A\n",
            "\n",
            "Training Batches:  50%|█████     | 1/2 [00:08<00:08,  8.95s/it]\u001b[A\u001b[A\n",
            "\n",
            "Training Batches: 100%|██████████| 2/2 [00:18<00:00,  9.16s/it]\u001b[A\u001b[A\n",
            "\n",
            "                                                               \u001b[A\u001b[A\n",
            "\n",
            "Folds: 0it [24:11, ?it/s]\n",
            "Fold 1/3 Epochs:  32%|███▏      | 63/200 [24:11<52:31, 23.00s/it]\u001b[A"
          ]
        },
        {
          "output_type": "stream",
          "name": "stdout",
          "text": [
            "Epoch 63, Train Loss: 0.0665, Test Loss: 0.2068\n"
          ]
        },
        {
          "output_type": "stream",
          "name": "stderr",
          "text": [
            "\n",
            "\n",
            "Training Batches:   0%|          | 0/2 [00:00<?, ?it/s]\u001b[A\u001b[A\n",
            "\n",
            "Training Batches:  50%|█████     | 1/2 [00:09<00:09,  9.26s/it]\u001b[A\u001b[A\n",
            "\n",
            "Training Batches: 100%|██████████| 2/2 [00:19<00:00,  9.64s/it]\u001b[A\u001b[A\n",
            "\n",
            "                                                               \u001b[A\u001b[A\n",
            "\n",
            "Folds: 0it [24:35, ?it/s]\n",
            "Fold 1/3 Epochs:  32%|███▏      | 64/200 [24:35<52:49, 23.31s/it]\u001b[A"
          ]
        },
        {
          "output_type": "stream",
          "name": "stdout",
          "text": [
            "Epoch 64, Train Loss: 0.0654, Test Loss: 0.2104\n"
          ]
        },
        {
          "output_type": "stream",
          "name": "stderr",
          "text": [
            "\n",
            "\n",
            "Training Batches:   0%|          | 0/2 [00:00<?, ?it/s]\u001b[A\u001b[A\n",
            "\n",
            "Training Batches:  50%|█████     | 1/2 [00:09<00:09,  9.09s/it]\u001b[A\u001b[A\n",
            "\n",
            "Training Batches: 100%|██████████| 2/2 [00:18<00:00,  9.33s/it]\u001b[A\u001b[A\n",
            "\n",
            "                                                               \u001b[A\u001b[A\n",
            "\n",
            "Folds: 0it [24:58, ?it/s]\n",
            "Fold 1/3 Epochs:  32%|███▎      | 65/200 [24:58<52:17, 23.24s/it]\u001b[A"
          ]
        },
        {
          "output_type": "stream",
          "name": "stdout",
          "text": [
            "Epoch 65, Train Loss: 0.0659, Test Loss: 0.2029\n"
          ]
        },
        {
          "output_type": "stream",
          "name": "stderr",
          "text": [
            "\n",
            "\n",
            "Training Batches:   0%|          | 0/2 [00:00<?, ?it/s]\u001b[A\u001b[A\n",
            "\n",
            "Training Batches:  50%|█████     | 1/2 [00:09<00:09,  9.47s/it]\u001b[A\u001b[A\n",
            "\n",
            "Training Batches: 100%|██████████| 2/2 [00:19<00:00,  9.52s/it]\u001b[A\u001b[A\n",
            "\n",
            "                                                               \u001b[A\u001b[A\n",
            "\n",
            "Folds: 0it [25:22, ?it/s]\n",
            "Fold 1/3 Epochs:  33%|███▎      | 66/200 [25:22<52:01, 23.29s/it]\u001b[A"
          ]
        },
        {
          "output_type": "stream",
          "name": "stdout",
          "text": [
            "Epoch 66, Train Loss: 0.0665, Test Loss: 0.2137\n"
          ]
        },
        {
          "output_type": "stream",
          "name": "stderr",
          "text": [
            "\n",
            "\n",
            "Training Batches:   0%|          | 0/2 [00:00<?, ?it/s]\u001b[A\u001b[A\n",
            "\n",
            "Training Batches:  50%|█████     | 1/2 [00:09<00:09,  9.40s/it]\u001b[A\u001b[A\n",
            "\n",
            "Training Batches: 100%|██████████| 2/2 [00:18<00:00,  9.38s/it]\u001b[A\u001b[A\n",
            "\n",
            "                                                               \u001b[A\u001b[A\n",
            "\n",
            "Folds: 0it [25:45, ?it/s]\n",
            "Fold 1/3 Epochs:  34%|███▎      | 67/200 [25:45<51:31, 23.24s/it]\u001b[A"
          ]
        },
        {
          "output_type": "stream",
          "name": "stdout",
          "text": [
            "Epoch 67, Train Loss: 0.0673, Test Loss: 0.2008\n"
          ]
        },
        {
          "output_type": "stream",
          "name": "stderr",
          "text": [
            "\n",
            "\n",
            "Training Batches:   0%|          | 0/2 [00:00<?, ?it/s]\u001b[A\u001b[A\n",
            "\n",
            "Training Batches:  50%|█████     | 1/2 [00:09<00:09,  9.50s/it]\u001b[A\u001b[A\n",
            "\n",
            "Training Batches: 100%|██████████| 2/2 [00:18<00:00,  9.46s/it]\u001b[A\u001b[A\n",
            "\n",
            "                                                               \u001b[A\u001b[A\n",
            "\n",
            "Folds: 0it [26:08, ?it/s]\n",
            "Fold 1/3 Epochs:  34%|███▍      | 68/200 [26:08<51:08, 23.25s/it]\u001b[A"
          ]
        },
        {
          "output_type": "stream",
          "name": "stdout",
          "text": [
            "Epoch 68, Train Loss: 0.0654, Test Loss: 0.2118\n"
          ]
        },
        {
          "output_type": "stream",
          "name": "stderr",
          "text": [
            "\n",
            "\n",
            "Training Batches:   0%|          | 0/2 [00:00<?, ?it/s]\u001b[A\u001b[A\n",
            "\n",
            "Training Batches:  50%|█████     | 1/2 [00:09<00:09,  9.38s/it]\u001b[A\u001b[A\n",
            "\n",
            "Training Batches: 100%|██████████| 2/2 [00:18<00:00,  9.39s/it]\u001b[A\u001b[A\n",
            "\n",
            "                                                               \u001b[A\u001b[A\n",
            "\n",
            "Folds: 0it [26:31, ?it/s]\n",
            "Fold 1/3 Epochs:  34%|███▍      | 69/200 [26:31<50:40, 23.21s/it]\u001b[A"
          ]
        },
        {
          "output_type": "stream",
          "name": "stdout",
          "text": [
            "Epoch 69, Train Loss: 0.0644, Test Loss: 0.1971\n"
          ]
        },
        {
          "output_type": "stream",
          "name": "stderr",
          "text": [
            "\n",
            "\n",
            "Training Batches:   0%|          | 0/2 [00:00<?, ?it/s]\u001b[A\u001b[A\n",
            "\n",
            "Training Batches:  50%|█████     | 1/2 [00:09<00:09,  9.33s/it]\u001b[A\u001b[A\n",
            "\n",
            "Training Batches: 100%|██████████| 2/2 [00:18<00:00,  9.35s/it]\u001b[A\u001b[A\n",
            "\n",
            "                                                               \u001b[A\u001b[A\n",
            "\n",
            "Folds: 0it [26:54, ?it/s]\n",
            "Fold 1/3 Epochs:  35%|███▌      | 70/200 [26:54<50:10, 23.16s/it]\u001b[A"
          ]
        },
        {
          "output_type": "stream",
          "name": "stdout",
          "text": [
            "Epoch 70, Train Loss: 0.0637, Test Loss: 0.2039\n"
          ]
        },
        {
          "output_type": "stream",
          "name": "stderr",
          "text": [
            "\n",
            "\n",
            "Training Batches:   0%|          | 0/2 [00:00<?, ?it/s]\u001b[A\u001b[A\n",
            "\n",
            "Training Batches:  50%|█████     | 1/2 [00:09<00:09,  9.47s/it]\u001b[A\u001b[A\n",
            "\n",
            "Training Batches: 100%|██████████| 2/2 [00:18<00:00,  9.25s/it]\u001b[A\u001b[A\n",
            "\n",
            "                                                               \u001b[A\u001b[A\n",
            "\n",
            "Folds: 0it [27:18, ?it/s]\n",
            "Fold 1/3 Epochs:  36%|███▌      | 71/200 [27:18<49:52, 23.19s/it]\u001b[A"
          ]
        },
        {
          "output_type": "stream",
          "name": "stdout",
          "text": [
            "Epoch 71, Train Loss: 0.0617, Test Loss: 0.2006\n"
          ]
        },
        {
          "output_type": "stream",
          "name": "stderr",
          "text": [
            "\n",
            "\n",
            "Training Batches:   0%|          | 0/2 [00:00<?, ?it/s]\u001b[A\u001b[A\n",
            "\n",
            "Training Batches:  50%|█████     | 1/2 [00:09<00:09,  9.56s/it]\u001b[A\u001b[A\n",
            "\n",
            "Training Batches: 100%|██████████| 2/2 [00:18<00:00,  9.26s/it]\u001b[A\u001b[A\n",
            "\n",
            "                                                               \u001b[A\u001b[A\n",
            "\n",
            "Folds: 0it [27:41, ?it/s]\n",
            "Fold 1/3 Epochs:  36%|███▌      | 72/200 [27:41<49:41, 23.29s/it]\u001b[A"
          ]
        },
        {
          "output_type": "stream",
          "name": "stdout",
          "text": [
            "Epoch 72, Train Loss: 0.0599, Test Loss: 0.2105\n"
          ]
        },
        {
          "output_type": "stream",
          "name": "stderr",
          "text": [
            "\n",
            "\n",
            "Training Batches:   0%|          | 0/2 [00:00<?, ?it/s]\u001b[A\u001b[A\n",
            "\n",
            "Training Batches:  50%|█████     | 1/2 [00:09<00:09,  9.26s/it]\u001b[A\u001b[A\n",
            "\n",
            "Training Batches: 100%|██████████| 2/2 [00:18<00:00,  9.14s/it]\u001b[A\u001b[A\n",
            "\n",
            "                                                               \u001b[A\u001b[A\n",
            "\n",
            "Folds: 0it [28:04, ?it/s]\n",
            "Fold 1/3 Epochs:  36%|███▋      | 73/200 [28:04<49:12, 23.25s/it]\u001b[A"
          ]
        },
        {
          "output_type": "stream",
          "name": "stdout",
          "text": [
            "Epoch 73, Train Loss: 0.0613, Test Loss: 0.2090\n"
          ]
        },
        {
          "output_type": "stream",
          "name": "stderr",
          "text": [
            "\n",
            "\n",
            "Training Batches:   0%|          | 0/2 [00:00<?, ?it/s]\u001b[A\u001b[A\n",
            "\n",
            "Training Batches:  50%|█████     | 1/2 [00:08<00:08,  8.92s/it]\u001b[A\u001b[A\n",
            "\n",
            "Training Batches: 100%|██████████| 2/2 [00:18<00:00,  9.30s/it]\u001b[A\u001b[A\n",
            "\n",
            "                                                               \u001b[A\u001b[A\n",
            "\n",
            "Folds: 0it [28:28, ?it/s]\n",
            "Fold 1/3 Epochs:  37%|███▋      | 74/200 [28:28<48:54, 23.29s/it]\u001b[A"
          ]
        },
        {
          "output_type": "stream",
          "name": "stdout",
          "text": [
            "Epoch 74, Train Loss: 0.0606, Test Loss: 0.2000\n"
          ]
        },
        {
          "output_type": "stream",
          "name": "stderr",
          "text": [
            "\n",
            "\n",
            "Training Batches:   0%|          | 0/2 [00:00<?, ?it/s]\u001b[A\u001b[A\n",
            "\n",
            "Training Batches:  50%|█████     | 1/2 [00:09<00:09,  9.12s/it]\u001b[A\u001b[A\n",
            "\n",
            "Training Batches: 100%|██████████| 2/2 [00:18<00:00,  9.34s/it]\u001b[A\u001b[A\n",
            "\n",
            "                                                               \u001b[A\u001b[A\n",
            "\n",
            "Folds: 0it [28:51, ?it/s]\n",
            "Fold 1/3 Epochs:  38%|███▊      | 75/200 [28:51<48:31, 23.29s/it]\u001b[A"
          ]
        },
        {
          "output_type": "stream",
          "name": "stdout",
          "text": [
            "Epoch 75, Train Loss: 0.0573, Test Loss: 0.1972\n"
          ]
        },
        {
          "output_type": "stream",
          "name": "stderr",
          "text": [
            "\n",
            "\n",
            "Training Batches:   0%|          | 0/2 [00:00<?, ?it/s]\u001b[A\u001b[A\n",
            "\n",
            "Training Batches:  50%|█████     | 1/2 [00:09<00:09,  9.30s/it]\u001b[A\u001b[A\n",
            "\n",
            "Training Batches: 100%|██████████| 2/2 [00:18<00:00,  9.41s/it]\u001b[A\u001b[A\n",
            "\n",
            "                                                               \u001b[A\u001b[A\n",
            "\n",
            "Folds: 0it [29:14, ?it/s]\n",
            "Fold 1/3 Epochs:  38%|███▊      | 76/200 [29:14<48:05, 23.27s/it]\u001b[A"
          ]
        },
        {
          "output_type": "stream",
          "name": "stdout",
          "text": [
            "Epoch 76, Train Loss: 0.0595, Test Loss: 0.1964\n"
          ]
        },
        {
          "output_type": "stream",
          "name": "stderr",
          "text": [
            "\n",
            "\n",
            "Training Batches:   0%|          | 0/2 [00:00<?, ?it/s]\u001b[A\u001b[A\n",
            "\n",
            "Training Batches:  50%|█████     | 1/2 [00:09<00:09,  9.59s/it]\u001b[A\u001b[A\n",
            "\n",
            "Training Batches: 100%|██████████| 2/2 [00:19<00:00,  9.55s/it]\u001b[A\u001b[A\n",
            "\n",
            "                                                               \u001b[A\u001b[A\n",
            "\n",
            "Folds: 0it [29:38, ?it/s]\n",
            "Fold 1/3 Epochs:  38%|███▊      | 77/200 [29:38<47:49, 23.33s/it]\u001b[A"
          ]
        },
        {
          "output_type": "stream",
          "name": "stdout",
          "text": [
            "Epoch 77, Train Loss: 0.0577, Test Loss: 0.2072\n"
          ]
        },
        {
          "output_type": "stream",
          "name": "stderr",
          "text": [
            "\n",
            "\n",
            "Training Batches:   0%|          | 0/2 [00:00<?, ?it/s]\u001b[A\u001b[A\n",
            "\n",
            "Training Batches:  50%|█████     | 1/2 [00:09<00:09,  9.49s/it]\u001b[A\u001b[A\n",
            "\n",
            "Training Batches: 100%|██████████| 2/2 [00:18<00:00,  9.48s/it]\u001b[A\u001b[A\n",
            "\n",
            "                                                               \u001b[A\u001b[A\n",
            "\n",
            "Folds: 0it [30:01, ?it/s]\n",
            "Fold 1/3 Epochs:  39%|███▉      | 78/200 [30:01<47:27, 23.34s/it]\u001b[A"
          ]
        },
        {
          "output_type": "stream",
          "name": "stdout",
          "text": [
            "Epoch 78, Train Loss: 0.0587, Test Loss: 0.2017\n"
          ]
        },
        {
          "output_type": "stream",
          "name": "stderr",
          "text": [
            "\n",
            "\n",
            "Training Batches:   0%|          | 0/2 [00:00<?, ?it/s]\u001b[A\u001b[A\n",
            "\n",
            "Training Batches:  50%|█████     | 1/2 [00:09<00:09,  9.53s/it]\u001b[A\u001b[A\n",
            "\n",
            "Training Batches: 100%|██████████| 2/2 [00:19<00:00,  9.57s/it]\u001b[A\u001b[A\n",
            "\n",
            "                                                               \u001b[A\u001b[A\n",
            "\n",
            "Folds: 0it [30:24, ?it/s]\n",
            "Fold 1/3 Epochs:  40%|███▉      | 79/200 [30:24<47:10, 23.39s/it]\u001b[A"
          ]
        },
        {
          "output_type": "stream",
          "name": "stdout",
          "text": [
            "Epoch 79, Train Loss: 0.0597, Test Loss: 0.2115\n"
          ]
        },
        {
          "output_type": "stream",
          "name": "stderr",
          "text": [
            "\n",
            "\n",
            "Training Batches:   0%|          | 0/2 [00:00<?, ?it/s]\u001b[A\u001b[A\n",
            "\n",
            "Training Batches:  50%|█████     | 1/2 [00:09<00:09,  9.51s/it]\u001b[A\u001b[A\n",
            "\n",
            "Training Batches: 100%|██████████| 2/2 [00:19<00:00,  9.55s/it]\u001b[A\u001b[A\n",
            "\n",
            "                                                               \u001b[A\u001b[A\n",
            "\n",
            "Folds: 0it [30:48, ?it/s]\n",
            "Fold 1/3 Epochs:  40%|████      | 80/200 [30:48<46:49, 23.42s/it]\u001b[A"
          ]
        },
        {
          "output_type": "stream",
          "name": "stdout",
          "text": [
            "Epoch 80, Train Loss: 0.0597, Test Loss: 0.1932\n"
          ]
        },
        {
          "output_type": "stream",
          "name": "stderr",
          "text": [
            "\n",
            "\n",
            "Training Batches:   0%|          | 0/2 [00:00<?, ?it/s]\u001b[A\u001b[A\n",
            "\n",
            "Training Batches:  50%|█████     | 1/2 [00:09<00:09,  9.54s/it]\u001b[A\u001b[A\n",
            "\n",
            "Training Batches: 100%|██████████| 2/2 [00:19<00:00,  9.60s/it]\u001b[A\u001b[A\n",
            "\n",
            "                                                               \u001b[A\u001b[A\n",
            "\n",
            "Folds: 0it [31:12, ?it/s]\n",
            "Fold 1/3 Epochs:  40%|████      | 81/200 [31:12<46:32, 23.46s/it]\u001b[A"
          ]
        },
        {
          "output_type": "stream",
          "name": "stdout",
          "text": [
            "Epoch 81, Train Loss: 0.0627, Test Loss: 0.2065\n"
          ]
        },
        {
          "output_type": "stream",
          "name": "stderr",
          "text": [
            "\n",
            "\n",
            "Training Batches:   0%|          | 0/2 [00:00<?, ?it/s]\u001b[A\u001b[A\n",
            "\n",
            "Training Batches:  50%|█████     | 1/2 [00:09<00:09,  9.44s/it]\u001b[A\u001b[A\n",
            "\n",
            "Training Batches: 100%|██████████| 2/2 [00:18<00:00,  9.38s/it]\u001b[A\u001b[A\n",
            "\n",
            "                                                               \u001b[A\u001b[A\n",
            "\n",
            "Folds: 0it [31:35, ?it/s]\n",
            "Fold 1/3 Epochs:  41%|████      | 82/200 [31:35<46:05, 23.43s/it]\u001b[A"
          ]
        },
        {
          "output_type": "stream",
          "name": "stdout",
          "text": [
            "Epoch 82, Train Loss: 0.0598, Test Loss: 0.1914\n"
          ]
        },
        {
          "output_type": "stream",
          "name": "stderr",
          "text": [
            "\n",
            "\n",
            "Training Batches:   0%|          | 0/2 [00:00<?, ?it/s]\u001b[A\u001b[A\n",
            "\n",
            "Training Batches:  50%|█████     | 1/2 [00:09<00:09,  9.49s/it]\u001b[A\u001b[A\n",
            "\n",
            "Training Batches: 100%|██████████| 2/2 [00:18<00:00,  9.18s/it]\u001b[A\u001b[A\n",
            "\n",
            "                                                               \u001b[A\u001b[A\n",
            "\n",
            "Folds: 0it [31:58, ?it/s]\n",
            "Fold 1/3 Epochs:  42%|████▏     | 83/200 [31:58<45:37, 23.40s/it]\u001b[A"
          ]
        },
        {
          "output_type": "stream",
          "name": "stdout",
          "text": [
            "Epoch 83, Train Loss: 0.0547, Test Loss: 0.2128\n"
          ]
        },
        {
          "output_type": "stream",
          "name": "stderr",
          "text": [
            "\n",
            "\n",
            "Training Batches:   0%|          | 0/2 [00:00<?, ?it/s]\u001b[A\u001b[A\n",
            "\n",
            "Training Batches:  50%|█████     | 1/2 [00:09<00:09,  9.47s/it]\u001b[A\u001b[A\n",
            "\n",
            "Training Batches: 100%|██████████| 2/2 [00:18<00:00,  9.21s/it]\u001b[A\u001b[A\n",
            "\n",
            "                                                               \u001b[A\u001b[A\n",
            "\n",
            "Folds: 0it [32:22, ?it/s]\n",
            "Fold 1/3 Epochs:  42%|████▏     | 84/200 [32:22<45:13, 23.39s/it]\u001b[A"
          ]
        },
        {
          "output_type": "stream",
          "name": "stdout",
          "text": [
            "Epoch 84, Train Loss: 0.0577, Test Loss: 0.1960\n"
          ]
        },
        {
          "output_type": "stream",
          "name": "stderr",
          "text": [
            "\n",
            "\n",
            "Training Batches:   0%|          | 0/2 [00:00<?, ?it/s]\u001b[A\u001b[A\n",
            "\n",
            "Training Batches:  50%|█████     | 1/2 [00:09<00:09,  9.14s/it]\u001b[A\u001b[A\n",
            "\n",
            "Training Batches: 100%|██████████| 2/2 [00:18<00:00,  9.25s/it]\u001b[A\u001b[A\n",
            "\n",
            "                                                               \u001b[A\u001b[A\n",
            "\n",
            "Folds: 0it [32:45, ?it/s]\n",
            "Fold 1/3 Epochs:  42%|████▎     | 85/200 [32:45<44:49, 23.38s/it]\u001b[A"
          ]
        },
        {
          "output_type": "stream",
          "name": "stdout",
          "text": [
            "Epoch 85, Train Loss: 0.0580, Test Loss: 0.2006\n"
          ]
        },
        {
          "output_type": "stream",
          "name": "stderr",
          "text": [
            "\n",
            "\n",
            "Training Batches:   0%|          | 0/2 [00:00<?, ?it/s]\u001b[A\u001b[A\n",
            "\n",
            "Training Batches:  50%|█████     | 1/2 [00:09<00:09,  9.00s/it]\u001b[A\u001b[A\n",
            "\n",
            "Training Batches: 100%|██████████| 2/2 [00:18<00:00,  9.30s/it]\u001b[A\u001b[A\n",
            "\n",
            "                                                               \u001b[A\u001b[A\n",
            "\n",
            "Folds: 0it [33:08, ?it/s]\n",
            "Fold 1/3 Epochs:  43%|████▎     | 86/200 [33:08<44:17, 23.31s/it]\u001b[A"
          ]
        },
        {
          "output_type": "stream",
          "name": "stdout",
          "text": [
            "Epoch 86, Train Loss: 0.0561, Test Loss: 0.1927\n"
          ]
        },
        {
          "output_type": "stream",
          "name": "stderr",
          "text": [
            "\n",
            "\n",
            "Training Batches:   0%|          | 0/2 [00:00<?, ?it/s]\u001b[A\u001b[A\n",
            "\n",
            "Training Batches:  50%|█████     | 1/2 [00:09<00:09,  9.19s/it]\u001b[A\u001b[A\n",
            "\n",
            "Training Batches: 100%|██████████| 2/2 [00:18<00:00,  9.36s/it]\u001b[A\u001b[A\n",
            "\n",
            "                                                               \u001b[A\u001b[A\n",
            "\n",
            "Folds: 0it [33:31, ?it/s]\n",
            "Fold 1/3 Epochs:  44%|████▎     | 87/200 [33:31<43:44, 23.23s/it]\u001b[A"
          ]
        },
        {
          "output_type": "stream",
          "name": "stdout",
          "text": [
            "Epoch 87, Train Loss: 0.0543, Test Loss: 0.2061\n"
          ]
        },
        {
          "output_type": "stream",
          "name": "stderr",
          "text": [
            "\n",
            "\n",
            "Training Batches:   0%|          | 0/2 [00:00<?, ?it/s]\u001b[A\u001b[A\n",
            "\n",
            "Training Batches:  50%|█████     | 1/2 [00:09<00:09,  9.45s/it]\u001b[A\u001b[A\n",
            "\n",
            "Training Batches: 100%|██████████| 2/2 [00:18<00:00,  9.43s/it]\u001b[A\u001b[A\n",
            "\n",
            "                                                               \u001b[A\u001b[A\n",
            "\n",
            "Folds: 0it [33:54, ?it/s]\n",
            "Fold 1/3 Epochs:  44%|████▍     | 88/200 [33:54<43:22, 23.23s/it]\u001b[A"
          ]
        },
        {
          "output_type": "stream",
          "name": "stdout",
          "text": [
            "Epoch 88, Train Loss: 0.0574, Test Loss: 0.1954\n"
          ]
        },
        {
          "output_type": "stream",
          "name": "stderr",
          "text": [
            "\n",
            "\n",
            "Training Batches:   0%|          | 0/2 [00:00<?, ?it/s]\u001b[A\u001b[A\n",
            "\n",
            "Training Batches:  50%|█████     | 1/2 [00:09<00:09,  9.52s/it]\u001b[A\u001b[A\n",
            "\n",
            "Training Batches: 100%|██████████| 2/2 [00:19<00:00,  9.56s/it]\u001b[A\u001b[A\n",
            "\n",
            "                                                               \u001b[A\u001b[A\n",
            "\n",
            "Folds: 0it [34:18, ?it/s]\n",
            "Fold 1/3 Epochs:  44%|████▍     | 89/200 [34:18<43:05, 23.29s/it]\u001b[A"
          ]
        },
        {
          "output_type": "stream",
          "name": "stdout",
          "text": [
            "Epoch 89, Train Loss: 0.0520, Test Loss: 0.1924\n"
          ]
        },
        {
          "output_type": "stream",
          "name": "stderr",
          "text": [
            "\n",
            "\n",
            "Training Batches:   0%|          | 0/2 [00:00<?, ?it/s]\u001b[A\u001b[A\n",
            "\n",
            "Training Batches:  50%|█████     | 1/2 [00:09<00:09,  9.54s/it]\u001b[A\u001b[A\n",
            "\n",
            "Training Batches: 100%|██████████| 2/2 [00:19<00:00,  9.51s/it]\u001b[A\u001b[A\n",
            "\n",
            "                                                               \u001b[A\u001b[A\n",
            "\n",
            "Folds: 0it [34:41, ?it/s]\n",
            "Fold 1/3 Epochs:  45%|████▌     | 90/200 [34:41<42:46, 23.33s/it]\u001b[A"
          ]
        },
        {
          "output_type": "stream",
          "name": "stdout",
          "text": [
            "Epoch 90, Train Loss: 0.0519, Test Loss: 0.1917\n"
          ]
        },
        {
          "output_type": "stream",
          "name": "stderr",
          "text": [
            "\n",
            "\n",
            "Training Batches:   0%|          | 0/2 [00:00<?, ?it/s]\u001b[A\u001b[A\n",
            "\n",
            "Training Batches:  50%|█████     | 1/2 [00:09<00:09,  9.44s/it]\u001b[A\u001b[A\n",
            "\n",
            "Training Batches: 100%|██████████| 2/2 [00:18<00:00,  9.46s/it]\u001b[A\u001b[A\n",
            "\n",
            "                                                               \u001b[A\u001b[A\n",
            "\n",
            "Folds: 0it [35:05, ?it/s]\n",
            "Fold 1/3 Epochs:  46%|████▌     | 91/200 [35:05<42:21, 23.32s/it]\u001b[A"
          ]
        },
        {
          "output_type": "stream",
          "name": "stdout",
          "text": [
            "Epoch 91, Train Loss: 0.0521, Test Loss: 0.1953\n"
          ]
        },
        {
          "output_type": "stream",
          "name": "stderr",
          "text": [
            "\n",
            "\n",
            "Training Batches:   0%|          | 0/2 [00:00<?, ?it/s]\u001b[A\u001b[A\n",
            "\n",
            "Training Batches:  50%|█████     | 1/2 [00:09<00:09,  9.51s/it]\u001b[A\u001b[A\n",
            "\n",
            "Training Batches: 100%|██████████| 2/2 [00:18<00:00,  9.42s/it]\u001b[A\u001b[A\n",
            "\n",
            "                                                               \u001b[A\u001b[A\n",
            "\n",
            "Folds: 0it [35:28, ?it/s]\n",
            "Fold 1/3 Epochs:  46%|████▌     | 92/200 [35:28<41:58, 23.32s/it]\u001b[A"
          ]
        },
        {
          "output_type": "stream",
          "name": "stdout",
          "text": [
            "Epoch 92, Train Loss: 0.0533, Test Loss: 0.2013\n"
          ]
        },
        {
          "output_type": "stream",
          "name": "stderr",
          "text": [
            "\n",
            "\n",
            "Training Batches:   0%|          | 0/2 [00:00<?, ?it/s]\u001b[A\u001b[A\n",
            "\n",
            "Training Batches:  50%|█████     | 1/2 [00:09<00:09,  9.56s/it]\u001b[A\u001b[A\n",
            "\n",
            "Training Batches: 100%|██████████| 2/2 [00:18<00:00,  9.28s/it]\u001b[A\u001b[A\n",
            "\n",
            "                                                               \u001b[A\u001b[A\n",
            "\n",
            "Folds: 0it [35:51, ?it/s]\n",
            "Fold 1/3 Epochs:  46%|████▋     | 93/200 [35:51<41:37, 23.34s/it]\u001b[A"
          ]
        },
        {
          "output_type": "stream",
          "name": "stdout",
          "text": [
            "Epoch 93, Train Loss: 0.0498, Test Loss: 0.1941\n"
          ]
        },
        {
          "output_type": "stream",
          "name": "stderr",
          "text": [
            "\n",
            "\n",
            "Training Batches:   0%|          | 0/2 [00:00<?, ?it/s]\u001b[A\u001b[A\n",
            "\n",
            "Training Batches:  50%|█████     | 1/2 [00:09<00:09,  9.56s/it]\u001b[A\u001b[A\n",
            "\n",
            "Training Batches: 100%|██████████| 2/2 [00:18<00:00,  9.22s/it]\u001b[A\u001b[A\n",
            "\n",
            "                                                               \u001b[A\u001b[A\n",
            "\n",
            "Folds: 0it [36:15, ?it/s]\n",
            "Fold 1/3 Epochs:  47%|████▋     | 94/200 [36:15<41:18, 23.38s/it]\u001b[A"
          ]
        },
        {
          "output_type": "stream",
          "name": "stdout",
          "text": [
            "Epoch 94, Train Loss: 0.0500, Test Loss: 0.1943\n"
          ]
        },
        {
          "output_type": "stream",
          "name": "stderr",
          "text": [
            "\n",
            "\n",
            "Training Batches:   0%|          | 0/2 [00:00<?, ?it/s]\u001b[A\u001b[A\n",
            "\n",
            "Training Batches:  50%|█████     | 1/2 [00:09<00:09,  9.27s/it]\u001b[A\u001b[A\n",
            "\n",
            "Training Batches: 100%|██████████| 2/2 [00:18<00:00,  9.20s/it]\u001b[A\u001b[A\n",
            "\n",
            "                                                               \u001b[A\u001b[A\n",
            "\n",
            "Folds: 0it [36:38, ?it/s]\n",
            "Fold 1/3 Epochs:  48%|████▊     | 95/200 [36:38<40:54, 23.38s/it]\u001b[A"
          ]
        },
        {
          "output_type": "stream",
          "name": "stdout",
          "text": [
            "Epoch 95, Train Loss: 0.0501, Test Loss: 0.1943\n"
          ]
        },
        {
          "output_type": "stream",
          "name": "stderr",
          "text": [
            "\n",
            "\n",
            "Training Batches:   0%|          | 0/2 [00:00<?, ?it/s]\u001b[A\u001b[A\n",
            "\n",
            "Training Batches:  50%|█████     | 1/2 [00:08<00:08,  8.94s/it]\u001b[A\u001b[A\n",
            "\n",
            "Training Batches: 100%|██████████| 2/2 [00:18<00:00,  9.20s/it]\u001b[A\u001b[A\n",
            "\n",
            "                                                               \u001b[A\u001b[A\n",
            "\n",
            "Folds: 0it [37:01, ?it/s]\n",
            "Fold 1/3 Epochs:  48%|████▊     | 96/200 [37:01<40:22, 23.30s/it]\u001b[A"
          ]
        },
        {
          "output_type": "stream",
          "name": "stdout",
          "text": [
            "Epoch 96, Train Loss: 0.0483, Test Loss: 0.2010\n"
          ]
        },
        {
          "output_type": "stream",
          "name": "stderr",
          "text": [
            "\n",
            "\n",
            "Training Batches:   0%|          | 0/2 [00:00<?, ?it/s]\u001b[A\u001b[A\n",
            "\n",
            "Training Batches:  50%|█████     | 1/2 [00:08<00:08,  8.91s/it]\u001b[A\u001b[A\n",
            "\n",
            "Training Batches: 100%|██████████| 2/2 [00:18<00:00,  9.34s/it]\u001b[A\u001b[A\n",
            "\n",
            "                                                               \u001b[A\u001b[A\n",
            "\n",
            "Folds: 0it [37:24, ?it/s]\n",
            "Fold 1/3 Epochs:  48%|████▊     | 97/200 [37:24<39:53, 23.24s/it]\u001b[A"
          ]
        },
        {
          "output_type": "stream",
          "name": "stdout",
          "text": [
            "Epoch 97, Train Loss: 0.0481, Test Loss: 0.1946\n"
          ]
        },
        {
          "output_type": "stream",
          "name": "stderr",
          "text": [
            "\n",
            "\n",
            "Training Batches:   0%|          | 0/2 [00:00<?, ?it/s]\u001b[A\u001b[A\n",
            "\n",
            "Training Batches:  50%|█████     | 1/2 [00:09<00:09,  9.33s/it]\u001b[A\u001b[A\n",
            "\n",
            "Training Batches: 100%|██████████| 2/2 [00:18<00:00,  9.36s/it]\u001b[A\u001b[A\n",
            "\n",
            "                                                               \u001b[A\u001b[A\n",
            "\n",
            "Folds: 0it [37:47, ?it/s]\n",
            "Fold 1/3 Epochs:  49%|████▉     | 98/200 [37:47<39:25, 23.19s/it]\u001b[A"
          ]
        },
        {
          "output_type": "stream",
          "name": "stdout",
          "text": [
            "Epoch 98, Train Loss: 0.0504, Test Loss: 0.1995\n"
          ]
        },
        {
          "output_type": "stream",
          "name": "stderr",
          "text": [
            "\n",
            "\n",
            "Training Batches:   0%|          | 0/2 [00:00<?, ?it/s]\u001b[A\u001b[A\n",
            "\n",
            "Training Batches:  50%|█████     | 1/2 [00:09<00:09,  9.45s/it]\u001b[A\u001b[A\n",
            "\n",
            "Training Batches: 100%|██████████| 2/2 [00:18<00:00,  9.49s/it]\u001b[A\u001b[A\n",
            "\n",
            "                                                               \u001b[A\u001b[A\n",
            "\n",
            "Folds: 0it [38:11, ?it/s]\n",
            "Fold 1/3 Epochs:  50%|████▉     | 99/200 [38:11<39:07, 23.24s/it]\u001b[A"
          ]
        },
        {
          "output_type": "stream",
          "name": "stdout",
          "text": [
            "Epoch 99, Train Loss: 0.0501, Test Loss: 0.1940\n"
          ]
        },
        {
          "output_type": "stream",
          "name": "stderr",
          "text": [
            "\n",
            "\n",
            "Training Batches:   0%|          | 0/2 [00:00<?, ?it/s]\u001b[A\u001b[A\n",
            "\n",
            "Training Batches:  50%|█████     | 1/2 [00:09<00:09,  9.53s/it]\u001b[A\u001b[A\n",
            "\n",
            "Training Batches: 100%|██████████| 2/2 [00:19<00:00,  9.51s/it]\u001b[A\u001b[A\n",
            "\n",
            "                                                               \u001b[A\u001b[A\n",
            "\n",
            "Folds: 0it [38:34, ?it/s]\n",
            "Fold 1/3 Epochs:  50%|█████     | 100/200 [38:34<38:47, 23.28s/it]\u001b[A"
          ]
        },
        {
          "output_type": "stream",
          "name": "stdout",
          "text": [
            "Epoch 100, Train Loss: 0.0485, Test Loss: 0.2076\n"
          ]
        },
        {
          "output_type": "stream",
          "name": "stderr",
          "text": [
            "\n",
            "\n",
            "Training Batches:   0%|          | 0/2 [00:00<?, ?it/s]\u001b[A\u001b[A\n",
            "\n",
            "Training Batches:  50%|█████     | 1/2 [00:09<00:09,  9.41s/it]\u001b[A\u001b[A\n",
            "\n",
            "Training Batches: 100%|██████████| 2/2 [00:18<00:00,  9.42s/it]\u001b[A\u001b[A\n",
            "\n",
            "                                                               \u001b[A\u001b[A\n",
            "\n",
            "Folds: 0it [38:57, ?it/s]\n",
            "Fold 1/3 Epochs:  50%|█████     | 101/200 [38:57<38:22, 23.26s/it]\u001b[A"
          ]
        },
        {
          "output_type": "stream",
          "name": "stdout",
          "text": [
            "Epoch 101, Train Loss: 0.0516, Test Loss: 0.1951\n"
          ]
        },
        {
          "output_type": "stream",
          "name": "stderr",
          "text": [
            "\n",
            "\n",
            "Training Batches:   0%|          | 0/2 [00:00<?, ?it/s]\u001b[A\u001b[A\n",
            "\n",
            "Training Batches:  50%|█████     | 1/2 [00:09<00:09,  9.48s/it]\u001b[A\u001b[A\n",
            "\n",
            "Training Batches: 100%|██████████| 2/2 [00:18<00:00,  9.44s/it]\u001b[A\u001b[A\n",
            "\n",
            "                                                               \u001b[A\u001b[A\n",
            "\n",
            "Folds: 0it [39:20, ?it/s]\n",
            "Fold 1/3 Epochs:  51%|█████     | 102/200 [39:20<37:56, 23.23s/it]\u001b[A"
          ]
        },
        {
          "output_type": "stream",
          "name": "stdout",
          "text": [
            "Epoch 102, Train Loss: 0.0468, Test Loss: 0.1946\n"
          ]
        },
        {
          "output_type": "stream",
          "name": "stderr",
          "text": [
            "\n",
            "\n",
            "Training Batches:   0%|          | 0/2 [00:00<?, ?it/s]\u001b[A\u001b[A\n",
            "\n",
            "Training Batches:  50%|█████     | 1/2 [00:09<00:09,  9.30s/it]\u001b[A\u001b[A\n",
            "\n",
            "Training Batches: 100%|██████████| 2/2 [00:18<00:00,  8.99s/it]\u001b[A\u001b[A\n",
            "\n",
            "                                                               \u001b[A\u001b[A\n",
            "\n",
            "Folds: 0it [39:43, ?it/s]\n",
            "Fold 1/3 Epochs:  52%|█████▏    | 103/200 [39:43<37:18, 23.08s/it]\u001b[A"
          ]
        },
        {
          "output_type": "stream",
          "name": "stdout",
          "text": [
            "Epoch 103, Train Loss: 0.0459, Test Loss: 0.1898\n"
          ]
        },
        {
          "output_type": "stream",
          "name": "stderr",
          "text": [
            "\n",
            "\n",
            "Training Batches:   0%|          | 0/2 [00:00<?, ?it/s]\u001b[A\u001b[A\n",
            "\n",
            "Training Batches:  50%|█████     | 1/2 [00:09<00:09,  9.21s/it]\u001b[A\u001b[A\n",
            "\n",
            "Training Batches: 100%|██████████| 2/2 [00:17<00:00,  8.94s/it]\u001b[A\u001b[A\n",
            "\n",
            "                                                               \u001b[A\u001b[A\n",
            "\n",
            "Folds: 0it [40:06, ?it/s]\n",
            "Fold 1/3 Epochs:  52%|█████▏    | 104/200 [40:06<36:46, 22.99s/it]\u001b[A"
          ]
        },
        {
          "output_type": "stream",
          "name": "stdout",
          "text": [
            "Epoch 104, Train Loss: 0.0445, Test Loss: 0.1919\n"
          ]
        },
        {
          "output_type": "stream",
          "name": "stderr",
          "text": [
            "\n",
            "\n",
            "Training Batches:   0%|          | 0/2 [00:00<?, ?it/s]\u001b[A\u001b[A\n",
            "\n",
            "Training Batches:  50%|█████     | 1/2 [00:08<00:08,  8.77s/it]\u001b[A\u001b[A\n",
            "\n",
            "Training Batches: 100%|██████████| 2/2 [00:18<00:00,  9.04s/it]\u001b[A\u001b[A\n",
            "\n",
            "                                                               \u001b[A\u001b[A\n",
            "\n",
            "Folds: 0it [40:29, ?it/s]\n",
            "Fold 1/3 Epochs:  52%|█████▎    | 105/200 [40:29<36:16, 22.91s/it]\u001b[A"
          ]
        },
        {
          "output_type": "stream",
          "name": "stdout",
          "text": [
            "Epoch 105, Train Loss: 0.0435, Test Loss: 0.1875\n"
          ]
        },
        {
          "output_type": "stream",
          "name": "stderr",
          "text": [
            "\n",
            "\n",
            "Training Batches:   0%|          | 0/2 [00:00<?, ?it/s]\u001b[A\u001b[A\n",
            "\n",
            "Training Batches:  50%|█████     | 1/2 [00:08<00:08,  8.91s/it]\u001b[A\u001b[A\n",
            "\n",
            "Training Batches: 100%|██████████| 2/2 [00:18<00:00,  9.17s/it]\u001b[A\u001b[A\n",
            "\n",
            "                                                               \u001b[A\u001b[A\n",
            "\n",
            "Folds: 0it [40:51, ?it/s]\n",
            "Fold 1/3 Epochs:  53%|█████▎    | 106/200 [40:51<35:47, 22.84s/it]\u001b[A"
          ]
        },
        {
          "output_type": "stream",
          "name": "stdout",
          "text": [
            "Epoch 106, Train Loss: 0.0446, Test Loss: 0.1878\n"
          ]
        },
        {
          "output_type": "stream",
          "name": "stderr",
          "text": [
            "\n",
            "\n",
            "Training Batches:   0%|          | 0/2 [00:00<?, ?it/s]\u001b[A\u001b[A\n",
            "\n",
            "Training Batches:  50%|█████     | 1/2 [00:09<00:09,  9.21s/it]\u001b[A\u001b[A\n",
            "\n",
            "Training Batches: 100%|██████████| 2/2 [00:18<00:00,  9.34s/it]\u001b[A\u001b[A\n",
            "\n",
            "                                                               \u001b[A\u001b[A\n",
            "\n",
            "Folds: 0it [41:14, ?it/s]\n",
            "Fold 1/3 Epochs:  54%|█████▎    | 107/200 [41:14<35:27, 22.87s/it]\u001b[A"
          ]
        },
        {
          "output_type": "stream",
          "name": "stdout",
          "text": [
            "Epoch 107, Train Loss: 0.0423, Test Loss: 0.1857\n"
          ]
        },
        {
          "output_type": "stream",
          "name": "stderr",
          "text": [
            "\n",
            "\n",
            "Training Batches:   0%|          | 0/2 [00:00<?, ?it/s]\u001b[A\u001b[A\n",
            "\n",
            "Training Batches:  50%|█████     | 1/2 [00:09<00:09,  9.41s/it]\u001b[A\u001b[A\n",
            "\n",
            "Training Batches: 100%|██████████| 2/2 [00:18<00:00,  9.42s/it]\u001b[A\u001b[A\n",
            "\n",
            "                                                               \u001b[A\u001b[A\n",
            "\n",
            "Folds: 0it [41:37, ?it/s]\n",
            "Fold 1/3 Epochs:  54%|█████▍    | 108/200 [41:37<35:12, 22.96s/it]\u001b[A"
          ]
        },
        {
          "output_type": "stream",
          "name": "stdout",
          "text": [
            "Epoch 108, Train Loss: 0.0449, Test Loss: 0.1853\n"
          ]
        },
        {
          "output_type": "stream",
          "name": "stderr",
          "text": [
            "\n",
            "\n",
            "Training Batches:   0%|          | 0/2 [00:00<?, ?it/s]\u001b[A\u001b[A\n",
            "\n",
            "Training Batches:  50%|█████     | 1/2 [00:09<00:09,  9.34s/it]\u001b[A\u001b[A\n",
            "\n",
            "Training Batches: 100%|██████████| 2/2 [00:18<00:00,  9.33s/it]\u001b[A\u001b[A\n",
            "\n",
            "                                                               \u001b[A\u001b[A\n",
            "\n",
            "Folds: 0it [42:00, ?it/s]\n",
            "Fold 1/3 Epochs:  55%|█████▍    | 109/200 [42:00<34:48, 22.95s/it]\u001b[A"
          ]
        },
        {
          "output_type": "stream",
          "name": "stdout",
          "text": [
            "Epoch 109, Train Loss: 0.0464, Test Loss: 0.1877\n"
          ]
        },
        {
          "output_type": "stream",
          "name": "stderr",
          "text": [
            "\n",
            "\n",
            "Training Batches:   0%|          | 0/2 [00:00<?, ?it/s]\u001b[A\u001b[A\n",
            "\n",
            "Training Batches:  50%|█████     | 1/2 [00:09<00:09,  9.36s/it]\u001b[A\u001b[A\n",
            "\n",
            "Training Batches: 100%|██████████| 2/2 [00:18<00:00,  9.40s/it]\u001b[A\u001b[A\n",
            "\n",
            "                                                               \u001b[A\u001b[A\n",
            "\n",
            "Folds: 0it [42:24, ?it/s]\n",
            "Fold 1/3 Epochs:  55%|█████▌    | 110/200 [42:24<34:29, 23.00s/it]\u001b[A"
          ]
        },
        {
          "output_type": "stream",
          "name": "stdout",
          "text": [
            "Epoch 110, Train Loss: 0.0536, Test Loss: 0.1911\n"
          ]
        },
        {
          "output_type": "stream",
          "name": "stderr",
          "text": [
            "\n",
            "\n",
            "Training Batches:   0%|          | 0/2 [00:00<?, ?it/s]\u001b[A\u001b[A\n",
            "\n",
            "Training Batches:  50%|█████     | 1/2 [00:09<00:09,  9.45s/it]\u001b[A\u001b[A\n",
            "\n",
            "Training Batches: 100%|██████████| 2/2 [00:18<00:00,  9.34s/it]\u001b[A\u001b[A\n",
            "\n",
            "                                                               \u001b[A\u001b[A\n",
            "\n",
            "Folds: 0it [42:47, ?it/s]\n",
            "Fold 1/3 Epochs:  56%|█████▌    | 111/200 [42:47<34:13, 23.08s/it]\u001b[A"
          ]
        },
        {
          "output_type": "stream",
          "name": "stdout",
          "text": [
            "Epoch 111, Train Loss: 0.0449, Test Loss: 0.2011\n"
          ]
        },
        {
          "output_type": "stream",
          "name": "stderr",
          "text": [
            "\n",
            "\n",
            "Training Batches:   0%|          | 0/2 [00:00<?, ?it/s]\u001b[A\u001b[A\n",
            "\n",
            "Training Batches:  50%|█████     | 1/2 [00:09<00:09,  9.46s/it]\u001b[A\u001b[A\n",
            "\n",
            "Training Batches: 100%|██████████| 2/2 [00:18<00:00,  9.12s/it]\u001b[A\u001b[A\n",
            "\n",
            "                                                               \u001b[A\u001b[A\n",
            "\n",
            "Folds: 0it [43:10, ?it/s]\n",
            "Fold 1/3 Epochs:  56%|█████▌    | 112/200 [43:10<33:53, 23.11s/it]\u001b[A"
          ]
        },
        {
          "output_type": "stream",
          "name": "stdout",
          "text": [
            "Epoch 112, Train Loss: 0.0463, Test Loss: 0.1958\n"
          ]
        },
        {
          "output_type": "stream",
          "name": "stderr",
          "text": [
            "\n",
            "\n",
            "Training Batches:   0%|          | 0/2 [00:00<?, ?it/s]\u001b[A\u001b[A\n",
            "\n",
            "Training Batches:  50%|█████     | 1/2 [00:09<00:09,  9.44s/it]\u001b[A\u001b[A\n",
            "\n",
            "Training Batches: 100%|██████████| 2/2 [00:18<00:00,  9.13s/it]\u001b[A\u001b[A\n",
            "\n",
            "                                                               \u001b[A\u001b[A\n",
            "\n",
            "Folds: 0it [43:33, ?it/s]\n",
            "Fold 1/3 Epochs:  56%|█████▋    | 113/200 [43:33<33:35, 23.16s/it]\u001b[A"
          ]
        },
        {
          "output_type": "stream",
          "name": "stdout",
          "text": [
            "Epoch 113, Train Loss: 0.0449, Test Loss: 0.1897\n"
          ]
        },
        {
          "output_type": "stream",
          "name": "stderr",
          "text": [
            "\n",
            "\n",
            "Training Batches:   0%|          | 0/2 [00:00<?, ?it/s]\u001b[A\u001b[A\n",
            "\n",
            "Training Batches:  50%|█████     | 1/2 [00:08<00:08,  8.98s/it]\u001b[A\u001b[A\n",
            "\n",
            "Training Batches: 100%|██████████| 2/2 [00:18<00:00,  9.14s/it]\u001b[A\u001b[A\n",
            "\n",
            "                                                               \u001b[A\u001b[A\n",
            "\n",
            "Folds: 0it [43:56, ?it/s]\n",
            "Fold 1/3 Epochs:  57%|█████▋    | 114/200 [43:56<33:08, 23.13s/it]\u001b[A"
          ]
        },
        {
          "output_type": "stream",
          "name": "stdout",
          "text": [
            "Epoch 114, Train Loss: 0.0446, Test Loss: 0.1893\n"
          ]
        },
        {
          "output_type": "stream",
          "name": "stderr",
          "text": [
            "\n",
            "\n",
            "Training Batches:   0%|          | 0/2 [00:00<?, ?it/s]\u001b[A\u001b[A\n",
            "\n",
            "Training Batches:  50%|█████     | 1/2 [00:08<00:08,  8.87s/it]\u001b[A\u001b[A\n",
            "\n",
            "Training Batches: 100%|██████████| 2/2 [00:18<00:00,  9.14s/it]\u001b[A\u001b[A\n",
            "\n",
            "                                                               \u001b[A\u001b[A\n",
            "\n",
            "Folds: 0it [44:19, ?it/s]\n",
            "Fold 1/3 Epochs:  57%|█████▊    | 115/200 [44:19<32:28, 22.92s/it]\u001b[A"
          ]
        },
        {
          "output_type": "stream",
          "name": "stdout",
          "text": [
            "Epoch 115, Train Loss: 0.0429, Test Loss: 0.1892\n"
          ]
        },
        {
          "output_type": "stream",
          "name": "stderr",
          "text": [
            "\n",
            "\n",
            "Training Batches:   0%|          | 0/2 [00:00<?, ?it/s]\u001b[A\u001b[A\n",
            "\n",
            "Training Batches:  50%|█████     | 1/2 [00:09<00:09,  9.28s/it]\u001b[A\u001b[A\n",
            "\n",
            "Training Batches: 100%|██████████| 2/2 [00:18<00:00,  9.33s/it]\u001b[A\u001b[A\n",
            "\n",
            "                                                               \u001b[A\u001b[A\n",
            "\n",
            "Folds: 0it [44:42, ?it/s]\n",
            "Fold 1/3 Epochs:  58%|█████▊    | 116/200 [44:42<32:06, 22.94s/it]\u001b[A"
          ]
        },
        {
          "output_type": "stream",
          "name": "stdout",
          "text": [
            "Epoch 116, Train Loss: 0.0446, Test Loss: 0.1963\n"
          ]
        },
        {
          "output_type": "stream",
          "name": "stderr",
          "text": [
            "\n",
            "\n",
            "Training Batches:   0%|          | 0/2 [00:00<?, ?it/s]\u001b[A\u001b[A\n",
            "\n",
            "Training Batches:  50%|█████     | 1/2 [00:09<00:09,  9.58s/it]\u001b[A\u001b[A\n",
            "\n",
            "Training Batches: 100%|██████████| 2/2 [00:19<00:00,  9.71s/it]\u001b[A\u001b[A\n",
            "\n",
            "                                                               \u001b[A\u001b[A\n",
            "\n",
            "Folds: 0it [45:06, ?it/s]\n",
            "Fold 1/3 Epochs:  58%|█████▊    | 117/200 [45:06<32:05, 23.20s/it]\u001b[A"
          ]
        },
        {
          "output_type": "stream",
          "name": "stdout",
          "text": [
            "Epoch 117, Train Loss: 0.0465, Test Loss: 0.1838\n"
          ]
        },
        {
          "output_type": "stream",
          "name": "stderr",
          "text": [
            "\n",
            "\n",
            "Training Batches:   0%|          | 0/2 [00:00<?, ?it/s]\u001b[A\u001b[A\n",
            "\n",
            "Training Batches:  50%|█████     | 1/2 [00:09<00:09,  9.64s/it]\u001b[A\u001b[A\n",
            "\n",
            "Training Batches: 100%|██████████| 2/2 [00:19<00:00,  9.56s/it]\u001b[A\u001b[A\n",
            "\n",
            "                                                               \u001b[A\u001b[A\n",
            "\n",
            "Folds: 0it [45:29, ?it/s]\n",
            "Fold 1/3 Epochs:  59%|█████▉    | 118/200 [45:29<31:50, 23.30s/it]\u001b[A"
          ]
        },
        {
          "output_type": "stream",
          "name": "stdout",
          "text": [
            "Epoch 118, Train Loss: 0.0410, Test Loss: 0.1974\n"
          ]
        },
        {
          "output_type": "stream",
          "name": "stderr",
          "text": [
            "\n",
            "\n",
            "Training Batches:   0%|          | 0/2 [00:00<?, ?it/s]\u001b[A\u001b[A\n",
            "\n",
            "Training Batches:  50%|█████     | 1/2 [00:09<00:09,  9.66s/it]\u001b[A\u001b[A\n",
            "\n",
            "Training Batches: 100%|██████████| 2/2 [00:19<00:00,  9.59s/it]\u001b[A\u001b[A\n",
            "\n",
            "                                                               \u001b[A\u001b[A\n",
            "\n",
            "Folds: 0it [45:53, ?it/s]\n",
            "Fold 1/3 Epochs:  60%|█████▉    | 119/200 [45:53<31:33, 23.37s/it]\u001b[A"
          ]
        },
        {
          "output_type": "stream",
          "name": "stdout",
          "text": [
            "Epoch 119, Train Loss: 0.0453, Test Loss: 0.1911\n"
          ]
        },
        {
          "output_type": "stream",
          "name": "stderr",
          "text": [
            "\n",
            "\n",
            "Training Batches:   0%|          | 0/2 [00:00<?, ?it/s]\u001b[A\u001b[A\n",
            "\n",
            "Training Batches:  50%|█████     | 1/2 [00:09<00:09,  9.58s/it]\u001b[A\u001b[A\n",
            "\n",
            "Training Batches: 100%|██████████| 2/2 [00:19<00:00,  9.52s/it]\u001b[A\u001b[A\n",
            "\n",
            "                                                               \u001b[A\u001b[A\n",
            "\n",
            "Folds: 0it [46:16, ?it/s]\n",
            "Fold 1/3 Epochs:  60%|██████    | 120/200 [46:16<31:10, 23.38s/it]\u001b[A"
          ]
        },
        {
          "output_type": "stream",
          "name": "stdout",
          "text": [
            "Epoch 120, Train Loss: 0.0401, Test Loss: 0.1861\n"
          ]
        },
        {
          "output_type": "stream",
          "name": "stderr",
          "text": [
            "\n",
            "\n",
            "Training Batches:   0%|          | 0/2 [00:00<?, ?it/s]\u001b[A\u001b[A\n",
            "\n",
            "Training Batches:  50%|█████     | 1/2 [00:09<00:09,  9.51s/it]\u001b[A\u001b[A\n",
            "\n",
            "Training Batches: 100%|██████████| 2/2 [00:18<00:00,  9.43s/it]\u001b[A\u001b[A\n",
            "\n",
            "                                                               \u001b[A\u001b[A\n",
            "\n",
            "Folds: 0it [46:39, ?it/s]\n",
            "Fold 1/3 Epochs:  60%|██████    | 121/200 [46:39<30:47, 23.39s/it]\u001b[A"
          ]
        },
        {
          "output_type": "stream",
          "name": "stdout",
          "text": [
            "Epoch 121, Train Loss: 0.0402, Test Loss: 0.1826\n"
          ]
        },
        {
          "output_type": "stream",
          "name": "stderr",
          "text": [
            "\n",
            "\n",
            "Training Batches:   0%|          | 0/2 [00:00<?, ?it/s]\u001b[A\u001b[A\n",
            "\n",
            "Training Batches:  50%|█████     | 1/2 [00:09<00:09,  9.56s/it]\u001b[A\u001b[A\n",
            "\n",
            "Training Batches: 100%|██████████| 2/2 [00:18<00:00,  9.29s/it]\u001b[A\u001b[A\n",
            "\n",
            "                                                               \u001b[A\u001b[A\n",
            "\n",
            "Folds: 0it [47:03, ?it/s]\n",
            "Fold 1/3 Epochs:  61%|██████    | 122/200 [47:03<30:24, 23.40s/it]\u001b[A"
          ]
        },
        {
          "output_type": "stream",
          "name": "stdout",
          "text": [
            "Epoch 122, Train Loss: 0.0424, Test Loss: 0.1868\n"
          ]
        },
        {
          "output_type": "stream",
          "name": "stderr",
          "text": [
            "\n",
            "\n",
            "Training Batches:   0%|          | 0/2 [00:00<?, ?it/s]\u001b[A\u001b[A\n",
            "\n",
            "Training Batches:  50%|█████     | 1/2 [00:09<00:09,  9.59s/it]\u001b[A\u001b[A\n",
            "\n",
            "Training Batches: 100%|██████████| 2/2 [00:18<00:00,  9.21s/it]\u001b[A\u001b[A\n",
            "\n",
            "                                                               \u001b[A\u001b[A\n",
            "\n",
            "Folds: 0it [47:26, ?it/s]\n",
            "Fold 1/3 Epochs:  62%|██████▏   | 123/200 [47:26<30:02, 23.41s/it]\u001b[A"
          ]
        },
        {
          "output_type": "stream",
          "name": "stdout",
          "text": [
            "Epoch 123, Train Loss: 0.0426, Test Loss: 0.1879\n"
          ]
        },
        {
          "output_type": "stream",
          "name": "stderr",
          "text": [
            "\n",
            "\n",
            "Training Batches:   0%|          | 0/2 [00:00<?, ?it/s]\u001b[A\u001b[A\n",
            "\n",
            "Training Batches:  50%|█████     | 1/2 [00:09<00:09,  9.09s/it]\u001b[A\u001b[A\n",
            "\n",
            "Training Batches: 100%|██████████| 2/2 [00:18<00:00,  9.09s/it]\u001b[A\u001b[A\n",
            "\n",
            "                                                               \u001b[A\u001b[A\n",
            "\n",
            "Folds: 0it [47:49, ?it/s]\n",
            "Fold 1/3 Epochs:  62%|██████▏   | 124/200 [47:49<29:30, 23.30s/it]\u001b[A"
          ]
        },
        {
          "output_type": "stream",
          "name": "stdout",
          "text": [
            "Epoch 124, Train Loss: 0.0401, Test Loss: 0.1865\n"
          ]
        },
        {
          "output_type": "stream",
          "name": "stderr",
          "text": [
            "\n",
            "\n",
            "Training Batches:   0%|          | 0/2 [00:00<?, ?it/s]\u001b[A\u001b[A\n",
            "\n",
            "Training Batches:  50%|█████     | 1/2 [00:08<00:08,  8.80s/it]\u001b[A\u001b[A\n",
            "\n",
            "Training Batches: 100%|██████████| 2/2 [00:18<00:00,  9.13s/it]\u001b[A\u001b[A\n",
            "\n",
            "                                                               \u001b[A\u001b[A\n",
            "\n",
            "Folds: 0it [48:12, ?it/s]\n",
            "Fold 1/3 Epochs:  62%|██████▎   | 125/200 [48:12<28:57, 23.17s/it]\u001b[A"
          ]
        },
        {
          "output_type": "stream",
          "name": "stdout",
          "text": [
            "Epoch 125, Train Loss: 0.0394, Test Loss: 0.1926\n"
          ]
        },
        {
          "output_type": "stream",
          "name": "stderr",
          "text": [
            "\n",
            "\n",
            "Training Batches:   0%|          | 0/2 [00:00<?, ?it/s]\u001b[A\u001b[A\n",
            "\n",
            "Training Batches:  50%|█████     | 1/2 [00:09<00:09,  9.03s/it]\u001b[A\u001b[A\n",
            "\n",
            "Training Batches: 100%|██████████| 2/2 [00:18<00:00,  9.17s/it]\u001b[A\u001b[A\n",
            "\n",
            "                                                               \u001b[A\u001b[A\n",
            "\n",
            "Folds: 0it [48:35, ?it/s]\n",
            "Fold 1/3 Epochs:  63%|██████▎   | 126/200 [48:35<28:21, 23.00s/it]\u001b[A"
          ]
        },
        {
          "output_type": "stream",
          "name": "stdout",
          "text": [
            "Epoch 126, Train Loss: 0.0399, Test Loss: 0.1850\n"
          ]
        },
        {
          "output_type": "stream",
          "name": "stderr",
          "text": [
            "\n",
            "\n",
            "Training Batches:   0%|          | 0/2 [00:00<?, ?it/s]\u001b[A\u001b[A\n",
            "\n",
            "Training Batches:  50%|█████     | 1/2 [00:09<00:09,  9.28s/it]\u001b[A\u001b[A\n",
            "\n",
            "Training Batches: 100%|██████████| 2/2 [00:18<00:00,  9.32s/it]\u001b[A\u001b[A\n",
            "\n",
            "                                                               \u001b[A\u001b[A\n",
            "\n",
            "Folds: 0it [48:58, ?it/s]\n",
            "Fold 1/3 Epochs:  64%|██████▎   | 127/200 [48:58<27:56, 22.97s/it]\u001b[A"
          ]
        },
        {
          "output_type": "stream",
          "name": "stdout",
          "text": [
            "Epoch 127, Train Loss: 0.0384, Test Loss: 0.1894\n"
          ]
        },
        {
          "output_type": "stream",
          "name": "stderr",
          "text": [
            "\n",
            "\n",
            "Training Batches:   0%|          | 0/2 [00:00<?, ?it/s]\u001b[A\u001b[A\n",
            "\n",
            "Training Batches:  50%|█████     | 1/2 [00:09<00:09,  9.74s/it]\u001b[A\u001b[A\n",
            "\n",
            "Training Batches: 100%|██████████| 2/2 [00:19<00:00,  9.66s/it]\u001b[A\u001b[A\n",
            "\n",
            "                                                               \u001b[A\u001b[A\n",
            "\n",
            "Folds: 0it [49:21, ?it/s]\n",
            "Fold 1/3 Epochs:  64%|██████▍   | 128/200 [49:21<27:49, 23.18s/it]\u001b[A"
          ]
        },
        {
          "output_type": "stream",
          "name": "stdout",
          "text": [
            "Epoch 128, Train Loss: 0.0395, Test Loss: 0.1855\n"
          ]
        },
        {
          "output_type": "stream",
          "name": "stderr",
          "text": [
            "\n",
            "\n",
            "Training Batches:   0%|          | 0/2 [00:00<?, ?it/s]\u001b[A\u001b[A\n",
            "\n",
            "Training Batches:  50%|█████     | 1/2 [00:09<00:09,  9.41s/it]\u001b[A\u001b[A\n",
            "\n",
            "Training Batches: 100%|██████████| 2/2 [00:19<00:00,  9.52s/it]\u001b[A\u001b[A\n",
            "\n",
            "                                                               \u001b[A\u001b[A\n",
            "\n",
            "Folds: 0it [49:45, ?it/s]\n",
            "Fold 1/3 Epochs:  64%|██████▍   | 129/200 [49:45<27:31, 23.25s/it]\u001b[A"
          ]
        },
        {
          "output_type": "stream",
          "name": "stdout",
          "text": [
            "Epoch 129, Train Loss: 0.0416, Test Loss: 0.1868\n"
          ]
        },
        {
          "output_type": "stream",
          "name": "stderr",
          "text": [
            "\n",
            "\n",
            "Training Batches:   0%|          | 0/2 [00:00<?, ?it/s]\u001b[A\u001b[A\n",
            "\n",
            "Training Batches:  50%|█████     | 1/2 [00:09<00:09,  9.48s/it]\u001b[A\u001b[A\n",
            "\n",
            "Training Batches: 100%|██████████| 2/2 [00:18<00:00,  9.50s/it]\u001b[A\u001b[A\n",
            "\n",
            "                                                               \u001b[A\u001b[A\n",
            "\n",
            "Folds: 0it [50:08, ?it/s]\n",
            "Fold 1/3 Epochs:  65%|██████▌   | 130/200 [50:08<27:09, 23.28s/it]\u001b[A"
          ]
        },
        {
          "output_type": "stream",
          "name": "stdout",
          "text": [
            "Epoch 130, Train Loss: 0.0415, Test Loss: 0.1824\n"
          ]
        },
        {
          "output_type": "stream",
          "name": "stderr",
          "text": [
            "\n",
            "\n",
            "Training Batches:   0%|          | 0/2 [00:00<?, ?it/s]\u001b[A\u001b[A\n",
            "\n",
            "Training Batches:  50%|█████     | 1/2 [00:09<00:09,  9.46s/it]\u001b[A\u001b[A\n",
            "\n",
            "Training Batches: 100%|██████████| 2/2 [00:18<00:00,  9.38s/it]\u001b[A\u001b[A\n",
            "\n",
            "                                                               \u001b[A\u001b[A\n",
            "\n",
            "Folds: 0it [50:31, ?it/s]\n",
            "Fold 1/3 Epochs:  66%|██████▌   | 131/200 [50:31<26:44, 23.25s/it]\u001b[A"
          ]
        },
        {
          "output_type": "stream",
          "name": "stdout",
          "text": [
            "Epoch 131, Train Loss: 0.0420, Test Loss: 0.1870\n"
          ]
        },
        {
          "output_type": "stream",
          "name": "stderr",
          "text": [
            "\n",
            "\n",
            "Training Batches:   0%|          | 0/2 [00:00<?, ?it/s]\u001b[A\u001b[A\n",
            "\n",
            "Training Batches:  50%|█████     | 1/2 [00:09<00:09,  9.42s/it]\u001b[A\u001b[A\n",
            "\n",
            "Training Batches: 100%|██████████| 2/2 [00:18<00:00,  9.14s/it]\u001b[A\u001b[A\n",
            "\n",
            "                                                               \u001b[A\u001b[A\n",
            "\n",
            "Folds: 0it [50:54, ?it/s]\n",
            "Fold 1/3 Epochs:  66%|██████▌   | 132/200 [50:54<26:18, 23.21s/it]\u001b[A"
          ]
        },
        {
          "output_type": "stream",
          "name": "stdout",
          "text": [
            "Epoch 132, Train Loss: 0.0400, Test Loss: 0.1857\n"
          ]
        },
        {
          "output_type": "stream",
          "name": "stderr",
          "text": [
            "\n",
            "\n",
            "Training Batches:   0%|          | 0/2 [00:00<?, ?it/s]\u001b[A\u001b[A\n",
            "\n",
            "Training Batches:  50%|█████     | 1/2 [00:09<00:09,  9.42s/it]\u001b[A\u001b[A\n",
            "\n",
            "Training Batches: 100%|██████████| 2/2 [00:18<00:00,  9.10s/it]\u001b[A\u001b[A\n",
            "\n",
            "                                                               \u001b[A\u001b[A\n",
            "\n",
            "Folds: 0it [51:18, ?it/s]\n",
            "Fold 1/3 Epochs:  66%|██████▋   | 133/200 [51:18<25:54, 23.20s/it]\u001b[A"
          ]
        },
        {
          "output_type": "stream",
          "name": "stdout",
          "text": [
            "Epoch 133, Train Loss: 0.0388, Test Loss: 0.1803\n"
          ]
        },
        {
          "output_type": "stream",
          "name": "stderr",
          "text": [
            "\n",
            "\n",
            "Training Batches:   0%|          | 0/2 [00:00<?, ?it/s]\u001b[A\u001b[A\n",
            "\n",
            "Training Batches:  50%|█████     | 1/2 [00:09<00:09,  9.11s/it]\u001b[A\u001b[A\n",
            "\n",
            "Training Batches: 100%|██████████| 2/2 [00:18<00:00,  9.25s/it]\u001b[A\u001b[A\n",
            "\n",
            "                                                               \u001b[A\u001b[A\n",
            "\n",
            "Folds: 0it [51:41, ?it/s]\n",
            "Fold 1/3 Epochs:  67%|██████▋   | 134/200 [51:41<25:33, 23.24s/it]\u001b[A"
          ]
        },
        {
          "output_type": "stream",
          "name": "stdout",
          "text": [
            "Epoch 134, Train Loss: 0.0423, Test Loss: 0.1845\n"
          ]
        },
        {
          "output_type": "stream",
          "name": "stderr",
          "text": [
            "\n",
            "\n",
            "Training Batches:   0%|          | 0/2 [00:00<?, ?it/s]\u001b[A\u001b[A\n",
            "\n",
            "Training Batches:  50%|█████     | 1/2 [00:08<00:08,  8.93s/it]\u001b[A\u001b[A\n",
            "\n",
            "Training Batches: 100%|██████████| 2/2 [00:18<00:00,  9.16s/it]\u001b[A\u001b[A\n",
            "\n",
            "                                                               \u001b[A\u001b[A\n",
            "\n",
            "Folds: 0it [52:04, ?it/s]\n",
            "Fold 1/3 Epochs:  68%|██████▊   | 135/200 [52:04<25:01, 23.11s/it]\u001b[A"
          ]
        },
        {
          "output_type": "stream",
          "name": "stdout",
          "text": [
            "Epoch 135, Train Loss: 0.0496, Test Loss: 0.1817\n"
          ]
        },
        {
          "output_type": "stream",
          "name": "stderr",
          "text": [
            "\n",
            "\n",
            "Training Batches:   0%|          | 0/2 [00:00<?, ?it/s]\u001b[A\u001b[A\n",
            "\n",
            "Training Batches:  50%|█████     | 1/2 [00:09<00:09,  9.17s/it]\u001b[A\u001b[A\n",
            "\n",
            "Training Batches: 100%|██████████| 2/2 [00:18<00:00,  9.30s/it]\u001b[A\u001b[A\n",
            "\n",
            "                                                               \u001b[A\u001b[A\n",
            "\n",
            "Folds: 0it [52:27, ?it/s]\n",
            "Fold 1/3 Epochs:  68%|██████▊   | 136/200 [52:27<24:34, 23.03s/it]\u001b[A"
          ]
        },
        {
          "output_type": "stream",
          "name": "stdout",
          "text": [
            "Epoch 136, Train Loss: 0.0426, Test Loss: 0.1964\n"
          ]
        },
        {
          "output_type": "stream",
          "name": "stderr",
          "text": [
            "\n",
            "\n",
            "Training Batches:   0%|          | 0/2 [00:00<?, ?it/s]\u001b[A\u001b[A\n",
            "\n",
            "Training Batches:  50%|█████     | 1/2 [00:09<00:09,  9.41s/it]\u001b[A\u001b[A\n",
            "\n",
            "Training Batches: 100%|██████████| 2/2 [00:18<00:00,  9.39s/it]\u001b[A\u001b[A\n",
            "\n",
            "                                                               \u001b[A\u001b[A\n",
            "\n",
            "Folds: 0it [52:50, ?it/s]\n",
            "Fold 1/3 Epochs:  68%|██████▊   | 137/200 [52:50<24:12, 23.05s/it]\u001b[A"
          ]
        },
        {
          "output_type": "stream",
          "name": "stdout",
          "text": [
            "Epoch 137, Train Loss: 0.0432, Test Loss: 0.1875\n"
          ]
        },
        {
          "output_type": "stream",
          "name": "stderr",
          "text": [
            "\n",
            "\n",
            "Training Batches:   0%|          | 0/2 [00:00<?, ?it/s]\u001b[A\u001b[A\n",
            "\n",
            "Training Batches:  50%|█████     | 1/2 [00:09<00:09,  9.32s/it]\u001b[A\u001b[A\n",
            "\n",
            "Training Batches: 100%|██████████| 2/2 [00:18<00:00,  9.31s/it]\u001b[A\u001b[A\n",
            "\n",
            "                                                               \u001b[A\u001b[A\n",
            "\n",
            "Folds: 0it [53:13, ?it/s]\n",
            "Fold 1/3 Epochs:  69%|██████▉   | 138/200 [53:13<23:47, 23.02s/it]\u001b[A"
          ]
        },
        {
          "output_type": "stream",
          "name": "stdout",
          "text": [
            "Epoch 138, Train Loss: 0.0404, Test Loss: 0.1900\n"
          ]
        },
        {
          "output_type": "stream",
          "name": "stderr",
          "text": [
            "\n",
            "\n",
            "Training Batches:   0%|          | 0/2 [00:00<?, ?it/s]\u001b[A\u001b[A\n",
            "\n",
            "Training Batches:  50%|█████     | 1/2 [00:09<00:09,  9.29s/it]\u001b[A\u001b[A\n",
            "\n",
            "Training Batches: 100%|██████████| 2/2 [00:18<00:00,  9.35s/it]\u001b[A\u001b[A\n",
            "\n",
            "                                                               \u001b[A\u001b[A\n",
            "\n",
            "Folds: 0it [53:36, ?it/s]\n",
            "Fold 1/3 Epochs:  70%|██████▉   | 139/200 [53:36<23:23, 23.01s/it]\u001b[A"
          ]
        },
        {
          "output_type": "stream",
          "name": "stdout",
          "text": [
            "Epoch 139, Train Loss: 0.0410, Test Loss: 0.1867\n"
          ]
        },
        {
          "output_type": "stream",
          "name": "stderr",
          "text": [
            "\n",
            "\n",
            "Training Batches:   0%|          | 0/2 [00:00<?, ?it/s]\u001b[A\u001b[A\n",
            "\n",
            "Training Batches:  50%|█████     | 1/2 [00:09<00:09,  9.48s/it]\u001b[A\u001b[A\n",
            "\n",
            "Training Batches: 100%|██████████| 2/2 [00:18<00:00,  9.33s/it]\u001b[A\u001b[A\n",
            "\n",
            "                                                               \u001b[A\u001b[A\n",
            "\n",
            "Folds: 0it [53:59, ?it/s]\n",
            "Fold 1/3 Epochs:  70%|███████   | 140/200 [53:59<23:02, 23.05s/it]\u001b[A"
          ]
        },
        {
          "output_type": "stream",
          "name": "stdout",
          "text": [
            "Epoch 140, Train Loss: 0.0410, Test Loss: 0.1860\n"
          ]
        },
        {
          "output_type": "stream",
          "name": "stderr",
          "text": [
            "\n",
            "\n",
            "Training Batches:   0%|          | 0/2 [00:00<?, ?it/s]\u001b[A\u001b[A\n",
            "\n",
            "Training Batches:  50%|█████     | 1/2 [00:09<00:09,  9.33s/it]\u001b[A\u001b[A\n",
            "\n",
            "Training Batches: 100%|██████████| 2/2 [00:18<00:00,  9.05s/it]\u001b[A\u001b[A\n",
            "\n",
            "                                                               \u001b[A\u001b[A\n",
            "\n",
            "Folds: 0it [54:22, ?it/s]\n",
            "Fold 1/3 Epochs:  70%|███████   | 141/200 [54:22<22:39, 23.04s/it]\u001b[A"
          ]
        },
        {
          "output_type": "stream",
          "name": "stdout",
          "text": [
            "Epoch 141, Train Loss: 0.0391, Test Loss: 0.1853\n"
          ]
        },
        {
          "output_type": "stream",
          "name": "stderr",
          "text": [
            "\n",
            "\n",
            "Training Batches:   0%|          | 0/2 [00:00<?, ?it/s]\u001b[A\u001b[A\n",
            "\n",
            "Training Batches:  50%|█████     | 1/2 [00:09<00:09,  9.19s/it]\u001b[A\u001b[A\n",
            "\n",
            "Training Batches: 100%|██████████| 2/2 [00:18<00:00,  9.08s/it]\u001b[A\u001b[A\n",
            "\n",
            "                                                               \u001b[A\u001b[A\n",
            "\n",
            "Folds: 0it [54:45, ?it/s]\n",
            "Fold 1/3 Epochs:  71%|███████   | 142/200 [54:45<22:16, 23.04s/it]\u001b[A"
          ]
        },
        {
          "output_type": "stream",
          "name": "stdout",
          "text": [
            "Epoch 142, Train Loss: 0.0384, Test Loss: 0.1817\n"
          ]
        },
        {
          "output_type": "stream",
          "name": "stderr",
          "text": [
            "\n",
            "\n",
            "Training Batches:   0%|          | 0/2 [00:00<?, ?it/s]\u001b[A\u001b[A\n",
            "\n",
            "Training Batches:  50%|█████     | 1/2 [00:08<00:08,  8.79s/it]\u001b[A\u001b[A\n",
            "\n",
            "Training Batches: 100%|██████████| 2/2 [00:18<00:00,  9.07s/it]\u001b[A\u001b[A\n",
            "\n",
            "                                                               \u001b[A\u001b[A\n",
            "\n",
            "Folds: 0it [55:08, ?it/s]\n",
            "Fold 1/3 Epochs:  72%|███████▏  | 143/200 [55:08<21:48, 22.96s/it]\u001b[A"
          ]
        },
        {
          "output_type": "stream",
          "name": "stdout",
          "text": [
            "Epoch 143, Train Loss: 0.0384, Test Loss: 0.1919\n"
          ]
        },
        {
          "output_type": "stream",
          "name": "stderr",
          "text": [
            "\n",
            "\n",
            "Training Batches:   0%|          | 0/2 [00:00<?, ?it/s]\u001b[A\u001b[A\n",
            "\n",
            "Training Batches:  50%|█████     | 1/2 [00:08<00:08,  8.98s/it]\u001b[A\u001b[A\n",
            "\n",
            "Training Batches: 100%|██████████| 2/2 [00:18<00:00,  9.15s/it]\u001b[A\u001b[A\n",
            "\n",
            "                                                               \u001b[A\u001b[A\n",
            "\n",
            "Folds: 0it [55:30, ?it/s]\n",
            "Fold 1/3 Epochs:  72%|███████▏  | 144/200 [55:30<21:18, 22.83s/it]\u001b[A"
          ]
        },
        {
          "output_type": "stream",
          "name": "stdout",
          "text": [
            "Epoch 144, Train Loss: 0.0398, Test Loss: 0.1865\n"
          ]
        },
        {
          "output_type": "stream",
          "name": "stderr",
          "text": [
            "\n",
            "\n",
            "Training Batches:   0%|          | 0/2 [00:00<?, ?it/s]\u001b[A\u001b[A\n",
            "\n",
            "Training Batches:  50%|█████     | 1/2 [00:09<00:09,  9.39s/it]\u001b[A\u001b[A\n",
            "\n",
            "Training Batches: 100%|██████████| 2/2 [00:18<00:00,  9.49s/it]\u001b[A\u001b[A\n",
            "\n",
            "                                                               \u001b[A\u001b[A\n",
            "\n",
            "Folds: 0it [55:54, ?it/s]\n",
            "Fold 1/3 Epochs:  72%|███████▎  | 145/200 [55:54<21:05, 23.00s/it]\u001b[A"
          ]
        },
        {
          "output_type": "stream",
          "name": "stdout",
          "text": [
            "Epoch 145, Train Loss: 0.0407, Test Loss: 0.1879\n"
          ]
        },
        {
          "output_type": "stream",
          "name": "stderr",
          "text": [
            "\n",
            "\n",
            "Training Batches:   0%|          | 0/2 [00:00<?, ?it/s]\u001b[A\u001b[A\n",
            "\n",
            "Training Batches:  50%|█████     | 1/2 [00:09<00:09,  9.63s/it]\u001b[A\u001b[A\n",
            "\n",
            "Training Batches: 100%|██████████| 2/2 [00:19<00:00,  9.63s/it]\u001b[A\u001b[A\n",
            "\n",
            "                                                               \u001b[A\u001b[A\n",
            "\n",
            "Folds: 0it [56:17, ?it/s]\n",
            "Fold 1/3 Epochs:  73%|███████▎  | 146/200 [56:17<20:54, 23.23s/it]\u001b[A"
          ]
        },
        {
          "output_type": "stream",
          "name": "stdout",
          "text": [
            "Epoch 146, Train Loss: 0.0423, Test Loss: 0.1848\n"
          ]
        },
        {
          "output_type": "stream",
          "name": "stderr",
          "text": [
            "\n",
            "\n",
            "Training Batches:   0%|          | 0/2 [00:00<?, ?it/s]\u001b[A\u001b[A\n",
            "\n",
            "Training Batches:  50%|█████     | 1/2 [00:09<00:09,  9.63s/it]\u001b[A\u001b[A\n",
            "\n",
            "Training Batches: 100%|██████████| 2/2 [00:19<00:00,  9.66s/it]\u001b[A\u001b[A\n",
            "\n",
            "                                                               \u001b[A\u001b[A\n",
            "\n",
            "Folds: 0it [56:41, ?it/s]\n",
            "Fold 1/3 Epochs:  74%|███████▎  | 147/200 [56:41<20:39, 23.39s/it]\u001b[A"
          ]
        },
        {
          "output_type": "stream",
          "name": "stdout",
          "text": [
            "Epoch 147, Train Loss: 0.0427, Test Loss: 0.1920\n"
          ]
        },
        {
          "output_type": "stream",
          "name": "stderr",
          "text": [
            "\n",
            "\n",
            "Training Batches:   0%|          | 0/2 [00:00<?, ?it/s]\u001b[A\u001b[A\n",
            "\n",
            "Training Batches:  50%|█████     | 1/2 [00:09<00:09,  9.70s/it]\u001b[A\u001b[A\n",
            "\n",
            "Training Batches: 100%|██████████| 2/2 [00:19<00:00,  9.73s/it]\u001b[A\u001b[A\n",
            "\n",
            "                                                               \u001b[A\u001b[A\n",
            "\n",
            "Folds: 0it [57:05, ?it/s]\n",
            "Fold 1/3 Epochs:  74%|███████▍  | 148/200 [57:05<20:25, 23.56s/it]\u001b[A"
          ]
        },
        {
          "output_type": "stream",
          "name": "stdout",
          "text": [
            "Epoch 148, Train Loss: 0.0390, Test Loss: 0.1792\n"
          ]
        },
        {
          "output_type": "stream",
          "name": "stderr",
          "text": [
            "\n",
            "\n",
            "Training Batches:   0%|          | 0/2 [00:00<?, ?it/s]\u001b[A\u001b[A\n",
            "\n",
            "Training Batches:  50%|█████     | 1/2 [00:09<00:09,  9.68s/it]\u001b[A\u001b[A\n",
            "\n",
            "Training Batches: 100%|██████████| 2/2 [00:19<00:00,  9.62s/it]\u001b[A\u001b[A\n",
            "\n",
            "                                                               \u001b[A\u001b[A\n",
            "\n",
            "Folds: 0it [57:29, ?it/s]\n",
            "Fold 1/3 Epochs:  74%|███████▍  | 149/200 [57:29<20:02, 23.59s/it]\u001b[A"
          ]
        },
        {
          "output_type": "stream",
          "name": "stdout",
          "text": [
            "Epoch 149, Train Loss: 0.0402, Test Loss: 0.1881\n"
          ]
        },
        {
          "output_type": "stream",
          "name": "stderr",
          "text": [
            "\n",
            "\n",
            "Training Batches:   0%|          | 0/2 [00:00<?, ?it/s]\u001b[A\u001b[A\n",
            "\n",
            "Training Batches:  50%|█████     | 1/2 [00:09<00:09,  9.60s/it]\u001b[A\u001b[A\n",
            "\n",
            "Training Batches: 100%|██████████| 2/2 [00:19<00:00,  9.50s/it]\u001b[A\u001b[A\n",
            "\n",
            "                                                               \u001b[A\u001b[A\n",
            "\n",
            "Folds: 0it [57:52, ?it/s]\n",
            "Fold 1/3 Epochs:  75%|███████▌  | 150/200 [57:52<19:35, 23.51s/it]\u001b[A"
          ]
        },
        {
          "output_type": "stream",
          "name": "stdout",
          "text": [
            "Epoch 150, Train Loss: 0.0387, Test Loss: 0.1815\n"
          ]
        },
        {
          "output_type": "stream",
          "name": "stderr",
          "text": [
            "\n",
            "\n",
            "Training Batches:   0%|          | 0/2 [00:00<?, ?it/s]\u001b[A\u001b[A\n",
            "\n",
            "Training Batches:  50%|█████     | 1/2 [00:09<00:09,  9.27s/it]\u001b[A\u001b[A\n",
            "\n",
            "Training Batches: 100%|██████████| 2/2 [00:18<00:00,  9.15s/it]\u001b[A\u001b[A\n",
            "\n",
            "                                                               \u001b[A\u001b[A\n",
            "\n",
            "Folds: 0it [58:15, ?it/s]\n",
            "Fold 1/3 Epochs:  76%|███████▌  | 151/200 [58:15<19:04, 23.35s/it]\u001b[A"
          ]
        },
        {
          "output_type": "stream",
          "name": "stdout",
          "text": [
            "Epoch 151, Train Loss: 0.0367, Test Loss: 0.1930\n"
          ]
        },
        {
          "output_type": "stream",
          "name": "stderr",
          "text": [
            "\n",
            "\n",
            "Training Batches:   0%|          | 0/2 [00:00<?, ?it/s]\u001b[A\u001b[A\n",
            "\n",
            "Training Batches:  50%|█████     | 1/2 [00:09<00:09,  9.32s/it]\u001b[A\u001b[A\n",
            "\n",
            "Training Batches: 100%|██████████| 2/2 [00:18<00:00,  8.96s/it]\u001b[A\u001b[A\n",
            "\n",
            "                                                               \u001b[A\u001b[A\n",
            "\n",
            "Folds: 0it [58:38, ?it/s]\n",
            "Fold 1/3 Epochs:  76%|███████▌  | 152/200 [58:38<18:33, 23.21s/it]\u001b[A"
          ]
        },
        {
          "output_type": "stream",
          "name": "stdout",
          "text": [
            "Epoch 152, Train Loss: 0.0389, Test Loss: 0.1846\n"
          ]
        },
        {
          "output_type": "stream",
          "name": "stderr",
          "text": [
            "\n",
            "\n",
            "Training Batches:   0%|          | 0/2 [00:00<?, ?it/s]\u001b[A\u001b[A\n",
            "\n",
            "Training Batches:  50%|█████     | 1/2 [00:08<00:08,  8.93s/it]\u001b[A\u001b[A\n",
            "\n",
            "Training Batches: 100%|██████████| 2/2 [00:17<00:00,  8.98s/it]\u001b[A\u001b[A\n",
            "\n",
            "                                                               \u001b[A\u001b[A\n",
            "\n",
            "Folds: 0it [59:01, ?it/s]\n",
            "Fold 1/3 Epochs:  76%|███████▋  | 153/200 [59:01<18:03, 23.06s/it]\u001b[A"
          ]
        },
        {
          "output_type": "stream",
          "name": "stdout",
          "text": [
            "Epoch 153, Train Loss: 0.0390, Test Loss: 0.1837\n"
          ]
        },
        {
          "output_type": "stream",
          "name": "stderr",
          "text": [
            "\n",
            "\n",
            "Training Batches:   0%|          | 0/2 [00:00<?, ?it/s]\u001b[A\u001b[A\n",
            "\n",
            "Training Batches:  50%|█████     | 1/2 [00:08<00:08,  8.86s/it]\u001b[A\u001b[A\n",
            "\n",
            "Training Batches: 100%|██████████| 2/2 [00:18<00:00,  9.17s/it]\u001b[A\u001b[A\n",
            "\n",
            "                                                               \u001b[A\u001b[A\n",
            "\n",
            "Folds: 0it [59:23, ?it/s]\n",
            "Fold 1/3 Epochs:  77%|███████▋  | 154/200 [59:23<17:37, 23.00s/it]\u001b[A"
          ]
        },
        {
          "output_type": "stream",
          "name": "stdout",
          "text": [
            "Epoch 154, Train Loss: 0.0396, Test Loss: 0.1815\n"
          ]
        },
        {
          "output_type": "stream",
          "name": "stderr",
          "text": [
            "\n",
            "\n",
            "Training Batches:   0%|          | 0/2 [00:00<?, ?it/s]\u001b[A\u001b[A\n",
            "\n",
            "Training Batches:  50%|█████     | 1/2 [00:09<00:09,  9.05s/it]\u001b[A\u001b[A\n",
            "\n",
            "Training Batches: 100%|██████████| 2/2 [00:18<00:00,  9.17s/it]\u001b[A\u001b[A\n",
            "\n",
            "                                                               \u001b[A\u001b[A\n",
            "\n",
            "Folds: 0it [59:46, ?it/s]\n",
            "Fold 1/3 Epochs:  78%|███████▊  | 155/200 [59:46<17:09, 22.87s/it]\u001b[A"
          ]
        },
        {
          "output_type": "stream",
          "name": "stdout",
          "text": [
            "Epoch 155, Train Loss: 0.0360, Test Loss: 0.1845\n"
          ]
        },
        {
          "output_type": "stream",
          "name": "stderr",
          "text": [
            "\n",
            "\n",
            "Training Batches:   0%|          | 0/2 [00:00<?, ?it/s]\u001b[A\u001b[A\n",
            "\n",
            "Training Batches:  50%|█████     | 1/2 [00:09<00:09,  9.20s/it]\u001b[A\u001b[A\n",
            "\n",
            "Training Batches: 100%|██████████| 2/2 [00:18<00:00,  9.18s/it]\u001b[A\u001b[A\n",
            "\n",
            "                                                               \u001b[A\u001b[A\n",
            "\n",
            "Folds: 0it [1:00:09, ?it/s]\n",
            "Fold 1/3 Epochs:  78%|███████▊  | 156/200 [1:00:09<16:43, 22.80s/it]\u001b[A"
          ]
        },
        {
          "output_type": "stream",
          "name": "stdout",
          "text": [
            "Epoch 156, Train Loss: 0.0381, Test Loss: 0.1897\n"
          ]
        },
        {
          "output_type": "stream",
          "name": "stderr",
          "text": [
            "\n",
            "\n",
            "Training Batches:   0%|          | 0/2 [00:00<?, ?it/s]\u001b[A\u001b[A\n",
            "\n",
            "Training Batches:  50%|█████     | 1/2 [00:09<00:09,  9.36s/it]\u001b[A\u001b[A\n",
            "\n",
            "Training Batches: 100%|██████████| 2/2 [00:18<00:00,  9.31s/it]\u001b[A\u001b[A\n",
            "\n",
            "                                                               \u001b[A\u001b[A\n",
            "\n",
            "Folds: 0it [1:00:32, ?it/s]\n",
            "Fold 1/3 Epochs:  78%|███████▊  | 157/200 [1:00:32<16:22, 22.84s/it]\u001b[A"
          ]
        },
        {
          "output_type": "stream",
          "name": "stdout",
          "text": [
            "Epoch 157, Train Loss: 0.0361, Test Loss: 0.1933\n"
          ]
        },
        {
          "output_type": "stream",
          "name": "stderr",
          "text": [
            "\n",
            "\n",
            "Training Batches:   0%|          | 0/2 [00:00<?, ?it/s]\u001b[A\u001b[A\n",
            "\n",
            "Training Batches:  50%|█████     | 1/2 [00:09<00:09,  9.27s/it]\u001b[A\u001b[A\n",
            "\n",
            "Training Batches: 100%|██████████| 2/2 [00:18<00:00,  9.32s/it]\u001b[A\u001b[A\n",
            "\n",
            "                                                               \u001b[A\u001b[A\n",
            "\n",
            "Folds: 0it [1:00:55, ?it/s]\n",
            "Fold 1/3 Epochs:  79%|███████▉  | 158/200 [1:00:54<16:00, 22.87s/it]\u001b[A"
          ]
        },
        {
          "output_type": "stream",
          "name": "stdout",
          "text": [
            "Epoch 158, Train Loss: 0.0380, Test Loss: 0.1867\n"
          ]
        },
        {
          "output_type": "stream",
          "name": "stderr",
          "text": [
            "\n",
            "\n",
            "Training Batches:   0%|          | 0/2 [00:00<?, ?it/s]\u001b[A\u001b[A\n",
            "\n",
            "Training Batches:  50%|█████     | 1/2 [00:09<00:09,  9.27s/it]\u001b[A\u001b[A\n",
            "\n",
            "Training Batches: 100%|██████████| 2/2 [00:18<00:00,  9.08s/it]\u001b[A\u001b[A\n",
            "\n",
            "                                                               \u001b[A\u001b[A\n",
            "\n",
            "Folds: 0it [1:01:17, ?it/s]\n",
            "Fold 1/3 Epochs:  80%|███████▉  | 159/200 [1:01:17<15:36, 22.84s/it]\u001b[A"
          ]
        },
        {
          "output_type": "stream",
          "name": "stdout",
          "text": [
            "Epoch 159, Train Loss: 0.0387, Test Loss: 0.1813\n"
          ]
        },
        {
          "output_type": "stream",
          "name": "stderr",
          "text": [
            "\n",
            "\n",
            "Training Batches:   0%|          | 0/2 [00:00<?, ?it/s]\u001b[A\u001b[A\n",
            "\n",
            "Training Batches:  50%|█████     | 1/2 [00:09<00:09,  9.29s/it]\u001b[A\u001b[A\n",
            "\n",
            "Training Batches: 100%|██████████| 2/2 [00:18<00:00,  8.96s/it]\u001b[A\u001b[A\n",
            "\n",
            "                                                               \u001b[A\u001b[A\n",
            "\n",
            "Folds: 0it [1:01:40, ?it/s]\n",
            "Fold 1/3 Epochs:  80%|████████  | 160/200 [1:01:40<15:13, 22.84s/it]\u001b[A"
          ]
        },
        {
          "output_type": "stream",
          "name": "stdout",
          "text": [
            "Epoch 160, Train Loss: 0.0375, Test Loss: 0.1819\n"
          ]
        },
        {
          "output_type": "stream",
          "name": "stderr",
          "text": [
            "\n",
            "\n",
            "Training Batches:   0%|          | 0/2 [00:00<?, ?it/s]\u001b[A\u001b[A\n",
            "\n",
            "Training Batches:  50%|█████     | 1/2 [00:08<00:08,  8.94s/it]\u001b[A\u001b[A\n",
            "\n",
            "Training Batches: 100%|██████████| 2/2 [00:17<00:00,  9.00s/it]\u001b[A\u001b[A\n",
            "\n",
            "                                                               \u001b[A\u001b[A\n",
            "\n",
            "Folds: 0it [1:02:03, ?it/s]\n",
            "Fold 1/3 Epochs:  80%|████████  | 161/200 [1:02:03<14:49, 22.81s/it]\u001b[A"
          ]
        },
        {
          "output_type": "stream",
          "name": "stdout",
          "text": [
            "Epoch 161, Train Loss: 0.0369, Test Loss: 0.1879\n"
          ]
        },
        {
          "output_type": "stream",
          "name": "stderr",
          "text": [
            "\n",
            "\n",
            "Training Batches:   0%|          | 0/2 [00:00<?, ?it/s]\u001b[A\u001b[A\n",
            "\n",
            "Training Batches:  50%|█████     | 1/2 [00:08<00:08,  8.86s/it]\u001b[A\u001b[A\n",
            "\n",
            "Training Batches: 100%|██████████| 2/2 [00:18<00:00,  9.16s/it]\u001b[A\u001b[A\n",
            "\n",
            "                                                               \u001b[A\u001b[A\n",
            "\n",
            "Folds: 0it [1:02:26, ?it/s]\n",
            "Fold 1/3 Epochs:  81%|████████  | 162/200 [1:02:26<14:25, 22.78s/it]\u001b[A"
          ]
        },
        {
          "output_type": "stream",
          "name": "stdout",
          "text": [
            "Epoch 162, Train Loss: 0.0374, Test Loss: 0.1846\n"
          ]
        },
        {
          "output_type": "stream",
          "name": "stderr",
          "text": [
            "\n",
            "\n",
            "Training Batches:   0%|          | 0/2 [00:00<?, ?it/s]\u001b[A\u001b[A\n",
            "\n",
            "Training Batches:  50%|█████     | 1/2 [00:09<00:09,  9.17s/it]\u001b[A\u001b[A\n",
            "\n",
            "Training Batches: 100%|██████████| 2/2 [00:18<00:00,  9.17s/it]\u001b[A\u001b[A\n",
            "\n",
            "                                                               \u001b[A\u001b[A\n",
            "\n",
            "Folds: 0it [1:02:48, ?it/s]\n",
            "Fold 1/3 Epochs:  82%|████████▏ | 163/200 [1:02:48<14:01, 22.74s/it]\u001b[A"
          ]
        },
        {
          "output_type": "stream",
          "name": "stdout",
          "text": [
            "Epoch 163, Train Loss: 0.0368, Test Loss: 0.1829\n"
          ]
        },
        {
          "output_type": "stream",
          "name": "stderr",
          "text": [
            "\n",
            "\n",
            "Training Batches:   0%|          | 0/2 [00:00<?, ?it/s]\u001b[A\u001b[A\n",
            "\n",
            "Training Batches:  50%|█████     | 1/2 [00:09<00:09,  9.13s/it]\u001b[A\u001b[A\n",
            "\n",
            "Training Batches: 100%|██████████| 2/2 [00:18<00:00,  9.16s/it]\u001b[A\u001b[A\n",
            "\n",
            "                                                               \u001b[A\u001b[A\n",
            "\n",
            "Folds: 0it [1:03:11, ?it/s]\n",
            "Fold 1/3 Epochs:  82%|████████▏ | 164/200 [1:03:11<13:36, 22.68s/it]\u001b[A"
          ]
        },
        {
          "output_type": "stream",
          "name": "stdout",
          "text": [
            "Epoch 164, Train Loss: 0.0362, Test Loss: 0.1858\n"
          ]
        },
        {
          "output_type": "stream",
          "name": "stderr",
          "text": [
            "\n",
            "\n",
            "Training Batches:   0%|          | 0/2 [00:00<?, ?it/s]\u001b[A\u001b[A\n",
            "\n",
            "Training Batches:  50%|█████     | 1/2 [00:09<00:09,  9.40s/it]\u001b[A\u001b[A\n",
            "\n",
            "Training Batches: 100%|██████████| 2/2 [00:18<00:00,  9.45s/it]\u001b[A\u001b[A\n",
            "\n",
            "                                                               \u001b[A\u001b[A\n",
            "\n",
            "Folds: 0it [1:03:34, ?it/s]\n",
            "Fold 1/3 Epochs:  82%|████████▎ | 165/200 [1:03:34<13:19, 22.84s/it]\u001b[A"
          ]
        },
        {
          "output_type": "stream",
          "name": "stdout",
          "text": [
            "Epoch 165, Train Loss: 0.0351, Test Loss: 0.1823\n"
          ]
        },
        {
          "output_type": "stream",
          "name": "stderr",
          "text": [
            "\n",
            "\n",
            "Training Batches:   0%|          | 0/2 [00:00<?, ?it/s]\u001b[A\u001b[A\n",
            "\n",
            "Training Batches:  50%|█████     | 1/2 [00:09<00:09,  9.37s/it]\u001b[A\u001b[A\n",
            "\n",
            "Training Batches: 100%|██████████| 2/2 [00:18<00:00,  9.31s/it]\u001b[A\u001b[A\n",
            "\n",
            "                                                               \u001b[A\u001b[A\n",
            "\n",
            "Folds: 0it [1:03:57, ?it/s]\n",
            "Fold 1/3 Epochs:  83%|████████▎ | 166/200 [1:03:57<12:57, 22.87s/it]\u001b[A"
          ]
        },
        {
          "output_type": "stream",
          "name": "stdout",
          "text": [
            "Epoch 166, Train Loss: 0.0347, Test Loss: 0.1807\n"
          ]
        },
        {
          "output_type": "stream",
          "name": "stderr",
          "text": [
            "\n",
            "\n",
            "Training Batches:   0%|          | 0/2 [00:00<?, ?it/s]\u001b[A\u001b[A\n",
            "\n",
            "Training Batches:  50%|█████     | 1/2 [00:09<00:09,  9.44s/it]\u001b[A\u001b[A\n",
            "\n",
            "Training Batches: 100%|██████████| 2/2 [00:18<00:00,  9.18s/it]\u001b[A\u001b[A\n",
            "\n",
            "                                                               \u001b[A\u001b[A\n",
            "\n",
            "Folds: 0it [1:04:20, ?it/s]\n",
            "Fold 1/3 Epochs:  84%|████████▎ | 167/200 [1:04:20<12:36, 22.94s/it]\u001b[A"
          ]
        },
        {
          "output_type": "stream",
          "name": "stdout",
          "text": [
            "Epoch 167, Train Loss: 0.0349, Test Loss: 0.1807\n"
          ]
        },
        {
          "output_type": "stream",
          "name": "stderr",
          "text": [
            "\n",
            "\n",
            "Training Batches:   0%|          | 0/2 [00:00<?, ?it/s]\u001b[A\u001b[A\n",
            "\n",
            "Training Batches:  50%|█████     | 1/2 [00:09<00:09,  9.38s/it]\u001b[A\u001b[A\n",
            "\n",
            "Training Batches: 100%|██████████| 2/2 [00:18<00:00,  9.10s/it]\u001b[A\u001b[A\n",
            "\n",
            "                                                               \u001b[A\u001b[A\n",
            "\n",
            "Folds: 0it [1:04:43, ?it/s]\n",
            "Fold 1/3 Epochs:  84%|████████▍ | 168/200 [1:04:43<12:15, 22.99s/it]\u001b[A"
          ]
        },
        {
          "output_type": "stream",
          "name": "stdout",
          "text": [
            "Epoch 168, Train Loss: 0.0343, Test Loss: 0.1793\n"
          ]
        },
        {
          "output_type": "stream",
          "name": "stderr",
          "text": [
            "\n",
            "\n",
            "Training Batches:   0%|          | 0/2 [00:00<?, ?it/s]\u001b[A\u001b[A\n",
            "\n",
            "Training Batches:  50%|█████     | 1/2 [00:08<00:08,  8.99s/it]\u001b[A\u001b[A\n",
            "\n",
            "Training Batches: 100%|██████████| 2/2 [00:18<00:00,  9.04s/it]\u001b[A\u001b[A\n",
            "\n",
            "                                                               \u001b[A\u001b[A\n",
            "\n",
            "Folds: 0it [1:05:06, ?it/s]\n",
            "Fold 1/3 Epochs:  84%|████████▍ | 169/200 [1:05:06<11:52, 22.97s/it]\u001b[A"
          ]
        },
        {
          "output_type": "stream",
          "name": "stdout",
          "text": [
            "Epoch 169, Train Loss: 0.0349, Test Loss: 0.1788\n"
          ]
        },
        {
          "output_type": "stream",
          "name": "stderr",
          "text": [
            "\n",
            "\n",
            "Training Batches:   0%|          | 0/2 [00:00<?, ?it/s]\u001b[A\u001b[A\n",
            "\n",
            "Training Batches:  50%|█████     | 1/2 [00:08<00:08,  8.70s/it]\u001b[A\u001b[A\n",
            "\n",
            "Training Batches: 100%|██████████| 2/2 [00:18<00:00,  9.07s/it]\u001b[A\u001b[A\n",
            "\n",
            "                                                               \u001b[A\u001b[A\n",
            "\n",
            "Folds: 0it [1:05:29, ?it/s]\n",
            "Fold 1/3 Epochs:  85%|████████▌ | 170/200 [1:05:29<11:25, 22.84s/it]\u001b[A"
          ]
        },
        {
          "output_type": "stream",
          "name": "stdout",
          "text": [
            "Epoch 170, Train Loss: 0.0415, Test Loss: 0.1838\n"
          ]
        },
        {
          "output_type": "stream",
          "name": "stderr",
          "text": [
            "\n",
            "\n",
            "Training Batches:   0%|          | 0/2 [00:00<?, ?it/s]\u001b[A\u001b[A\n",
            "\n",
            "Training Batches:  50%|█████     | 1/2 [00:09<00:09,  9.15s/it]\u001b[A\u001b[A\n",
            "\n",
            "Training Batches: 100%|██████████| 2/2 [00:18<00:00,  9.26s/it]\u001b[A\u001b[A\n",
            "\n",
            "                                                               \u001b[A\u001b[A\n",
            "\n",
            "Folds: 0it [1:05:51, ?it/s]\n",
            "Fold 1/3 Epochs:  86%|████████▌ | 171/200 [1:05:51<11:01, 22.83s/it]\u001b[A"
          ]
        },
        {
          "output_type": "stream",
          "name": "stdout",
          "text": [
            "Epoch 171, Train Loss: 0.0416, Test Loss: 0.1838\n"
          ]
        },
        {
          "output_type": "stream",
          "name": "stderr",
          "text": [
            "\n",
            "\n",
            "Training Batches:   0%|          | 0/2 [00:00<?, ?it/s]\u001b[A\u001b[A\n",
            "\n",
            "Training Batches:  50%|█████     | 1/2 [00:09<00:09,  9.41s/it]\u001b[A\u001b[A\n",
            "\n",
            "Training Batches: 100%|██████████| 2/2 [00:18<00:00,  9.37s/it]\u001b[A\u001b[A\n",
            "\n",
            "                                                               \u001b[A\u001b[A\n",
            "\n",
            "Folds: 0it [1:06:14, ?it/s]\n",
            "Fold 1/3 Epochs:  86%|████████▌ | 172/200 [1:06:14<10:40, 22.89s/it]\u001b[A"
          ]
        },
        {
          "output_type": "stream",
          "name": "stdout",
          "text": [
            "Epoch 172, Train Loss: 0.0396, Test Loss: 0.1985\n"
          ]
        },
        {
          "output_type": "stream",
          "name": "stderr",
          "text": [
            "\n",
            "\n",
            "Training Batches:   0%|          | 0/2 [00:00<?, ?it/s]\u001b[A\u001b[A\n",
            "\n",
            "Training Batches:  50%|█████     | 1/2 [00:09<00:09,  9.35s/it]\u001b[A\u001b[A\n",
            "\n",
            "Training Batches: 100%|██████████| 2/2 [00:18<00:00,  9.39s/it]\u001b[A\u001b[A\n",
            "\n",
            "                                                               \u001b[A\u001b[A\n",
            "\n",
            "Folds: 0it [1:06:37, ?it/s]\n",
            "Fold 1/3 Epochs:  86%|████████▋ | 173/200 [1:06:37<10:19, 22.94s/it]\u001b[A"
          ]
        },
        {
          "output_type": "stream",
          "name": "stdout",
          "text": [
            "Epoch 173, Train Loss: 0.0427, Test Loss: 0.1815\n"
          ]
        },
        {
          "output_type": "stream",
          "name": "stderr",
          "text": [
            "\n",
            "\n",
            "Training Batches:   0%|          | 0/2 [00:00<?, ?it/s]\u001b[A\u001b[A\n",
            "\n",
            "Training Batches:  50%|█████     | 1/2 [00:09<00:09,  9.35s/it]\u001b[A\u001b[A\n",
            "\n",
            "Training Batches: 100%|██████████| 2/2 [00:18<00:00,  9.32s/it]\u001b[A\u001b[A\n",
            "\n",
            "                                                               \u001b[A\u001b[A\n",
            "\n",
            "Folds: 0it [1:07:00, ?it/s]\n",
            "Fold 1/3 Epochs:  87%|████████▋ | 174/200 [1:07:00<09:56, 22.94s/it]\u001b[A"
          ]
        },
        {
          "output_type": "stream",
          "name": "stdout",
          "text": [
            "Epoch 174, Train Loss: 0.0435, Test Loss: 0.1931\n"
          ]
        },
        {
          "output_type": "stream",
          "name": "stderr",
          "text": [
            "\n",
            "\n",
            "Training Batches:   0%|          | 0/2 [00:00<?, ?it/s]\u001b[A\u001b[A\n",
            "\n",
            "Training Batches:  50%|█████     | 1/2 [00:09<00:09,  9.34s/it]\u001b[A\u001b[A\n",
            "\n",
            "Training Batches: 100%|██████████| 2/2 [00:18<00:00,  9.28s/it]\u001b[A\u001b[A\n",
            "\n",
            "                                                               \u001b[A\u001b[A\n",
            "\n",
            "Folds: 0it [1:07:24, ?it/s]\n",
            "Fold 1/3 Epochs:  88%|████████▊ | 175/200 [1:07:24<09:34, 22.99s/it]\u001b[A"
          ]
        },
        {
          "output_type": "stream",
          "name": "stdout",
          "text": [
            "Epoch 175, Train Loss: 0.0459, Test Loss: 0.1857\n"
          ]
        },
        {
          "output_type": "stream",
          "name": "stderr",
          "text": [
            "\n",
            "\n",
            "Training Batches:   0%|          | 0/2 [00:00<?, ?it/s]\u001b[A\u001b[A\n",
            "\n",
            "Training Batches:  50%|█████     | 1/2 [00:09<00:09,  9.41s/it]\u001b[A\u001b[A\n",
            "\n",
            "Training Batches: 100%|██████████| 2/2 [00:18<00:00,  9.06s/it]\u001b[A\u001b[A\n",
            "\n",
            "                                                               \u001b[A\u001b[A\n",
            "\n",
            "Folds: 0it [1:07:47, ?it/s]\n",
            "Fold 1/3 Epochs:  88%|████████▊ | 176/200 [1:07:47<09:12, 23.02s/it]\u001b[A"
          ]
        },
        {
          "output_type": "stream",
          "name": "stdout",
          "text": [
            "Epoch 176, Train Loss: 0.0475, Test Loss: 0.1944\n"
          ]
        },
        {
          "output_type": "stream",
          "name": "stderr",
          "text": [
            "\n",
            "\n",
            "Training Batches:   0%|          | 0/2 [00:00<?, ?it/s]\u001b[A\u001b[A\n",
            "\n",
            "Training Batches:  50%|█████     | 1/2 [00:09<00:09,  9.09s/it]\u001b[A\u001b[A\n",
            "\n",
            "Training Batches: 100%|██████████| 2/2 [00:18<00:00,  9.03s/it]\u001b[A\u001b[A\n",
            "\n",
            "                                                               \u001b[A\u001b[A\n",
            "\n",
            "Folds: 0it [1:08:09, ?it/s]\n",
            "Fold 1/3 Epochs:  88%|████████▊ | 177/200 [1:08:09<08:48, 22.97s/it]\u001b[A"
          ]
        },
        {
          "output_type": "stream",
          "name": "stdout",
          "text": [
            "Epoch 177, Train Loss: 0.0479, Test Loss: 0.1822\n"
          ]
        },
        {
          "output_type": "stream",
          "name": "stderr",
          "text": [
            "\n",
            "\n",
            "Training Batches:   0%|          | 0/2 [00:00<?, ?it/s]\u001b[A\u001b[A\n",
            "\n",
            "Training Batches:  50%|█████     | 1/2 [00:08<00:08,  8.85s/it]\u001b[A\u001b[A\n",
            "\n",
            "Training Batches: 100%|██████████| 2/2 [00:18<00:00,  9.11s/it]\u001b[A\u001b[A\n",
            "\n",
            "                                                               \u001b[A\u001b[A\n",
            "\n",
            "Folds: 0it [1:08:32, ?it/s]\n",
            "Fold 1/3 Epochs:  89%|████████▉ | 178/200 [1:08:32<08:24, 22.92s/it]\u001b[A"
          ]
        },
        {
          "output_type": "stream",
          "name": "stdout",
          "text": [
            "Epoch 178, Train Loss: 0.0478, Test Loss: 0.1794\n"
          ]
        },
        {
          "output_type": "stream",
          "name": "stderr",
          "text": [
            "\n",
            "\n",
            "Training Batches:   0%|          | 0/2 [00:00<?, ?it/s]\u001b[A\u001b[A\n",
            "\n",
            "Training Batches:  50%|█████     | 1/2 [00:09<00:09,  9.11s/it]\u001b[A\u001b[A\n",
            "\n",
            "Training Batches: 100%|██████████| 2/2 [00:18<00:00,  9.43s/it]\u001b[A\u001b[A\n",
            "\n",
            "                                                               \u001b[A\u001b[A\n",
            "\n",
            "Folds: 0it [1:08:55, ?it/s]\n",
            "Fold 1/3 Epochs:  90%|████████▉ | 179/200 [1:08:55<08:02, 22.99s/it]\u001b[A"
          ]
        },
        {
          "output_type": "stream",
          "name": "stdout",
          "text": [
            "Epoch 179, Train Loss: 0.0407, Test Loss: 0.1915\n"
          ]
        },
        {
          "output_type": "stream",
          "name": "stderr",
          "text": [
            "\n",
            "\n",
            "Training Batches:   0%|          | 0/2 [00:00<?, ?it/s]\u001b[A\u001b[A\n",
            "\n",
            "Training Batches:  50%|█████     | 1/2 [00:09<00:09,  9.40s/it]\u001b[A\u001b[A\n",
            "\n",
            "Training Batches: 100%|██████████| 2/2 [00:18<00:00,  9.37s/it]\u001b[A\u001b[A\n",
            "\n",
            "                                                               \u001b[A\u001b[A\n",
            "\n",
            "Folds: 0it [1:09:19, ?it/s]\n",
            "Fold 1/3 Epochs:  90%|█████████ | 180/200 [1:09:19<07:40, 23.03s/it]\u001b[A"
          ]
        },
        {
          "output_type": "stream",
          "name": "stdout",
          "text": [
            "Epoch 180, Train Loss: 0.0399, Test Loss: 0.1858\n"
          ]
        },
        {
          "output_type": "stream",
          "name": "stderr",
          "text": [
            "\n",
            "\n",
            "Training Batches:   0%|          | 0/2 [00:00<?, ?it/s]\u001b[A\u001b[A\n",
            "\n",
            "Training Batches:  50%|█████     | 1/2 [00:09<00:09,  9.40s/it]\u001b[A\u001b[A\n",
            "\n",
            "Training Batches: 100%|██████████| 2/2 [00:18<00:00,  9.42s/it]\u001b[A\u001b[A\n",
            "\n",
            "                                                               \u001b[A\u001b[A\n",
            "\n",
            "Folds: 0it [1:09:42, ?it/s]\n",
            "Fold 1/3 Epochs:  90%|█████████ | 181/200 [1:09:42<07:18, 23.08s/it]\u001b[A"
          ]
        },
        {
          "output_type": "stream",
          "name": "stdout",
          "text": [
            "Epoch 181, Train Loss: 0.0411, Test Loss: 0.1906\n"
          ]
        },
        {
          "output_type": "stream",
          "name": "stderr",
          "text": [
            "\n",
            "\n",
            "Training Batches:   0%|          | 0/2 [00:00<?, ?it/s]\u001b[A\u001b[A\n",
            "\n",
            "Training Batches:  50%|█████     | 1/2 [00:09<00:09,  9.28s/it]\u001b[A\u001b[A\n",
            "\n",
            "Training Batches: 100%|██████████| 2/2 [00:18<00:00,  9.25s/it]\u001b[A\u001b[A\n",
            "\n",
            "                                                               \u001b[A\u001b[A\n",
            "\n",
            "Folds: 0it [1:10:04, ?it/s]\n",
            "Fold 1/3 Epochs:  91%|█████████ | 182/200 [1:10:04<06:53, 22.99s/it]\u001b[A"
          ]
        },
        {
          "output_type": "stream",
          "name": "stdout",
          "text": [
            "Epoch 182, Train Loss: 0.0397, Test Loss: 0.1788\n"
          ]
        },
        {
          "output_type": "stream",
          "name": "stderr",
          "text": [
            "\n",
            "\n",
            "Training Batches:   0%|          | 0/2 [00:00<?, ?it/s]\u001b[A\u001b[A\n",
            "\n",
            "Training Batches:  50%|█████     | 1/2 [00:09<00:09,  9.29s/it]\u001b[A\u001b[A\n",
            "\n",
            "Training Batches: 100%|██████████| 2/2 [00:18<00:00,  9.27s/it]\u001b[A\u001b[A\n",
            "\n",
            "                                                               \u001b[A\u001b[A\n",
            "\n",
            "Folds: 0it [1:10:27, ?it/s]\n",
            "Fold 1/3 Epochs:  92%|█████████▏| 183/200 [1:10:27<06:29, 22.93s/it]\u001b[A"
          ]
        },
        {
          "output_type": "stream",
          "name": "stdout",
          "text": [
            "Epoch 183, Train Loss: 0.0414, Test Loss: 0.1852\n"
          ]
        },
        {
          "output_type": "stream",
          "name": "stderr",
          "text": [
            "\n",
            "\n",
            "Training Batches:   0%|          | 0/2 [00:00<?, ?it/s]\u001b[A\u001b[A\n",
            "\n",
            "Training Batches:  50%|█████     | 1/2 [00:09<00:09,  9.25s/it]\u001b[A\u001b[A\n",
            "\n",
            "Training Batches: 100%|██████████| 2/2 [00:18<00:00,  8.98s/it]\u001b[A\u001b[A\n",
            "\n",
            "                                                               \u001b[A\u001b[A\n",
            "\n",
            "Folds: 0it [1:10:50, ?it/s]\n",
            "Fold 1/3 Epochs:  92%|█████████▏| 184/200 [1:10:50<06:05, 22.87s/it]\u001b[A"
          ]
        },
        {
          "output_type": "stream",
          "name": "stdout",
          "text": [
            "Epoch 184, Train Loss: 0.0425, Test Loss: 0.1876\n"
          ]
        },
        {
          "output_type": "stream",
          "name": "stderr",
          "text": [
            "\n",
            "\n",
            "Training Batches:   0%|          | 0/2 [00:00<?, ?it/s]\u001b[A\u001b[A\n",
            "\n",
            "Training Batches:  50%|█████     | 1/2 [00:09<00:09,  9.15s/it]\u001b[A\u001b[A\n",
            "\n",
            "Training Batches: 100%|██████████| 2/2 [00:17<00:00,  8.85s/it]\u001b[A\u001b[A\n",
            "\n",
            "                                                               \u001b[A\u001b[A\n",
            "\n",
            "Folds: 0it [1:11:13, ?it/s]\n",
            "Fold 1/3 Epochs:  92%|█████████▎| 185/200 [1:11:13<05:41, 22.77s/it]\u001b[A"
          ]
        },
        {
          "output_type": "stream",
          "name": "stdout",
          "text": [
            "Epoch 185, Train Loss: 0.0361, Test Loss: 0.1797\n"
          ]
        },
        {
          "output_type": "stream",
          "name": "stderr",
          "text": [
            "\n",
            "\n",
            "Training Batches:   0%|          | 0/2 [00:00<?, ?it/s]\u001b[A\u001b[A\n",
            "\n",
            "Training Batches:  50%|█████     | 1/2 [00:08<00:08,  8.68s/it]\u001b[A\u001b[A\n",
            "\n",
            "Training Batches: 100%|██████████| 2/2 [00:17<00:00,  8.95s/it]\u001b[A\u001b[A\n",
            "\n",
            "                                                               \u001b[A\u001b[A\n",
            "\n",
            "Folds: 0it [1:11:35, ?it/s]\n",
            "Fold 1/3 Epochs:  93%|█████████▎| 186/200 [1:11:35<05:17, 22.66s/it]\u001b[A"
          ]
        },
        {
          "output_type": "stream",
          "name": "stdout",
          "text": [
            "Epoch 186, Train Loss: 0.0382, Test Loss: 0.1900\n"
          ]
        },
        {
          "output_type": "stream",
          "name": "stderr",
          "text": [
            "\n",
            "\n",
            "Training Batches:   0%|          | 0/2 [00:00<?, ?it/s]\u001b[A\u001b[A\n",
            "\n",
            "Training Batches:  50%|█████     | 1/2 [00:08<00:08,  8.84s/it]\u001b[A\u001b[A\n",
            "\n",
            "Training Batches: 100%|██████████| 2/2 [00:18<00:00,  9.05s/it]\u001b[A\u001b[A\n",
            "\n",
            "                                                               \u001b[A\u001b[A\n",
            "\n",
            "Folds: 0it [1:11:57, ?it/s]\n",
            "Fold 1/3 Epochs:  94%|█████████▎| 187/200 [1:11:57<04:52, 22.54s/it]\u001b[A"
          ]
        },
        {
          "output_type": "stream",
          "name": "stdout",
          "text": [
            "Epoch 187, Train Loss: 0.0409, Test Loss: 0.1841\n"
          ]
        },
        {
          "output_type": "stream",
          "name": "stderr",
          "text": [
            "\n",
            "\n",
            "Training Batches:   0%|          | 0/2 [00:00<?, ?it/s]\u001b[A\u001b[A\n",
            "\n",
            "Training Batches:  50%|█████     | 1/2 [00:09<00:09,  9.24s/it]\u001b[A\u001b[A\n",
            "\n",
            "Training Batches: 100%|██████████| 2/2 [00:18<00:00,  9.26s/it]\u001b[A\u001b[A\n",
            "\n",
            "                                                               \u001b[A\u001b[A\n",
            "\n",
            "Folds: 0it [1:12:20, ?it/s]\n",
            "Fold 1/3 Epochs:  94%|█████████▍| 188/200 [1:12:20<04:31, 22.63s/it]\u001b[A"
          ]
        },
        {
          "output_type": "stream",
          "name": "stdout",
          "text": [
            "Epoch 188, Train Loss: 0.0388, Test Loss: 0.1860\n"
          ]
        },
        {
          "output_type": "stream",
          "name": "stderr",
          "text": [
            "\n",
            "\n",
            "Training Batches:   0%|          | 0/2 [00:00<?, ?it/s]\u001b[A\u001b[A\n",
            "\n",
            "Training Batches:  50%|█████     | 1/2 [00:09<00:09,  9.31s/it]\u001b[A\u001b[A\n",
            "\n",
            "Training Batches: 100%|██████████| 2/2 [00:18<00:00,  9.33s/it]\u001b[A\u001b[A\n",
            "\n",
            "                                                               \u001b[A\u001b[A\n",
            "\n",
            "Folds: 0it [1:12:43, ?it/s]\n",
            "Fold 1/3 Epochs:  94%|█████████▍| 189/200 [1:12:43<04:10, 22.74s/it]\u001b[A"
          ]
        },
        {
          "output_type": "stream",
          "name": "stdout",
          "text": [
            "Epoch 189, Train Loss: 0.0376, Test Loss: 0.1805\n"
          ]
        },
        {
          "output_type": "stream",
          "name": "stderr",
          "text": [
            "\n",
            "\n",
            "Training Batches:   0%|          | 0/2 [00:00<?, ?it/s]\u001b[A\u001b[A\n",
            "\n",
            "Training Batches:  50%|█████     | 1/2 [00:09<00:09,  9.36s/it]\u001b[A\u001b[A\n",
            "\n",
            "Training Batches: 100%|██████████| 2/2 [00:18<00:00,  9.30s/it]\u001b[A\u001b[A\n",
            "\n",
            "                                                               \u001b[A\u001b[A\n",
            "\n",
            "Folds: 0it [1:13:06, ?it/s]\n",
            "Fold 1/3 Epochs:  95%|█████████▌| 190/200 [1:13:06<03:47, 22.79s/it]\u001b[A"
          ]
        },
        {
          "output_type": "stream",
          "name": "stdout",
          "text": [
            "Epoch 190, Train Loss: 0.0387, Test Loss: 0.1766\n"
          ]
        },
        {
          "output_type": "stream",
          "name": "stderr",
          "text": [
            "\n",
            "\n",
            "Training Batches:   0%|          | 0/2 [00:00<?, ?it/s]\u001b[A\u001b[A\n",
            "\n",
            "Training Batches:  50%|█████     | 1/2 [00:09<00:09,  9.27s/it]\u001b[A\u001b[A\n",
            "\n",
            "Training Batches: 100%|██████████| 2/2 [00:18<00:00,  9.09s/it]\u001b[A\u001b[A\n",
            "\n",
            "                                                               \u001b[A\u001b[A\n",
            "\n",
            "Folds: 0it [1:13:29, ?it/s]\n",
            "Fold 1/3 Epochs:  96%|█████████▌| 191/200 [1:13:29<03:25, 22.79s/it]\u001b[A"
          ]
        },
        {
          "output_type": "stream",
          "name": "stdout",
          "text": [
            "Epoch 191, Train Loss: 0.0377, Test Loss: 0.1889\n"
          ]
        },
        {
          "output_type": "stream",
          "name": "stderr",
          "text": [
            "\n",
            "\n",
            "Training Batches:   0%|          | 0/2 [00:00<?, ?it/s]\u001b[A\u001b[A\n",
            "\n",
            "Training Batches:  50%|█████     | 1/2 [00:09<00:09,  9.26s/it]\u001b[A\u001b[A\n",
            "\n",
            "Training Batches: 100%|██████████| 2/2 [00:17<00:00,  8.94s/it]\u001b[A\u001b[A\n",
            "\n",
            "                                                               \u001b[A\u001b[A\n",
            "\n",
            "Folds: 0it [1:13:51, ?it/s]\n",
            "Fold 1/3 Epochs:  96%|█████████▌| 192/200 [1:13:51<03:02, 22.78s/it]\u001b[A"
          ]
        },
        {
          "output_type": "stream",
          "name": "stdout",
          "text": [
            "Epoch 192, Train Loss: 0.0352, Test Loss: 0.1803\n"
          ]
        },
        {
          "output_type": "stream",
          "name": "stderr",
          "text": [
            "\n",
            "\n",
            "Training Batches:   0%|          | 0/2 [00:00<?, ?it/s]\u001b[A\u001b[A\n",
            "\n",
            "Training Batches:  50%|█████     | 1/2 [00:08<00:08,  8.87s/it]\u001b[A\u001b[A\n",
            "\n",
            "Training Batches: 100%|██████████| 2/2 [00:17<00:00,  8.95s/it]\u001b[A\u001b[A\n",
            "\n",
            "                                                               \u001b[A\u001b[A\n",
            "\n",
            "Folds: 0it [1:14:14, ?it/s]\n",
            "Fold 1/3 Epochs:  96%|█████████▋| 193/200 [1:14:14<02:39, 22.73s/it]\u001b[A"
          ]
        },
        {
          "output_type": "stream",
          "name": "stdout",
          "text": [
            "Epoch 193, Train Loss: 0.0348, Test Loss: 0.1812\n"
          ]
        },
        {
          "output_type": "stream",
          "name": "stderr",
          "text": [
            "\n",
            "\n",
            "Training Batches:   0%|          | 0/2 [00:00<?, ?it/s]\u001b[A\u001b[A\n",
            "\n",
            "Training Batches:  50%|█████     | 1/2 [00:08<00:08,  8.77s/it]\u001b[A\u001b[A\n",
            "\n",
            "Training Batches: 100%|██████████| 2/2 [00:18<00:00,  9.08s/it]\u001b[A\u001b[A\n",
            "\n",
            "                                                               \u001b[A\u001b[A\n",
            "\n",
            "Folds: 0it [1:14:37, ?it/s]\n",
            "Fold 1/3 Epochs:  97%|█████████▋| 194/200 [1:14:37<02:15, 22.65s/it]\u001b[A"
          ]
        },
        {
          "output_type": "stream",
          "name": "stdout",
          "text": [
            "Epoch 194, Train Loss: 0.0352, Test Loss: 0.1766\n"
          ]
        },
        {
          "output_type": "stream",
          "name": "stderr",
          "text": [
            "\n",
            "\n",
            "Training Batches:   0%|          | 0/2 [00:00<?, ?it/s]\u001b[A\u001b[A\n",
            "\n",
            "Training Batches:  50%|█████     | 1/2 [00:09<00:09,  9.07s/it]\u001b[A\u001b[A\n",
            "\n",
            "Training Batches: 100%|██████████| 2/2 [00:18<00:00,  9.14s/it]\u001b[A\u001b[A\n",
            "\n",
            "                                                               \u001b[A\u001b[A\n",
            "\n",
            "Folds: 0it [1:14:59, ?it/s]\n",
            "Fold 1/3 Epochs:  98%|█████████▊| 195/200 [1:14:59<01:53, 22.61s/it]\u001b[A"
          ]
        },
        {
          "output_type": "stream",
          "name": "stdout",
          "text": [
            "Epoch 195, Train Loss: 0.0362, Test Loss: 0.1799\n"
          ]
        },
        {
          "output_type": "stream",
          "name": "stderr",
          "text": [
            "\n",
            "\n",
            "Training Batches:   0%|          | 0/2 [00:00<?, ?it/s]\u001b[A\u001b[A\n",
            "\n",
            "Training Batches:  50%|█████     | 1/2 [00:09<00:09,  9.22s/it]\u001b[A\u001b[A\n",
            "\n",
            "Training Batches: 100%|██████████| 2/2 [00:18<00:00,  9.23s/it]\u001b[A\u001b[A\n",
            "\n",
            "                                                               \u001b[A\u001b[A\n",
            "\n",
            "Folds: 0it [1:15:22, ?it/s]\n",
            "Fold 1/3 Epochs:  98%|█████████▊| 196/200 [1:15:22<01:30, 22.65s/it]\u001b[A"
          ]
        },
        {
          "output_type": "stream",
          "name": "stdout",
          "text": [
            "Epoch 196, Train Loss: 0.0328, Test Loss: 0.1875\n"
          ]
        },
        {
          "output_type": "stream",
          "name": "stderr",
          "text": [
            "\n",
            "\n",
            "Training Batches:   0%|          | 0/2 [00:00<?, ?it/s]\u001b[A\u001b[A\n",
            "\n",
            "Training Batches:  50%|█████     | 1/2 [00:09<00:09,  9.26s/it]\u001b[A\u001b[A\n",
            "\n",
            "Training Batches: 100%|██████████| 2/2 [00:18<00:00,  9.25s/it]\u001b[A\u001b[A\n",
            "\n",
            "                                                               \u001b[A\u001b[A\n",
            "\n",
            "Folds: 0it [1:15:45, ?it/s]\n",
            "Fold 1/3 Epochs:  98%|█████████▊| 197/200 [1:15:45<01:08, 22.69s/it]\u001b[A"
          ]
        },
        {
          "output_type": "stream",
          "name": "stdout",
          "text": [
            "Epoch 197, Train Loss: 0.0339, Test Loss: 0.1820\n"
          ]
        },
        {
          "output_type": "stream",
          "name": "stderr",
          "text": [
            "\n",
            "\n",
            "Training Batches:   0%|          | 0/2 [00:00<?, ?it/s]\u001b[A\u001b[A\n",
            "\n",
            "Training Batches:  50%|█████     | 1/2 [00:09<00:09,  9.28s/it]\u001b[A\u001b[A\n",
            "\n",
            "Training Batches: 100%|██████████| 2/2 [00:18<00:00,  9.10s/it]\u001b[A\u001b[A\n",
            "\n",
            "                                                               \u001b[A\u001b[A\n",
            "\n",
            "Folds: 0it [1:16:07, ?it/s]\n",
            "Fold 1/3 Epochs:  99%|█████████▉| 198/200 [1:16:07<00:45, 22.66s/it]\u001b[A"
          ]
        },
        {
          "output_type": "stream",
          "name": "stdout",
          "text": [
            "Epoch 198, Train Loss: 0.0370, Test Loss: 0.1862\n"
          ]
        },
        {
          "output_type": "stream",
          "name": "stderr",
          "text": [
            "\n",
            "\n",
            "Training Batches:   0%|          | 0/2 [00:00<?, ?it/s]\u001b[A\u001b[A\n",
            "\n",
            "Training Batches:  50%|█████     | 1/2 [00:09<00:09,  9.14s/it]\u001b[A\u001b[A\n",
            "\n",
            "Training Batches: 100%|██████████| 2/2 [00:17<00:00,  8.82s/it]\u001b[A\u001b[A\n",
            "\n",
            "                                                               \u001b[A\u001b[A\n",
            "\n",
            "Folds: 0it [1:16:30, ?it/s]\n",
            "Fold 1/3 Epochs: 100%|█████████▉| 199/200 [1:16:30<00:22, 22.60s/it]\u001b[A"
          ]
        },
        {
          "output_type": "stream",
          "name": "stdout",
          "text": [
            "Epoch 199, Train Loss: 0.0355, Test Loss: 0.1832\n"
          ]
        },
        {
          "output_type": "stream",
          "name": "stderr",
          "text": [
            "\n",
            "\n",
            "Training Batches:   0%|          | 0/2 [00:00<?, ?it/s]\u001b[A\u001b[A\n",
            "\n",
            "Training Batches:  50%|█████     | 1/2 [00:08<00:08,  8.89s/it]\u001b[A\u001b[A\n",
            "\n",
            "Training Batches: 100%|██████████| 2/2 [00:17<00:00,  8.87s/it]\u001b[A\u001b[A\n",
            "\n",
            "                                                               \u001b[A\u001b[A\n",
            "\n",
            "Folds: 0it [1:16:52, ?it/s]\n",
            "Fold 1/3 Epochs: 100%|██████████| 200/200 [1:16:52<00:00, 22.56s/it]\u001b[A\n",
            "Folds: 0it [1:16:52, ?it/s]"
          ]
        },
        {
          "output_type": "stream",
          "name": "stdout",
          "text": [
            "Epoch 200, Train Loss: 0.0361, Test Loss: 0.1906\n",
            "Fold 1 Best HuberLoss: 0.1766\n"
          ]
        },
        {
          "output_type": "display_data",
          "data": {
            "text/plain": [
              "<IPython.core.display.Javascript object>"
            ],
            "application/javascript": [
              "\n",
              "    async function download(id, filename, size) {\n",
              "      if (!google.colab.kernel.accessAllowed) {\n",
              "        return;\n",
              "      }\n",
              "      const div = document.createElement('div');\n",
              "      const label = document.createElement('label');\n",
              "      label.textContent = `Downloading \"${filename}\": `;\n",
              "      div.appendChild(label);\n",
              "      const progress = document.createElement('progress');\n",
              "      progress.max = size;\n",
              "      div.appendChild(progress);\n",
              "      document.body.appendChild(div);\n",
              "\n",
              "      const buffers = [];\n",
              "      let downloaded = 0;\n",
              "\n",
              "      const channel = await google.colab.kernel.comms.open(id);\n",
              "      // Send a message to notify the kernel that we're ready.\n",
              "      channel.send({})\n",
              "\n",
              "      for await (const message of channel.messages) {\n",
              "        // Send a message to notify the kernel that we're ready.\n",
              "        channel.send({})\n",
              "        if (message.buffers) {\n",
              "          for (const buffer of message.buffers) {\n",
              "            buffers.push(buffer);\n",
              "            downloaded += buffer.byteLength;\n",
              "            progress.value = downloaded;\n",
              "          }\n",
              "        }\n",
              "      }\n",
              "      const blob = new Blob(buffers, {type: 'application/binary'});\n",
              "      const a = document.createElement('a');\n",
              "      a.href = window.URL.createObjectURL(blob);\n",
              "      a.download = filename;\n",
              "      div.appendChild(a);\n",
              "      a.click();\n",
              "      div.remove();\n",
              "    }\n",
              "  "
            ]
          },
          "metadata": {}
        },
        {
          "output_type": "display_data",
          "data": {
            "text/plain": [
              "<IPython.core.display.Javascript object>"
            ],
            "application/javascript": [
              "download(\"download_ceaf5adc-3ff9-4c71-be83-3047f88f164e\", \"best_state_fold_0.pt\", 1346812)"
            ]
          },
          "metadata": {}
        },
        {
          "output_type": "stream",
          "name": "stderr",
          "text": [
            "Folds: 1it [1:16:52, 4612.64s/it]\n"
          ]
        }
      ]
    },
    {
      "cell_type": "code",
      "source": [
        "# import os\n",
        "\n",
        "# os.makedirs('/content/fold_best_states', exist_ok=True)\n",
        "\n",
        "# for i in range(len(best_states)):  # for folds 0, 1, 2\n",
        "#     torch.save(best_states[i], f'/content/fold_best_states/best_state_fold_{i}.pt')"
      ],
      "metadata": {
        "id": "5D-DKSnO19t-"
      },
      "id": "5D-DKSnO19t-",
      "execution_count": null,
      "outputs": []
    },
    {
      "cell_type": "code",
      "source": [
        "# 1) Rebuild each fold’s model and load its weights\n",
        "device = torch.device('cuda' if torch.cuda.is_available() else 'cpu')\n",
        "ensemble_models = []\n",
        "for state_dict in best_states:\n",
        "    m = SimulatedGNN(\n",
        "    original_node_feat_dim=original_node_features_dim,\n",
        "    edge_channels=edge_feature_channels,\n",
        "    aggregated_edge_feat_dim=aggregated_edge_features_dim,\n",
        "    hidden_gcn_dim=gcn_hidden_dimension,\n",
        "    out_channels=output_dimension\n",
        "    )\n",
        "    m.load_state_dict(state_dict)     # state_dict stored on CPU\n",
        "    m.to(device)\n",
        "    m.eval()                          # important for things like dropout/batchnorm\n",
        "    ensemble_models.append(m)\n",
        "\n",
        "# 2) Evaluate ensemble on your test set\n",
        "criterion = nn.HuberLoss(reduction='sum')\n",
        "total_se = 0.0\n",
        "total_n  = 0\n",
        "\n",
        "with torch.no_grad():\n",
        "    for batch in test_loader:\n",
        "        batch = batch.to(device)\n",
        "        # collect each model's predictions: list of tensors shape [batch_size, ...]\n",
        "        preds = [m(batch) for m in ensemble_models]\n",
        "        # stack into shape [n_models, batch_size, ...]\n",
        "        stacked = torch.stack(preds, dim=0)\n",
        "        # average across the model‐axis → [batch_size, ...]\n",
        "        mean_pred = stacked.mean(dim=0)\n",
        "\n",
        "        # accumulate squared error\n",
        "        se = (mean_pred - batch.y).pow(2).sum().item()\n",
        "        total_se += se\n",
        "        # count number of target elements (or graphs) in this batch\n",
        "        # if regression output is a vector per graph:\n",
        "        total_n += batch.y.numel()\n",
        "\n",
        "# 3) Compute final HuberLoss\n",
        "ensemble_mse = total_se / total_n\n",
        "print(f\"Ensemble Test HuberLoss: {ensemble_mse:.4f}\")"
      ],
      "metadata": {
        "id": "U7qonimz1mlv",
        "colab": {
          "base_uri": "https://localhost:8080/"
        },
        "outputId": "d4183a4a-3ca9-4987-e8c5-c1ca5ef35c42"
      },
      "id": "U7qonimz1mlv",
      "execution_count": null,
      "outputs": [
        {
          "output_type": "stream",
          "name": "stdout",
          "text": [
            "Ensemble Test HuberLoss: 0.7283\n"
          ]
        }
      ]
    },
    {
      "cell_type": "code",
      "source": [
        "import numpy as np\n",
        "from scipy.stats import pearsonr\n",
        "from sklearn.metrics import r2_score\n",
        "import matplotlib.pyplot as plt\n",
        "\n",
        "device = torch.device('cuda' if torch.cuda.is_available() else 'cpu')\n",
        "\n",
        "# ── 1.  Ensemble predictions ────────────────────────────────────────────\n",
        "all_preds, all_trues = [], []\n",
        "\n",
        "with torch.no_grad():\n",
        "    for batch in test_loader:\n",
        "        batch = batch.to(device)\n",
        "\n",
        "        # gather each model’s output\n",
        "        outs = [m(batch) for m in ensemble_models]          # list[Tensor, …]\n",
        "        mean_out = torch.stack(outs, dim=0).mean(dim=0)     # [batch_size, n_targets]\n",
        "\n",
        "        all_preds.append(mean_out.cpu())\n",
        "        all_trues.append(batch.y.cpu())\n",
        "\n",
        "preds = torch.cat(all_preds, dim=0)\n",
        "trues = torch.cat(all_trues, dim=0)\n",
        "\n",
        "# ── 2.  Un‑normalize ────────────────────────────────────────────────────\n",
        "preds = preds * y_std + y_mean\n",
        "trues = trues * y_std + y_mean\n",
        "\n",
        "preds = preds.numpy()\n",
        "trues = trues.numpy()\n",
        "\n",
        "labels = [\"TAWSS\", \"OSI\"]\n",
        "\n",
        "for i, lbl in enumerate(labels):\n",
        "    y_true = trues[:, i]\n",
        "    y_pred = preds[:, i]\n",
        "\n",
        "    # ---- least‑squares line ----\n",
        "    slope, intercept = np.polyfit(y_true, y_pred, deg=1)\n",
        "    line = slope * y_true + intercept\n",
        "\n",
        "    # ---- metrics ----\n",
        "    r,  _ = pearsonr(y_true, y_pred)\n",
        "    r2     = r2_score(y_true, y_pred)\n",
        "\n",
        "    print(f\"\\n{lbl}\")\n",
        "    print(f\"  slope      = {slope:.3f}\")\n",
        "    print(f\"  intercept  = {intercept:.3f}\")\n",
        "    print(f\"  Pearson r  = {r:.3f}\")\n",
        "    print(f\"  R²         = {r2:.3f}\")\n",
        "\n",
        "    # ---- plot ----\n",
        "    plt.figure(figsize=(6, 5))\n",
        "    plt.scatter(y_true, y_pred, alpha=0.3)\n",
        "    plt.plot(y_true, line, color=\"red\", linewidth=2, label=\"best‑fit\")   # ← red line\n",
        "    mn, mx = y_true.min(), y_true.max()\n",
        "    plt.plot([mn, mx], [mn, mx], linestyle=\"--\", label=\"ideal\")          # y = x\n",
        "    plt.xlabel(f\"True {lbl}\")\n",
        "    plt.ylabel(f\"Pred {lbl}\")\n",
        "    plt.title(f\"Ensemble GNN {lbl} Prediction\\n\"\n",
        "              f\"r = {r:.3f}, R² = {r2:.3f}\")\n",
        "    plt.legend()\n",
        "    plt.tight_layout()\n",
        "    plt.show()\n"
      ],
      "metadata": {
        "id": "eATwDx-_4XFQ",
        "colab": {
          "base_uri": "https://localhost:8080/",
          "height": 1000
        },
        "outputId": "38a3a5bb-d871-4996-f50e-34ff4cc869ef"
      },
      "id": "eATwDx-_4XFQ",
      "execution_count": null,
      "outputs": [
        {
          "output_type": "stream",
          "name": "stdout",
          "text": [
            "\n",
            "TAWSS\n",
            "  slope      = 0.718\n",
            "  intercept  = 0.001\n",
            "  Pearson r  = 0.919\n",
            "  R²         = 0.816\n"
          ]
        },
        {
          "output_type": "display_data",
          "data": {
            "text/plain": [
              "<Figure size 600x500 with 1 Axes>"
            ],
            "image/png": "[encoded data removed]"
          },
          "metadata": {}
        },
        {
          "output_type": "stream",
          "name": "stdout",
          "text": [
            "\n",
            "OSI\n",
            "  slope      = 0.260\n",
            "  intercept  = 0.016\n",
            "  Pearson r  = 0.343\n",
            "  R²         = -0.072\n"
          ]
        },
        {
          "output_type": "display_data",
          "data": {
            "text/plain": [
              "<Figure size 600x500 with 1 Axes>"
            ],
            "image/png": "[encoded data removed]"
          },
          "metadata": {}
        }
      ]
    }
  ],
  "metadata": {
    "kernelspec": {
      "display_name": "Python 3",
      "name": "python3"
    },
    "language_info": {
      "codemirror_mode": {
        "name": "ipython",
        "version": 3
      },
      "file_extension": ".py",
      "mimetype": "text/x-python",
      "name": "python",
      "nbconvert_exporter": "python",
      "pygments_lexer": "ipython3",
      "version": "3.11.5"
    },
    "colab": {
      "provenance": [],
      "gpuType": "T4"
    },
    "accelerator": "GPU"
  },
  "nbformat": 4,
  "nbformat_minor": 5
}